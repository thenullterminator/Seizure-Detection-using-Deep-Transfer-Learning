{
  "nbformat": 4,
  "nbformat_minor": 0,
  "metadata": {
    "colab": {
      "name": "Plot_Images.ipynb",
      "provenance": [],
      "collapsed_sections": [],
      "machine_shape": "hm"
    },
    "kernelspec": {
      "name": "python3",
      "display_name": "Python 3"
    }
  },
  "cells": [
    {
      "cell_type": "code",
      "metadata": {
        "id": "RyEok0lE2r0M",
        "colab": {
          "base_uri": "https://localhost:8080/",
          "height": 34
        },
        "outputId": "3283bd67-0d41-4082-d14a-25813ca1ea0a"
      },
      "source": [
        "from google.colab import drive\n",
        "drive.mount('/content/drive', force_remount=True)"
      ],
      "execution_count": null,
      "outputs": [
        {
          "output_type": "stream",
          "text": [
            "Mounted at /content/drive\n"
          ],
          "name": "stdout"
        }
      ]
    },
    {
      "cell_type": "code",
      "metadata": {
        "id": "6SEhm7rqmxUM",
        "colab": {
          "base_uri": "https://localhost:8080/",
          "height": 1000
        },
        "outputId": "a5708de0-c545-4660-80e5-4c48b0cf021f"
      },
      "source": [
        "!pip install matplotlib pandas numpy scipy seaborn mne\n",
        "!pip install beautifulsoup4 requests wget\n",
        "!pip install h5py tables kaggle\n",
        "!pip install wfdb pyEDFlib"
      ],
      "execution_count": null,
      "outputs": [
        {
          "output_type": "stream",
          "text": [
            "Requirement already satisfied: matplotlib in /usr/local/lib/python3.6/dist-packages (3.2.2)\n",
            "Requirement already satisfied: pandas in /usr/local/lib/python3.6/dist-packages (1.1.3)\n",
            "Requirement already satisfied: numpy in /usr/local/lib/python3.6/dist-packages (1.18.5)\n",
            "Requirement already satisfied: scipy in /usr/local/lib/python3.6/dist-packages (1.4.1)\n",
            "Requirement already satisfied: seaborn in /usr/local/lib/python3.6/dist-packages (0.11.0)\n",
            "Requirement already satisfied: mne in /usr/local/lib/python3.6/dist-packages (0.21.0)\n",
            "Requirement already satisfied: cycler>=0.10 in /usr/local/lib/python3.6/dist-packages (from matplotlib) (0.10.0)\n",
            "Requirement already satisfied: kiwisolver>=1.0.1 in /usr/local/lib/python3.6/dist-packages (from matplotlib) (1.2.0)\n",
            "Requirement already satisfied: pyparsing!=2.0.4,!=2.1.2,!=2.1.6,>=2.0.1 in /usr/local/lib/python3.6/dist-packages (from matplotlib) (2.4.7)\n",
            "Requirement already satisfied: python-dateutil>=2.1 in /usr/local/lib/python3.6/dist-packages (from matplotlib) (2.8.1)\n",
            "Requirement already satisfied: pytz>=2017.2 in /usr/local/lib/python3.6/dist-packages (from pandas) (2018.9)\n",
            "Requirement already satisfied: six in /usr/local/lib/python3.6/dist-packages (from cycler>=0.10->matplotlib) (1.15.0)\n",
            "Requirement already satisfied: beautifulsoup4 in /usr/local/lib/python3.6/dist-packages (4.6.3)\n",
            "Requirement already satisfied: requests in /usr/local/lib/python3.6/dist-packages (2.23.0)\n",
            "Requirement already satisfied: wget in /usr/local/lib/python3.6/dist-packages (3.2)\n",
            "Requirement already satisfied: chardet<4,>=3.0.2 in /usr/local/lib/python3.6/dist-packages (from requests) (3.0.4)\n",
            "Requirement already satisfied: certifi>=2017.4.17 in /usr/local/lib/python3.6/dist-packages (from requests) (2020.6.20)\n",
            "Requirement already satisfied: urllib3!=1.25.0,!=1.25.1,<1.26,>=1.21.1 in /usr/local/lib/python3.6/dist-packages (from requests) (1.24.3)\n",
            "Requirement already satisfied: idna<3,>=2.5 in /usr/local/lib/python3.6/dist-packages (from requests) (2.10)\n",
            "Requirement already satisfied: h5py in /usr/local/lib/python3.6/dist-packages (2.10.0)\n",
            "Requirement already satisfied: tables in /usr/local/lib/python3.6/dist-packages (3.4.4)\n",
            "Requirement already satisfied: kaggle in /usr/local/lib/python3.6/dist-packages (1.5.9)\n",
            "Requirement already satisfied: six in /usr/local/lib/python3.6/dist-packages (from h5py) (1.15.0)\n",
            "Requirement already satisfied: numpy>=1.7 in /usr/local/lib/python3.6/dist-packages (from h5py) (1.18.5)\n",
            "Requirement already satisfied: numexpr>=2.5.2 in /usr/local/lib/python3.6/dist-packages (from tables) (2.7.1)\n",
            "Requirement already satisfied: certifi in /usr/local/lib/python3.6/dist-packages (from kaggle) (2020.6.20)\n",
            "Requirement already satisfied: urllib3 in /usr/local/lib/python3.6/dist-packages (from kaggle) (1.24.3)\n",
            "Requirement already satisfied: tqdm in /usr/local/lib/python3.6/dist-packages (from kaggle) (4.41.1)\n",
            "Requirement already satisfied: slugify in /usr/local/lib/python3.6/dist-packages (from kaggle) (0.0.1)\n",
            "Requirement already satisfied: requests in /usr/local/lib/python3.6/dist-packages (from kaggle) (2.23.0)\n",
            "Requirement already satisfied: python-slugify in /usr/local/lib/python3.6/dist-packages (from kaggle) (4.0.1)\n",
            "Requirement already satisfied: python-dateutil in /usr/local/lib/python3.6/dist-packages (from kaggle) (2.8.1)\n",
            "Requirement already satisfied: chardet<4,>=3.0.2 in /usr/local/lib/python3.6/dist-packages (from requests->kaggle) (3.0.4)\n",
            "Requirement already satisfied: idna<3,>=2.5 in /usr/local/lib/python3.6/dist-packages (from requests->kaggle) (2.10)\n",
            "Requirement already satisfied: text-unidecode>=1.3 in /usr/local/lib/python3.6/dist-packages (from python-slugify->kaggle) (1.3)\n",
            "Requirement already satisfied: wfdb in /usr/local/lib/python3.6/dist-packages (3.1.1)\n",
            "Requirement already satisfied: pyEDFlib in /usr/local/lib/python3.6/dist-packages (0.1.19)\n",
            "Requirement already satisfied: python-dateutil>=2.4.2 in /usr/local/lib/python3.6/dist-packages (from wfdb) (2.8.1)\n",
            "Requirement already satisfied: six>=0.9.0 in /usr/local/lib/python3.6/dist-packages (from wfdb) (1.15.0)\n",
            "Requirement already satisfied: scipy>=0.17.0 in /usr/local/lib/python3.6/dist-packages (from wfdb) (1.4.1)\n",
            "Requirement already satisfied: sklearn>=0.0 in /usr/local/lib/python3.6/dist-packages (from wfdb) (0.0)\n",
            "Requirement already satisfied: numpy>=1.10.1 in /usr/local/lib/python3.6/dist-packages (from wfdb) (1.18.5)\n",
            "Requirement already satisfied: kiwisolver>=1.1.0 in /usr/local/lib/python3.6/dist-packages (from wfdb) (1.2.0)\n",
            "Requirement already satisfied: pandas>=0.17.0 in /usr/local/lib/python3.6/dist-packages (from wfdb) (1.1.3)\n",
            "Requirement already satisfied: certifi>=2016.8.2 in /usr/local/lib/python3.6/dist-packages (from wfdb) (2020.6.20)\n",
            "Requirement already satisfied: nose>=1.3.7 in /usr/local/lib/python3.6/dist-packages (from wfdb) (1.3.7)\n",
            "Requirement already satisfied: joblib>=0.11 in /usr/local/lib/python3.6/dist-packages (from wfdb) (0.17.0)\n",
            "Requirement already satisfied: pytz>=2018.3 in /usr/local/lib/python3.6/dist-packages (from wfdb) (2018.9)\n",
            "Requirement already satisfied: matplotlib>=2.0.0 in /usr/local/lib/python3.6/dist-packages (from wfdb) (3.2.2)\n",
            "Requirement already satisfied: mne>=0.18.0 in /usr/local/lib/python3.6/dist-packages (from wfdb) (0.21.0)\n",
            "Requirement already satisfied: chardet>=3.0.0 in /usr/local/lib/python3.6/dist-packages (from wfdb) (3.0.4)\n",
            "Requirement already satisfied: requests>=2.8.1 in /usr/local/lib/python3.6/dist-packages (from wfdb) (2.23.0)\n",
            "Requirement already satisfied: cycler>=0.10.0 in /usr/local/lib/python3.6/dist-packages (from wfdb) (0.10.0)\n",
            "Requirement already satisfied: idna>=2.2 in /usr/local/lib/python3.6/dist-packages (from wfdb) (2.10)\n",
            "Requirement already satisfied: scikit-learn>=0.18 in /usr/local/lib/python3.6/dist-packages (from wfdb) (0.22.2.post1)\n",
            "Requirement already satisfied: pyparsing>=2.0.4 in /usr/local/lib/python3.6/dist-packages (from wfdb) (2.4.7)\n",
            "Requirement already satisfied: urllib3>=1.22 in /usr/local/lib/python3.6/dist-packages (from wfdb) (1.24.3)\n",
            "Requirement already satisfied: threadpoolctl>=1.0.0 in /usr/local/lib/python3.6/dist-packages (from wfdb) (2.1.0)\n"
          ],
          "name": "stdout"
        }
      ]
    },
    {
      "cell_type": "markdown",
      "metadata": {
        "id": "q2Zs4Zkfnh5s"
      },
      "source": [
        "Lets create a function to list all the files/directories it finds in a location and save them to a list."
      ]
    },
    {
      "cell_type": "code",
      "metadata": {
        "id": "aMocaNKonk2S"
      },
      "source": [
        "import glob            # for file locations\n",
        "import pprint          # for pretty printing\n",
        "import re\n",
        "\n",
        "pp = pprint.PrettyPrinter()\n",
        "\n",
        "def file_list(folder_path, output=False):\n",
        "    # create an empty list\n",
        "    file_list = []\n",
        "    # for file name in the folder path...\n",
        "    for filename in glob.glob(folder_path):\n",
        "        # ... append it to the list\n",
        "        file_list.append(filename)\n",
        "        \n",
        "    # sort alphabetically\n",
        "    file_list.sort()\n",
        "    \n",
        "    # Output\n",
        "    if output:\n",
        "        print(str(len(file_list)) + \" files found\")\n",
        "        pp.pprint(file_list)\n",
        "    \n",
        "    return file_list"
      ],
      "execution_count": null,
      "outputs": []
    },
    {
      "cell_type": "markdown",
      "metadata": {
        "id": "X3nQabDFgTJG"
      },
      "source": [
        "## Data Information\n",
        "The dataset is stored on Physionet which has some helpful tools to access the data. We are going to use one such package (wfdb) to get a list of the records in the dataset."
      ]
    },
    {
      "cell_type": "code",
      "metadata": {
        "id": "PnBZ4HacSgR4",
        "colab": {
          "base_uri": "https://localhost:8080/",
          "height": 103
        },
        "outputId": "1843093d-c340-44b3-b578-8271d58074dd"
      },
      "source": [
        "import wfdb \n",
        "\n",
        "dbs = wfdb.get_dbs()\n",
        "\n",
        "records_list = wfdb.io.get_record_list('chbmit', records='all')\n",
        "records_list[:5]"
      ],
      "execution_count": null,
      "outputs": [
        {
          "output_type": "execute_result",
          "data": {
            "text/plain": [
              "['chb01/chb01_01.edf',\n",
              " 'chb01/chb01_02.edf',\n",
              " 'chb01/chb01_03.edf',\n",
              " 'chb01/chb01_04.edf',\n",
              " 'chb01/chb01_05.edf']"
            ]
          },
          "metadata": {
            "tags": []
          },
          "execution_count": 4
        }
      ]
    },
    {
      "cell_type": "markdown",
      "metadata": {
        "id": "xiaNHSo4UTpe"
      },
      "source": [
        "Using the above, lets get a list of the unique directory names"
      ]
    },
    {
      "cell_type": "code",
      "metadata": {
        "id": "Zb0Nwi22UVSX",
        "colab": {
          "base_uri": "https://localhost:8080/",
          "height": 431
        },
        "outputId": "96f33f28-a414-4db0-fcd5-a83033da9d66"
      },
      "source": [
        "part_codes = sorted(list(set([record.split('/')[0] for record in records_list])))\n",
        "part_codes"
      ],
      "execution_count": null,
      "outputs": [
        {
          "output_type": "execute_result",
          "data": {
            "text/plain": [
              "['chb01',\n",
              " 'chb02',\n",
              " 'chb03',\n",
              " 'chb04',\n",
              " 'chb05',\n",
              " 'chb06',\n",
              " 'chb07',\n",
              " 'chb08',\n",
              " 'chb09',\n",
              " 'chb10',\n",
              " 'chb11',\n",
              " 'chb12',\n",
              " 'chb13',\n",
              " 'chb14',\n",
              " 'chb15',\n",
              " 'chb16',\n",
              " 'chb17',\n",
              " 'chb18',\n",
              " 'chb19',\n",
              " 'chb20',\n",
              " 'chb21',\n",
              " 'chb22',\n",
              " 'chb23',\n",
              " 'chb24']"
            ]
          },
          "metadata": {
            "tags": []
          },
          "execution_count": 5
        }
      ]
    },
    {
      "cell_type": "markdown",
      "metadata": {
        "id": "sSRValh-UX1M"
      },
      "source": [
        "Each patient has an information file associate with it. Lets load one in and have a look at how it looks before we parse it into something more useful."
      ]
    },
    {
      "cell_type": "code",
      "metadata": {
        "id": "lUOKoJ7NUaC_",
        "colab": {
          "base_uri": "https://localhost:8080/",
          "height": 1000
        },
        "outputId": "56aa2247-cb52-455c-9f25-9e4fb009e161"
      },
      "source": [
        "import os\n",
        "from urllib.request import urlretrieve\n",
        "\n",
        "def get_content(part_code):\n",
        "  url = \"https://physionet.org/physiobank/database/chbmit/\"+part_code+'/'+part_code+'-summary.txt'\n",
        "  filename = \"./chbmit.txt\"\n",
        "\n",
        "  urlretrieve(url,filename)\n",
        "\n",
        "  # read the file into a list\n",
        "  with open(filename, encoding='UTF-8') as f:\n",
        "      # read all the document into a list of strings (each line a new string)\n",
        "      content = f.readlines()\n",
        "      os.remove(filename)\n",
        "\n",
        "  return content\n",
        "\n",
        "get_content(part_codes[0])"
      ],
      "execution_count": null,
      "outputs": [
        {
          "output_type": "execute_result",
          "data": {
            "text/plain": [
              "['Data Sampling Rate: 256 Hz\\n',\n",
              " '*************************\\n',\n",
              " '\\n',\n",
              " 'Channels in EDF Files:\\n',\n",
              " '**********************\\n',\n",
              " 'Channel 1: FP1-F7\\n',\n",
              " 'Channel 2: F7-T7\\n',\n",
              " 'Channel 3: T7-P7\\n',\n",
              " 'Channel 4: P7-O1\\n',\n",
              " 'Channel 5: FP1-F3\\n',\n",
              " 'Channel 6: F3-C3\\n',\n",
              " 'Channel 7: C3-P3\\n',\n",
              " 'Channel 8: P3-O1\\n',\n",
              " 'Channel 9: FP2-F4\\n',\n",
              " 'Channel 10: F4-C4\\n',\n",
              " 'Channel 11: C4-P4\\n',\n",
              " 'Channel 12: P4-O2\\n',\n",
              " 'Channel 13: FP2-F8\\n',\n",
              " 'Channel 14: F8-T8\\n',\n",
              " 'Channel 15: T8-P8\\n',\n",
              " 'Channel 16: P8-O2\\n',\n",
              " 'Channel 17: FZ-CZ\\n',\n",
              " 'Channel 18: CZ-PZ\\n',\n",
              " 'Channel 19: P7-T7\\n',\n",
              " 'Channel 20: T7-FT9\\n',\n",
              " 'Channel 21: FT9-FT10\\n',\n",
              " 'Channel 22: FT10-T8\\n',\n",
              " 'Channel 23: T8-P8\\n',\n",
              " '\\n',\n",
              " 'File Name: chb01_01.edf\\n',\n",
              " 'File Start Time: 11:42:54\\n',\n",
              " 'File End Time: 12:42:54\\n',\n",
              " 'Number of Seizures in File: 0\\n',\n",
              " '\\n',\n",
              " 'File Name: chb01_02.edf\\n',\n",
              " 'File Start Time: 12:42:57\\n',\n",
              " 'File End Time: 13:42:57\\n',\n",
              " 'Number of Seizures in File: 0\\n',\n",
              " '\\n',\n",
              " 'File Name: chb01_03.edf\\n',\n",
              " 'File Start Time: 13:43:04\\n',\n",
              " 'File End Time: 14:43:04\\n',\n",
              " 'Number of Seizures in File: 1\\n',\n",
              " 'Seizure Start Time: 2996 seconds\\n',\n",
              " 'Seizure End Time: 3036 seconds\\n',\n",
              " '\\n',\n",
              " 'File Name: chb01_04.edf\\n',\n",
              " 'File Start Time: 14:43:12\\n',\n",
              " 'File End Time: 15:43:12\\n',\n",
              " 'Number of Seizures in File: 1\\n',\n",
              " 'Seizure Start Time: 1467 seconds\\n',\n",
              " 'Seizure End Time: 1494 seconds\\n',\n",
              " '\\n',\n",
              " 'File Name: chb01_05.edf\\n',\n",
              " 'File Start Time: 15:43:19\\n',\n",
              " 'File End Time: 16:43:19\\n',\n",
              " 'Number of Seizures in File: 0\\n',\n",
              " '\\n',\n",
              " 'File Name: chb01_06.edf\\n',\n",
              " 'File Start Time: 16:43:26\\n',\n",
              " 'File End Time: 17:43:26\\n',\n",
              " 'Number of Seizures in File: 0\\n',\n",
              " '\\n',\n",
              " 'File Name: chb01_07.edf\\n',\n",
              " 'File Start Time: 17:43:33\\n',\n",
              " 'File End Time: 18:43:33\\n',\n",
              " 'Number of Seizures in File: 0\\n',\n",
              " '\\n',\n",
              " 'File Name: chb01_08.edf\\n',\n",
              " 'File Start Time: 18:43:40\\n',\n",
              " 'File End Time: 19:43:40\\n',\n",
              " 'Number of Seizures in File: 0\\n',\n",
              " '\\n',\n",
              " 'File Name: chb01_09.edf\\n',\n",
              " 'File Start Time: 19:43:56\\n',\n",
              " 'File End Time: 20:43:56\\n',\n",
              " 'Number of Seizures in File: 0\\n',\n",
              " '\\n',\n",
              " 'File Name: chb01_10.edf\\n',\n",
              " 'File Start Time: 20:44:07\\n',\n",
              " 'File End Time: 21:44:07\\n',\n",
              " 'Number of Seizures in File: 0\\n',\n",
              " '\\n',\n",
              " 'File Name: chb01_11.edf\\n',\n",
              " 'File Start Time: 21:44:14\\n',\n",
              " 'File End Time: 22:44:14\\n',\n",
              " 'Number of Seizures in File: 0\\n',\n",
              " '\\n',\n",
              " 'File Name: chb01_12.edf\\n',\n",
              " 'File Start Time: 22:44:22\\n',\n",
              " 'File End Time: 23:44:22\\n',\n",
              " 'Number of Seizures in File: 0\\n',\n",
              " '\\n',\n",
              " 'File Name: chb01_13.edf\\n',\n",
              " 'File Start Time: 23:44:29\\n',\n",
              " 'File End Time: 24:44:29\\n',\n",
              " 'Number of Seizures in File: 0\\n',\n",
              " '\\n',\n",
              " 'File Name: chb01_14.edf\\n',\n",
              " 'File Start Time: 00:44:37\\n',\n",
              " 'File End Time: 1:44:37\\n',\n",
              " 'Number of Seizures in File: 0\\n',\n",
              " '\\n',\n",
              " 'File Name: chb01_15.edf\\n',\n",
              " 'File Start Time: 01:44:44\\n',\n",
              " 'File End Time: 2:44:44\\n',\n",
              " 'Number of Seizures in File: 1\\n',\n",
              " 'Seizure Start Time: 1732 seconds\\n',\n",
              " 'Seizure End Time: 1772 seconds\\n',\n",
              " '\\n',\n",
              " 'File Name: chb01_16.edf\\n',\n",
              " 'File Start Time: 02:44:51\\n',\n",
              " 'File End Time: 3:44:51\\n',\n",
              " 'Number of Seizures in File: 1\\n',\n",
              " 'Seizure Start Time: 1015 seconds\\n',\n",
              " 'Seizure End Time: 1066 seconds\\n',\n",
              " '\\n',\n",
              " 'File Name: chb01_17.edf\\n',\n",
              " 'File Start Time: 03:44:59\\n',\n",
              " 'File End Time: 4:44:59\\n',\n",
              " 'Number of Seizures in File: 0\\n',\n",
              " '\\n',\n",
              " 'File Name: chb01_18.edf\\n',\n",
              " 'File Start Time: 04:45:06\\n',\n",
              " 'File End Time: 5:45:06\\n',\n",
              " 'Number of Seizures in File: 1\\n',\n",
              " 'Seizure Start Time: 1720 seconds\\n',\n",
              " 'Seizure End Time: 1810 seconds\\n',\n",
              " '\\n',\n",
              " 'File Name: chb01_19.edf\\n',\n",
              " 'File Start Time: 05:45:13\\n',\n",
              " 'File End Time: 6:45:13\\n',\n",
              " 'Number of Seizures in File: 0\\n',\n",
              " '\\n',\n",
              " 'File Name: chb01_20.edf\\n',\n",
              " 'File Start Time: 06:45:20\\n',\n",
              " 'File End Time: 7:29:43\\n',\n",
              " 'Number of Seizures in File: 0\\n',\n",
              " '\\n',\n",
              " 'File Name: chb01_21.edf\\n',\n",
              " 'File Start Time: 07:33:46\\n',\n",
              " 'File End Time: 8:33:46\\n',\n",
              " 'Number of Seizures in File: 1\\n',\n",
              " 'Seizure Start Time: 327 seconds\\n',\n",
              " 'Seizure End Time: 420 seconds\\n',\n",
              " '\\n',\n",
              " 'File Name: chb01_22.edf\\n',\n",
              " 'File Start Time: 08:33:49\\n',\n",
              " 'File End Time: 9:33:49\\n',\n",
              " 'Number of Seizures in File: 0\\n',\n",
              " '\\n',\n",
              " 'File Name: chb01_23.edf\\n',\n",
              " 'File Start Time: 09:33:58\\n',\n",
              " 'File End Time: 10:33:58\\n',\n",
              " 'Number of Seizures in File: 0\\n',\n",
              " '\\n',\n",
              " 'File Name: chb01_24.edf\\n',\n",
              " 'File Start Time: 10:34:06\\n',\n",
              " 'File End Time: 11:34:06\\n',\n",
              " 'Number of Seizures in File: 0\\n',\n",
              " '\\n',\n",
              " 'File Name: chb01_25.edf\\n',\n",
              " 'File Start Time: 11:34:14\\n',\n",
              " 'File End Time: 12:34:14\\n',\n",
              " 'Number of Seizures in File: 0\\n',\n",
              " '\\n',\n",
              " 'File Name: chb01_26.edf\\n',\n",
              " 'File Start Time: 12:34:22\\n',\n",
              " 'File End Time: 13:13:07\\n',\n",
              " 'Number of Seizures in File: 1\\n',\n",
              " 'Seizure Start Time: 1862 seconds\\n',\n",
              " 'Seizure End Time: 1963 seconds\\n',\n",
              " '\\n',\n",
              " 'File Name: chb01_27.edf\\n',\n",
              " 'File Start Time: 13:13:21\\n',\n",
              " 'File End Time: 13:23:21\\n',\n",
              " 'Number of Seizures in File: 0\\n',\n",
              " '\\n',\n",
              " 'File Name: chb01_29.edf\\n',\n",
              " 'File Start Time: 13:24:08\\n',\n",
              " 'File End Time: 14:24:08\\n',\n",
              " 'Number of Seizures in File: 0\\n',\n",
              " '\\n',\n",
              " 'File Name: chb01_30.edf\\n',\n",
              " 'File Start Time: 14:24:15\\n',\n",
              " 'File End Time: 15:24:15\\n',\n",
              " 'Number of Seizures in File: 0\\n',\n",
              " '\\n',\n",
              " 'File Name: chb01_31.edf\\n',\n",
              " 'File Start Time: 15:24:24\\n',\n",
              " 'File End Time: 16:24:24\\n',\n",
              " 'Number of Seizures in File: 0\\n',\n",
              " '\\n',\n",
              " 'File Name: chb01_32.edf\\n',\n",
              " 'File Start Time: 16:24:32\\n',\n",
              " 'File End Time: 17:24:32\\n',\n",
              " 'Number of Seizures in File: 0\\n',\n",
              " '\\n',\n",
              " 'File Name: chb01_33.edf\\n',\n",
              " 'File Start Time: 17:24:39\\n',\n",
              " 'File End Time: 18:24:39\\n',\n",
              " 'Number of Seizures in File: 0\\n',\n",
              " '\\n',\n",
              " 'File Name: chb01_34.edf\\n',\n",
              " 'File Start Time: 18:24:46\\n',\n",
              " 'File End Time: 19:24:46\\n',\n",
              " 'Number of Seizures in File: 0\\n',\n",
              " '\\n',\n",
              " 'File Name: chb01_36.edf\\n',\n",
              " 'File Start Time: 22:14:43\\n',\n",
              " 'File End Time: 23:14:43\\n',\n",
              " 'Number of Seizures in File: 0\\n',\n",
              " '\\n',\n",
              " 'File Name: chb01_37.edf\\n',\n",
              " 'File Start Time: 23:14:46\\n',\n",
              " 'File End Time: 24:14:46\\n',\n",
              " 'Number of Seizures in File: 0\\n',\n",
              " '\\n',\n",
              " 'File Name: chb01_38.edf\\n',\n",
              " 'File Start Time: 00:14:53\\n',\n",
              " 'File End Time: 1:14:53\\n',\n",
              " 'Number of Seizures in File: 0\\n',\n",
              " '\\n',\n",
              " 'File Name: chb01_39.edf\\n',\n",
              " 'File Start Time: 01:15:01\\n',\n",
              " 'File End Time: 2:15:01\\n',\n",
              " 'Number of Seizures in File: 0\\n',\n",
              " '\\n',\n",
              " 'File Name: chb01_40.edf\\n',\n",
              " 'File Start Time: 02:15:08\\n',\n",
              " 'File End Time: 3:15:08\\n',\n",
              " 'Number of Seizures in File: 0\\n',\n",
              " '\\n',\n",
              " 'File Name: chb01_41.edf\\n',\n",
              " 'File Start Time: 03:15:15\\n',\n",
              " 'File End Time: 4:15:15\\n',\n",
              " 'Number of Seizures in File: 0\\n',\n",
              " '\\n',\n",
              " 'File Name: chb01_42.edf\\n',\n",
              " 'File Start Time: 04:15:22\\n',\n",
              " 'File End Time: 5:15:22\\n',\n",
              " 'Number of Seizures in File: 0\\n',\n",
              " '\\n',\n",
              " 'File Name: chb01_43.edf\\n',\n",
              " 'File Start Time: 05:15:29\\n',\n",
              " 'File End Time: 6:15:29\\n',\n",
              " 'Number of Seizures in File: 0\\n',\n",
              " '\\n',\n",
              " 'File Name: chb01_46.edf\\n',\n",
              " 'File Start Time: 08:15:51\\n',\n",
              " 'File End Time: 9:15:51\\n',\n",
              " 'Number of Seizures in File: 0\\n']"
            ]
          },
          "metadata": {
            "tags": []
          },
          "execution_count": 6
        }
      ]
    },
    {
      "cell_type": "markdown",
      "metadata": {
        "id": "aIn_QjsNbXTA"
      },
      "source": [
        "Taking the above, the below function below just parses this file up into a Python dictionary format."
      ]
    },
    {
      "cell_type": "code",
      "metadata": {
        "id": "u1Q5Fr5OUe7K",
        "colab": {
          "base_uri": "https://localhost:8080/",
          "height": 448
        },
        "outputId": "8911f33a-5239-4a11-8af8-1e0266b2c369"
      },
      "source": [
        "import re\n",
        "part_info_dict = {}\n",
        "\n",
        "def info_dict(content):\n",
        "  \n",
        "  line_nos=len(content)\n",
        "  line_no=1\n",
        "\n",
        "  channels = []\n",
        "  file_name = []\n",
        "  file_info_dict={}\n",
        "\n",
        "  for line in content:\n",
        "\n",
        "    # if there is Channel in the line...\n",
        "    if re.findall('Channel \\d+', line):\n",
        "      # split the line into channel number and channel reference\n",
        "      channel = line.split(': ')\n",
        "      # get the channel reference and remove any new lines\n",
        "      channel = channel[-1].replace(\"\\n\", \"\")\n",
        "      # put into the channel list\n",
        "      channels.append(channel)\n",
        "\n",
        "    # if the line is the file name\n",
        "    elif re.findall('File Name', line):\n",
        "      # if there is already a file_name\n",
        "      if file_name:\n",
        "        # flush the current file info to it\n",
        "        part_info_dict[file_name] = file_info_dict\n",
        "\n",
        "      # get the file name\n",
        "      file_name = re.findall('\\w+\\d+_\\d+|\\w+\\d+\\w+_\\d+', line)[0]\n",
        "\n",
        "      file_info_dict = {}\n",
        "      # put the channel list in the file info dict and remove duplicates\n",
        "      file_info_dict['Channels'] = list(set(channels))\n",
        "      # reset the rest of the options\n",
        "      file_info_dict['Start Time'] = ''\n",
        "      file_info_dict['End Time'] = ''\n",
        "      file_info_dict['Seizures Window'] = []\n",
        "\n",
        "    # if the line is about the file start time\n",
        "    elif re.findall('File Start Time', line):\n",
        "      # get the start time\n",
        "      file_info_dict['Start Time'] = re.findall('\\d+:\\d+:\\d+', line)[0]\n",
        "\n",
        "    # if the line is about the file end time\n",
        "    elif re.findall('File End Time', line):\n",
        "      # get the start time\n",
        "      file_info_dict['End Time'] = re.findall('\\d+:\\d+:\\d+', line)[0]\n",
        "\n",
        "    elif re.findall('Seizure Start Time|Seizure End Time|Seizure \\d+ Start Time|Seizure \\d+ End Time', line):\n",
        "      file_info_dict['Seizures Window'].append(int(re.findall('\\d+', line)[-1]))\n",
        "\n",
        "    # if last line in the list...\n",
        "    if line_no == line_nos:\n",
        "      # flush the file info to it\n",
        "      part_info_dict[file_name] = file_info_dict\n",
        "\n",
        "    line_no+=1\n",
        "    \n",
        "        \n",
        "for part_code in part_codes:\n",
        "  content = get_content(part_code)\n",
        "  info_dict(content)\n",
        "\n",
        "\n",
        "display(part_info_dict['chb23_06'])"
      ],
      "execution_count": null,
      "outputs": [
        {
          "output_type": "display_data",
          "data": {
            "text/plain": [
              "{'Channels': ['FP1-F7',\n",
              "  'C3-P3',\n",
              "  'FP2-F4',\n",
              "  'C4-P4',\n",
              "  'T7-FT9',\n",
              "  'P7-O1',\n",
              "  'P8-O2',\n",
              "  'T8-P8',\n",
              "  'FZ-CZ',\n",
              "  'CZ-PZ',\n",
              "  'FP2-F8',\n",
              "  'P4-O2',\n",
              "  'F4-C4',\n",
              "  'T7-P7',\n",
              "  'FT9-FT10',\n",
              "  'FT10-T8',\n",
              "  'F7-T7',\n",
              "  'P3-O1',\n",
              "  'FP1-F3',\n",
              "  'F3-C3',\n",
              "  'F8-T8',\n",
              "  'P7-T7'],\n",
              " 'End Time': '11:02:43',\n",
              " 'Seizures Window': [3962, 4075],\n",
              " 'Start Time': '08:57:57'}"
            ]
          },
          "metadata": {
            "tags": []
          }
        }
      ]
    },
    {
      "cell_type": "markdown",
      "metadata": {
        "id": "oYeV9uGOPrEo"
      },
      "source": [
        "As can be seen below there is a common set of channels found in ALL patients, but there are also some channels only found in individual patients. This is because sometimes channels were swapped during recording for others. "
      ]
    },
    {
      "cell_type": "code",
      "metadata": {
        "id": "ozlKYo5OPs9-",
        "colab": {
          "base_uri": "https://localhost:8080/",
          "height": 224
        },
        "outputId": "20945384-40b2-4a43-f432-3a49b86303da"
      },
      "source": [
        "import pandas as pd     # dataframes\n",
        "import re\n",
        "\n",
        "all_channels = []\n",
        "\n",
        "for key in part_info_dict.keys():\n",
        "    all_channels.extend(part_info_dict[key]['Channels'])\n",
        "    \n",
        "# turn the list into a pandas series\n",
        "all_channels = pd.Series(all_channels)\n",
        "\n",
        "# count how many times the channels appear in each participant\n",
        "channel_counts = all_channels.value_counts()\n",
        "channel_counts"
      ],
      "execution_count": null,
      "outputs": [
        {
          "output_type": "execute_result",
          "data": {
            "text/plain": [
              "T7-P7      675\n",
              "F3-C3      675\n",
              "FP2-F8     675\n",
              "FP2-F4     675\n",
              "FP1-F3     675\n",
              "          ... \n",
              "O2          13\n",
              "T7          13\n",
              "FP1         13\n",
              "P7          13\n",
              "LOC-ROC     11\n",
              "Length: 87, dtype: int64"
            ]
          },
          "metadata": {
            "tags": []
          },
          "execution_count": 8
        }
      ]
    },
    {
      "cell_type": "markdown",
      "metadata": {
        "id": "Nql0DxtDPyvG"
      },
      "source": [
        "We only keep the channels found in all the patients."
      ]
    },
    {
      "cell_type": "code",
      "metadata": {
        "id": "QcTGLlQDP062",
        "colab": {
          "base_uri": "https://localhost:8080/",
          "height": 328
        },
        "outputId": "a47f98fa-cc10-4ddc-be62-94389f006154"
      },
      "source": [
        "threshold = len(part_info_dict.keys())\n",
        "channel_keeps = list(channel_counts[channel_counts >= threshold].index)\n",
        "channel_keeps"
      ],
      "execution_count": null,
      "outputs": [
        {
          "output_type": "execute_result",
          "data": {
            "text/plain": [
              "['T7-P7',\n",
              " 'F3-C3',\n",
              " 'FP2-F8',\n",
              " 'FP2-F4',\n",
              " 'FP1-F3',\n",
              " 'T8-P8',\n",
              " 'CZ-PZ',\n",
              " 'FZ-CZ',\n",
              " 'FP1-F7',\n",
              " 'P4-O2',\n",
              " 'P8-O2',\n",
              " 'F8-T8',\n",
              " 'F4-C4',\n",
              " 'P3-O1',\n",
              " 'F7-T7',\n",
              " 'C4-P4',\n",
              " 'C3-P3',\n",
              " 'P7-O1']"
            ]
          },
          "metadata": {
            "tags": []
          },
          "execution_count": 9
        }
      ]
    },
    {
      "cell_type": "markdown",
      "metadata": {
        "id": "yhmv3k9wU5em"
      },
      "source": [
        "## Load Data\n",
        "Lets now load in some example data. First lets choose a file."
      ]
    },
    {
      "cell_type": "code",
      "metadata": {
        "id": "ERu5mKcXa7lM",
        "colab": {
          "base_uri": "https://localhost:8080/",
          "height": 34
        },
        "outputId": "59dea1ca-8214-4eda-e85e-59174aaba503"
      },
      "source": [
        "EXAMPLE_FILE = records_list[2]\n",
        "EXAMPLE_ID = EXAMPLE_FILE.split('/')[1].split('.')[0]\n",
        "EXAMPLE_ID"
      ],
      "execution_count": null,
      "outputs": [
        {
          "output_type": "execute_result",
          "data": {
            "application/vnd.google.colaboratory.intrinsic+json": {
              "type": "string"
            },
            "text/plain": [
              "'chb01_03'"
            ]
          },
          "metadata": {
            "tags": []
          },
          "execution_count": 10
        }
      ]
    },
    {
      "cell_type": "markdown",
      "metadata": {
        "id": "Ef1A2c7LcBOf"
      },
      "source": [
        "# Download the data and then load it into a pandas dataframe\n"
      ]
    },
    {
      "cell_type": "code",
      "metadata": {
        "id": "NC7bQe41U766"
      },
      "source": [
        "import pandas as pd\n",
        "import numpy as np\n",
        "import pyedflib\n",
        "\n",
        "def data_load(file, selected_channels=[]):\n",
        "\n",
        "  try: \n",
        "    url = \"https://physionet.org/physiobank/database/chbmit/\"+file\n",
        "    filename = \"./chbmit.edf\"\n",
        "\n",
        "    urlretrieve(url,filename)\n",
        "    # use the reader to get an EdfReader file\n",
        "    f = pyedflib.EdfReader(filename)\n",
        "    os.remove(filename)\n",
        "    \n",
        "    # get a list of the EEG channels\n",
        "    if len(selected_channels) == 0:\n",
        "      selected_channels = f.getSignalLabels()\n",
        "\n",
        "    # get the names of the signals\n",
        "    channel_names = f.getSignalLabels()\n",
        "    # get the sampling frequencies of each signal\n",
        "    channel_freq = f.getSampleFrequencies()\n",
        "\n",
        "    # make an empty file of 0's\n",
        "    sigbufs = np.zeros((f.getNSamples()[0],len(selected_channels)))\n",
        "    # for each of the channels in the selected channels\n",
        "    for i, channel in enumerate(selected_channels):\n",
        "      # add the channel data into the array\n",
        "      sigbufs[:, i] = f.readSignal(channel_names.index(channel))\n",
        "    \n",
        "    # turn to a pandas df and save a little space\n",
        "    df = pd.DataFrame(sigbufs, columns = selected_channels).astype('float32')\n",
        "    \n",
        "    # get equally increasing numbers upto the length of the data depending\n",
        "    # on the length of the data divided by the sampling frequency\n",
        "    index_increase = np.linspace(0,\n",
        "                                 len(df)/channel_freq[0],\n",
        "                                 len(df), endpoint=False)\n",
        "\n",
        "    # round these to the lowest nearest decimal to get the seconds\n",
        "    seconds = np.floor(index_increase).astype('uint16')\n",
        "\n",
        "    # make a column the timestamp\n",
        "    df['Time'] = seconds\n",
        "\n",
        "    # make the time stamp the index\n",
        "    df = df.set_index('Time')\n",
        "\n",
        "    # name the columns as channel\n",
        "    df.columns.name = 'Channel'\n",
        "\n",
        "    return df, channel_freq[0]\n",
        "\n",
        "  except:\n",
        "    OSError\n",
        "    return pd.DataFrame(), None\n"
      ],
      "execution_count": null,
      "outputs": []
    },
    {
      "cell_type": "markdown",
      "metadata": {
        "id": "kxBPAOnSZPKM"
      },
      "source": [
        "# Create MNE object"
      ]
    },
    {
      "cell_type": "code",
      "metadata": {
        "id": "SoVoBNJ-auOC"
      },
      "source": [
        "import mne\n",
        "\n",
        "def mne_object(data, freq, events = None):\n",
        "  # create an mne info file with meta data about the EEG\n",
        "  info = mne.create_info(ch_names=list(data.columns), \n",
        "                         sfreq=freq, \n",
        "                         ch_types=['eeg']*data.shape[-1]);\n",
        "  \n",
        "  # data needs to be in volts rather than in microvolts\n",
        "  data = data.apply(lambda x: x*1e-6);\n",
        "  # transpose the data\n",
        "  data_T = data.transpose();\n",
        "  \n",
        "  # create raw mne object\n",
        "  raw = mne.io.RawArray(data_T, info);\n",
        "\n",
        "  if events:\n",
        "    start_times = np.array(events[::2])\n",
        "    end_times = np.array(events[1::2])\n",
        "\n",
        "  return raw"
      ],
      "execution_count": null,
      "outputs": []
    },
    {
      "cell_type": "markdown",
      "metadata": {
        "id": "ZRJiS0f3ZeY-"
      },
      "source": [
        "# Generate and store the plot images"
      ]
    },
    {
      "cell_type": "code",
      "metadata": {
        "id": "PBZwnFesmiwY",
        "colab": {
          "base_uri": "https://localhost:8080/",
          "height": 707
        },
        "outputId": "44e9fea6-4ad6-4462-b37a-cabbefc71cbe"
      },
      "source": [
        "import matplotlib.pyplot as plt\n",
        "from datetime import datetime\n",
        "import sys\n",
        "import gc\n",
        "\n",
        "subjects_to_be_used = {'chb05', 'chb08', 'chb11', 'chb12', 'chb13', 'chb14', 'chb15', 'chb23'}\n",
        "\n",
        "\n",
        "for k in range(len(records_list)):\n",
        "  try:\n",
        "    CURRENT_FILE = records_list[k]\n",
        "    CURRENT_ID = CURRENT_FILE.split('/')[1].split('.')[0]\n",
        "    print(CURRENT_FILE)\n",
        "    if CURRENT_ID[:5] not in subjects_to_be_used:\n",
        "      continue\n",
        "\n",
        "    try:\n",
        "      if part_info_dict[CURRENT_ID]['Start Time'][:2] == '24' or part_info_dict[CURRENT_ID]['End Time'][:2] == '24':\n",
        "        continue\n",
        "    except:\n",
        "      continue\n",
        "\n",
        "    raw_data, freq = data_load(CURRENT_FILE, channel_keeps);\n",
        "\n",
        "    mne_data = mne_object(raw_data, freq, part_info_dict[CURRENT_ID]['Seizures Window']);\n",
        "\n",
        "    plot_kwargs = {\n",
        "        'scalings': dict(eeg=20e-5),   # zooms the plot out\n",
        "        'highpass': 0.5,              # filters out low frequencies\n",
        "        'lowpass': 70.,                # filters out high frequencies\n",
        "        'show_scrollbars': False,\n",
        "        'show': True\n",
        "    }\n",
        "\n",
        "    seizure_dir = '/content/drive/My Drive/DM Course Project/New plot images/seizure/'\n",
        "    non_seizure_dir = '/content/drive/My Drive/DM Course Project/New plot images/non-seizure/'\n",
        "\n",
        "    window = 180\n",
        "    start_time = 0\n",
        "\n",
        "    start = datetime.strptime(part_info_dict[CURRENT_ID]['Start Time'], '%H:%M:%S')\n",
        "    end = datetime.strptime(part_info_dict[CURRENT_ID]['End Time'], '%H:%M:%S')\n",
        "\n",
        "    diff = (end - start).seconds\n",
        "\n",
        "    i = 0\n",
        "    while start_time + window <= diff:\n",
        "      fig = mne_data.plot(start = start_time, duration = window, **plot_kwargs);\n",
        "      fig.savefig(f'{non_seizure_dir}{CURRENT_ID}_{i}.png');\n",
        "      plt.close(fig)\n",
        "      i += 1\n",
        "      start_time += window\n",
        "      gc.collect()\n",
        "\n",
        "    seizures = part_info_dict[CURRENT_ID]['Seizures Window']\n",
        "\n",
        "    plt.close('all')\n",
        "\n",
        "    j = 0\n",
        "    i = 0\n",
        "    while j < len(seizures):\n",
        "      seizure_start_time = seizures[j]\n",
        "      seizure_end_time = seizures[j + 1]\n",
        "      j += 2\n",
        "\n",
        "      start_time = seizure_start_time\n",
        "\n",
        "      while start_time + 3 < seizure_end_time:\n",
        "        fig = mne_data.plot(start = start_time, duration = window, **plot_kwargs);\n",
        "        fig.savefig(f'{seizure_dir}{CURRENT_ID}_{i}.png');\n",
        "        plt.close(fig)\n",
        "        i += 1\n",
        "        start_time += 1\n",
        "        gc.collect()\n",
        "      \n",
        "      gc.collect()\n",
        "\n",
        "    del raw_data\n",
        "    del mne_data\n",
        "    gc.collect()\n",
        "    plt.close('all')\n",
        "  except:\n",
        "    continue\n",
        "    \n",
        "plt.close('all')"
      ],
      "execution_count": null,
      "outputs": [
        {
          "output_type": "stream",
          "text": [
            "chb24/chb24_01.edf\n",
            "Creating RawArray with float64 data, n_channels=18, n_times=921600\n",
            "    Range : 0 ... 921599 =      0.000 ...  3599.996 secs\n",
            "Ready.\n",
            "chb24/chb24_03.edf\n",
            "Creating RawArray with float64 data, n_channels=18, n_times=921600\n",
            "    Range : 0 ... 921599 =      0.000 ...  3599.996 secs\n",
            "Ready.\n",
            "chb24/chb24_05.edf\n",
            "chb24/chb24_06.edf\n",
            "Creating RawArray with float64 data, n_channels=18, n_times=921600\n",
            "    Range : 0 ... 921599 =      0.000 ...  3599.996 secs\n",
            "Ready.\n",
            "chb24/chb24_08.edf\n",
            "chb24/chb24_09.edf\n",
            "Creating RawArray with float64 data, n_channels=18, n_times=921600\n",
            "    Range : 0 ... 921599 =      0.000 ...  3599.996 secs\n",
            "Ready.\n",
            "chb24/chb24_11.edf\n",
            "Creating RawArray with float64 data, n_channels=18, n_times=921600\n",
            "    Range : 0 ... 921599 =      0.000 ...  3599.996 secs\n",
            "Ready.\n",
            "chb24/chb24_13.edf\n",
            "Creating RawArray with float64 data, n_channels=18, n_times=921600\n",
            "    Range : 0 ... 921599 =      0.000 ...  3599.996 secs\n",
            "Ready.\n",
            "chb24/chb24_15.edf\n",
            "Creating RawArray with float64 data, n_channels=18, n_times=921600\n",
            "    Range : 0 ... 921599 =      0.000 ...  3599.996 secs\n",
            "Ready.\n",
            "chb24/chb24_17.edf\n",
            "Creating RawArray with float64 data, n_channels=18, n_times=921600\n",
            "    Range : 0 ... 921599 =      0.000 ...  3599.996 secs\n",
            "Ready.\n",
            "chb24/chb24_19.edf\n",
            "chb24/chb24_20.edf\n",
            "chb24/chb24_21.edf\n",
            "Creating RawArray with float64 data, n_channels=18, n_times=921600\n",
            "    Range : 0 ... 921599 =      0.000 ...  3599.996 secs\n",
            "Ready.\n"
          ],
          "name": "stdout"
        }
      ]
    },
    {
      "cell_type": "code",
      "metadata": {
        "id": "AJ-yr7JHZzMH"
      },
      "source": [
        "import matplotlib.pyplot as plt\n",
        "from datetime import datetime\n",
        "\n",
        "subjects_to_be_used = {'chb05', 'chb08', 'chb11', 'chb12', 'chb13', 'chb14', 'chb15', 'chb23'}\n",
        "\n",
        "for k in range(len(records_list)):\n",
        "  try:\n",
        "    CURRENT_FILE = records_list[k]\n",
        "    CURRENT_ID = CURRENT_FILE.split('/')[1].split('.')[0]\n",
        "    if CURRENT_ID[:5] not in subjects_to_be_used:\n",
        "      continue\n",
        "\n",
        "    try:\n",
        "      if part_info_dict[CURRENT_ID]['Start Time'][:2] == '24' or part_info_dict[CURRENT_ID]['End Time'][:2] == '24':\n",
        "        continue\n",
        "    except:\n",
        "      continue\n",
        "\n",
        "    raw_data, freq = data_load(CURRENT_FILE, channel_keeps);\n",
        "\n",
        "    mne_data = mne_object(raw_data, freq, part_info_dict[CURRENT_ID]['Seizures Window']);\n",
        "\n",
        "    plot_kwargs = {\n",
        "        'scalings': dict(eeg=20e-5),   # zooms the plot out\n",
        "        'highpass': 0.5,              # filters out low frequencies\n",
        "        'lowpass': 70.,                # filters out high frequencies\n",
        "        'show_scrollbars': False,\n",
        "        'show': True\n",
        "    }\n",
        "\n",
        "    seizure_dir = '/content/drive/My Drive/DM Course Project/Final plot images/seizure/'\n",
        "    non_seizure_dir = '/content/drive/My Drive/DM Course Project/Final plot images/non-seizure/'\n",
        "\n",
        "    window = 180\n",
        "    start_time = 0\n",
        "\n",
        "    start = datetime.strptime(part_info_dict[CURRENT_ID]['Start Time'], '%H:%M:%S')\n",
        "    end = datetime.strptime(part_info_dict[CURRENT_ID]['End Time'], '%H:%M:%S')\n",
        "\n",
        "    diff = (end - start).seconds\n",
        "\n",
        "    i = 0\n",
        "    while start_time + window <= diff:\n",
        "      fig = mne_data.plot(start = start_time, duration = window, **plot_kwargs);\n",
        "      fig.savefig(f'{non_seizure_dir}{CURRENT_ID}_{i}.png');\n",
        "      plt.close(fig)\n",
        "      i += 1\n",
        "      start_time += window - window * 0.3\n",
        "\n",
        "    seizures = part_info_dict[CURRENT_ID]['Seizures Window']\n",
        "\n",
        "    j = 0\n",
        "    i = 0\n",
        "    while j < len(seizures):\n",
        "      seizure_start_time = seizures[j]\n",
        "      seizure_end_time = seizures[j + 1]\n",
        "      j += 2\n",
        "\n",
        "      start_time = seizure_start_time\n",
        "\n",
        "      while start_time + 3 < seizure_end_time:\n",
        "        fig = mne_data.plot(start = start_time, duration = window, **plot_kwargs);\n",
        "        fig.savefig(f'{seizure_dir}{CURRENT_ID}_{i}.png');\n",
        "        plt.close(fig)\n",
        "        i += 1\n",
        "        start_time += 1\n",
        "\n",
        "  except:\n",
        "    k += 1"
      ],
      "execution_count": null,
      "outputs": []
    }
  ]
}