{
  "nbformat": 4,
  "nbformat_minor": 0,
  "metadata": {
    "colab": {
      "name": "TL-PI-VGG19.ipynb",
      "provenance": [],
      "collapsed_sections": []
    },
    "kernelspec": {
      "name": "python3",
      "display_name": "Python 3"
    },
    "accelerator": "GPU"
  },
  "cells": [
    {
      "cell_type": "markdown",
      "metadata": {
        "id": "vzjHlGyTdC12"
      },
      "source": [
        "## Essential Imports"
      ]
    },
    {
      "cell_type": "code",
      "metadata": {
        "id": "RY2Bf7iqUHUb"
      },
      "source": [
        "import tensorflow as tf\n",
        "from keras.regularizers import l2\n",
        "from keras.layers import Input, Lambda, Dense, Flatten\n",
        "from keras.models import Model\n",
        "from keras.applications.vgg19 import VGG19\n",
        "from keras.applications.vgg19 import preprocess_input\n",
        "from keras.preprocessing import image\n",
        "from keras.preprocessing.image import ImageDataGenerator\n",
        "from keras.models import Sequential\n",
        "from keras.models import load_model\n",
        "import numpy as np\n",
        "from glob import glob\n",
        "import matplotlib.pyplot as plt"
      ],
      "execution_count": null,
      "outputs": []
    },
    {
      "cell_type": "code",
      "metadata": {
        "colab": {
          "base_uri": "https://localhost:8080/"
        },
        "id": "fAtzk7y86EHj",
        "outputId": "73e93995-2956-4e19-c419-b1a2645471bf"
      },
      "source": [
        "from google.colab import drive\n",
        "drive.mount('/content/drive')"
      ],
      "execution_count": null,
      "outputs": [
        {
          "output_type": "stream",
          "text": [
            "Mounted at /content/drive\n"
          ],
          "name": "stdout"
        }
      ]
    },
    {
      "cell_type": "markdown",
      "metadata": {
        "id": "UkhHn7Oi1nyv"
      },
      "source": [
        "## Essential Constants"
      ]
    },
    {
      "cell_type": "code",
      "metadata": {
        "id": "GuKeDgsGUO5w"
      },
      "source": [
        "train_path = '/content/drive/My Drive/DM Course Project/Temp data(plot images)/temp data(plot images)/train/'\n",
        "test_path = '/content/drive/My Drive/DM Course Project/Temp data(plot images)/temp data(plot images)/test/'\n",
        "\n",
        "# useful for getting number of classes\n",
        "folders = glob('/content/drive/My Drive/DM Course Project/Temp data(plot images)/temp data(plot images)/train/*')\n",
        "\n",
        "num_classes=len(folders)\n",
        "\n",
        "# re-size all the images to this\n",
        "IMAGE_SIZE = [224, 224]"
      ],
      "execution_count": null,
      "outputs": []
    },
    {
      "cell_type": "code",
      "metadata": {
        "colab": {
          "base_uri": "https://localhost:8080/"
        },
        "id": "HVQMt8E_6S4Y",
        "outputId": "36adea8a-cc3f-490d-88b8-64a47a5c428b"
      },
      "source": [
        "num_classes"
      ],
      "execution_count": null,
      "outputs": [
        {
          "output_type": "execute_result",
          "data": {
            "text/plain": [
              "2"
            ]
          },
          "metadata": {
            "tags": []
          },
          "execution_count": 4
        }
      ]
    },
    {
      "cell_type": "markdown",
      "metadata": {
        "id": "ZIm6kl071s2O"
      },
      "source": [
        "## Creating a new model"
      ]
    },
    {
      "cell_type": "code",
      "metadata": {
        "id": "Ce6-t9_lrYrQ",
        "colab": {
          "base_uri": "https://localhost:8080/"
        },
        "outputId": "36004fbf-a728-4aa5-defb-0d006e6695c6"
      },
      "source": [
        "model = Sequential()\n",
        "model.add(VGG19(input_shape=IMAGE_SIZE + [3], weights='imagenet', include_top=False))\n",
        "model.add(Flatten())\n",
        "model.add(Dense(units=128, activation='relu'))\n",
        "model.add(Dense(1, kernel_regularizer=l2(0.01),activation='linear')) # Final Layer is SVM Layer\n",
        "model.layers[0].trainable = False"
      ],
      "execution_count": null,
      "outputs": [
        {
          "output_type": "stream",
          "text": [
            "Downloading data from https://storage.googleapis.com/tensorflow/keras-applications/vgg19/vgg19_weights_tf_dim_ordering_tf_kernels_notop.h5\n",
            "80142336/80134624 [==============================] - 1s 0us/step\n"
          ],
          "name": "stdout"
        }
      ]
    },
    {
      "cell_type": "code",
      "metadata": {
        "id": "eOvrTR0A7E8M",
        "colab": {
          "base_uri": "https://localhost:8080/"
        },
        "outputId": "6ab210d3-a325-4056-8e91-b6e6dff5d9da"
      },
      "source": [
        "model.compile(optimizer='adam', loss='hinge', metrics=['accuracy',tf.keras.metrics.MeanAbsoluteError(),tf.keras.metrics.MeanSquaredError(),tf.keras.metrics.Hinge(),tf.keras.metrics.BinaryCrossentropy()])\n",
        "model.summary()"
      ],
      "execution_count": null,
      "outputs": [
        {
          "output_type": "stream",
          "text": [
            "Model: \"sequential\"\n",
            "_________________________________________________________________\n",
            "Layer (type)                 Output Shape              Param #   \n",
            "=================================================================\n",
            "vgg19 (Functional)           (None, 7, 7, 512)         20024384  \n",
            "_________________________________________________________________\n",
            "flatten (Flatten)            (None, 25088)             0         \n",
            "_________________________________________________________________\n",
            "dense (Dense)                (None, 128)               3211392   \n",
            "_________________________________________________________________\n",
            "dense_1 (Dense)              (None, 1)                 129       \n",
            "=================================================================\n",
            "Total params: 23,235,905\n",
            "Trainable params: 3,211,521\n",
            "Non-trainable params: 20,024,384\n",
            "_________________________________________________________________\n"
          ],
          "name": "stdout"
        }
      ]
    },
    {
      "cell_type": "markdown",
      "metadata": {
        "id": "-e0jUci512K2"
      },
      "source": [
        "## Setting up training and testing data"
      ]
    },
    {
      "cell_type": "code",
      "metadata": {
        "id": "O7Y6zKJosQSe",
        "colab": {
          "base_uri": "https://localhost:8080/"
        },
        "outputId": "71fd8520-79e4-49bf-b45c-f1d666de388d"
      },
      "source": [
        "data_generator = ImageDataGenerator(preprocessing_function=preprocess_input)\n",
        "train_set = data_generator.flow_from_directory(train_path,target_size = (224, 224),batch_size=10,class_mode = 'binary')\n",
        "test_set = data_generator.flow_from_directory(test_path,target_size = (224, 224),batch_size=10,class_mode = 'binary')"
      ],
      "execution_count": null,
      "outputs": [
        {
          "output_type": "stream",
          "text": [
            "Found 3000 images belonging to 2 classes.\n",
            "Found 1400 images belonging to 2 classes.\n"
          ],
          "name": "stdout"
        }
      ]
    },
    {
      "cell_type": "code",
      "metadata": {
        "id": "3gCFLFp1tbxs",
        "colab": {
          "base_uri": "https://localhost:8080/"
        },
        "outputId": "d6b9292b-3ba4-4eba-9ad7-08c71ae50665"
      },
      "source": [
        "r = model.fit_generator(\n",
        "  train_set,\n",
        "  validation_data=test_set,\n",
        "  epochs=20,\n",
        "  steps_per_epoch=len(train_set),\n",
        "  validation_steps=len(test_set)\n",
        ")\n",
        "\n",
        "f=open('/content/drive/My Drive/DM Course Project/Transfer Learning Model/TL-PI-VGG19-stats.txt','w')\n",
        "f.write(str(r.history))\n",
        "f.close()\n",
        "\n",
        "model.save('/content/drive/My Drive/DM Course Project/Transfer Learning Model/TL-PI-VGG19-model.h5')"
      ],
      "execution_count": null,
      "outputs": [
        {
          "output_type": "stream",
          "text": [
            "/usr/local/lib/python3.7/dist-packages/tensorflow/python/keras/engine/training.py:1844: UserWarning: `Model.fit_generator` is deprecated and will be removed in a future version. Please use `Model.fit`, which supports generators.\n",
            "  warnings.warn('`Model.fit_generator` is deprecated and '\n"
          ],
          "name": "stderr"
        },
        {
          "output_type": "stream",
          "text": [
            "Epoch 1/20\n",
            "300/300 [==============================] - 1279s 4s/step - loss: 3.9374 - accuracy: 0.7032 - mean_absolute_error: 9.7573 - mean_squared_error: 367.1134 - hinge: 3.9211 - binary_crossentropy: 4.1960 - val_loss: 0.2724 - val_accuracy: 0.9200 - val_mean_absolute_error: 4.1206 - val_mean_squared_error: 25.4427 - val_hinge: 0.2584 - val_binary_crossentropy: 1.0110\n",
            "Epoch 2/20\n",
            "300/300 [==============================] - 28s 92ms/step - loss: 0.3271 - accuracy: 0.8945 - mean_absolute_error: 4.7859 - mean_squared_error: 35.6519 - hinge: 0.3138 - binary_crossentropy: 1.3194 - val_loss: 0.2498 - val_accuracy: 0.8900 - val_mean_absolute_error: 3.2746 - val_mean_squared_error: 15.5273 - val_hinge: 0.2383 - val_binary_crossentropy: 1.3243\n",
            "Epoch 3/20\n",
            "300/300 [==============================] - 28s 93ms/step - loss: 0.1452 - accuracy: 0.9490 - mean_absolute_error: 3.7575 - mean_squared_error: 21.1448 - hinge: 0.1342 - binary_crossentropy: 0.5652 - val_loss: 0.3180 - val_accuracy: 0.8464 - val_mean_absolute_error: 3.6305 - val_mean_squared_error: 18.9444 - val_hinge: 0.3083 - val_binary_crossentropy: 1.8008\n",
            "Epoch 4/20\n",
            "300/300 [==============================] - 28s 94ms/step - loss: 0.1231 - accuracy: 0.9487 - mean_absolute_error: 3.5755 - mean_squared_error: 18.8260 - hinge: 0.1137 - binary_crossentropy: 0.5362 - val_loss: 0.2914 - val_accuracy: 0.9279 - val_mean_absolute_error: 3.5992 - val_mean_squared_error: 19.7263 - val_hinge: 0.2830 - val_binary_crossentropy: 0.8193\n",
            "Epoch 5/20\n",
            "300/300 [==============================] - 28s 95ms/step - loss: 0.1240 - accuracy: 0.9561 - mean_absolute_error: 3.5246 - mean_squared_error: 18.3658 - hinge: 0.1158 - binary_crossentropy: 0.4392 - val_loss: 0.2373 - val_accuracy: 0.9364 - val_mean_absolute_error: 4.2580 - val_mean_squared_error: 28.1348 - val_hinge: 0.2298 - val_binary_crossentropy: 0.6804\n",
            "Epoch 6/20\n",
            "300/300 [==============================] - 29s 95ms/step - loss: 0.0937 - accuracy: 0.9701 - mean_absolute_error: 4.5326 - mean_squared_error: 28.8748 - hinge: 0.0865 - binary_crossentropy: 0.3485 - val_loss: 0.1409 - val_accuracy: 0.9579 - val_mean_absolute_error: 4.2003 - val_mean_squared_error: 23.4857 - val_hinge: 0.1343 - val_binary_crossentropy: 0.5433\n",
            "Epoch 7/20\n",
            "300/300 [==============================] - 29s 97ms/step - loss: 0.0724 - accuracy: 0.9732 - mean_absolute_error: 4.4516 - mean_squared_error: 26.8765 - hinge: 0.0659 - binary_crossentropy: 0.3131 - val_loss: 0.1996 - val_accuracy: 0.9507 - val_mean_absolute_error: 4.7514 - val_mean_squared_error: 30.7496 - val_hinge: 0.1936 - val_binary_crossentropy: 0.5915\n",
            "Epoch 8/20\n",
            "300/300 [==============================] - 29s 97ms/step - loss: 0.0594 - accuracy: 0.9797 - mean_absolute_error: 4.9256 - mean_squared_error: 33.0602 - hinge: 0.0536 - binary_crossentropy: 0.2175 - val_loss: 0.1233 - val_accuracy: 0.9550 - val_mean_absolute_error: 4.7586 - val_mean_squared_error: 31.2220 - val_hinge: 0.1179 - val_binary_crossentropy: 0.5186\n",
            "Epoch 9/20\n",
            "300/300 [==============================] - 29s 98ms/step - loss: 0.0525 - accuracy: 0.9811 - mean_absolute_error: 5.1518 - mean_squared_error: 36.5670 - hinge: 0.0473 - binary_crossentropy: 0.2052 - val_loss: 0.1711 - val_accuracy: 0.9550 - val_mean_absolute_error: 4.7065 - val_mean_squared_error: 30.1961 - val_hinge: 0.1663 - val_binary_crossentropy: 0.5377\n",
            "Epoch 10/20\n",
            "300/300 [==============================] - 29s 98ms/step - loss: 0.0716 - accuracy: 0.9701 - mean_absolute_error: 4.4624 - mean_squared_error: 28.5369 - hinge: 0.0670 - binary_crossentropy: 0.2720 - val_loss: 0.1739 - val_accuracy: 0.9271 - val_mean_absolute_error: 4.9982 - val_mean_squared_error: 34.8751 - val_hinge: 0.1696 - val_binary_crossentropy: 0.8785\n",
            "Epoch 11/20\n",
            "300/300 [==============================] - 30s 99ms/step - loss: 0.1093 - accuracy: 0.9581 - mean_absolute_error: 4.9632 - mean_squared_error: 34.7859 - hinge: 0.1052 - binary_crossentropy: 0.4999 - val_loss: 0.1571 - val_accuracy: 0.9564 - val_mean_absolute_error: 5.0773 - val_mean_squared_error: 34.8599 - val_hinge: 0.1534 - val_binary_crossentropy: 0.5363\n",
            "Epoch 12/20\n",
            "300/300 [==============================] - 30s 99ms/step - loss: 0.0498 - accuracy: 0.9794 - mean_absolute_error: 5.3258 - mean_squared_error: 38.2810 - hinge: 0.0462 - binary_crossentropy: 0.2153 - val_loss: 0.2680 - val_accuracy: 0.9393 - val_mean_absolute_error: 5.8810 - val_mean_squared_error: 49.0160 - val_hinge: 0.2648 - val_binary_crossentropy: 0.7730\n",
            "Epoch 13/20\n",
            "300/300 [==============================] - 30s 99ms/step - loss: 0.0667 - accuracy: 0.9729 - mean_absolute_error: 4.7710 - mean_squared_error: 30.4911 - hinge: 0.0636 - binary_crossentropy: 0.3051 - val_loss: 0.1174 - val_accuracy: 0.9536 - val_mean_absolute_error: 4.7031 - val_mean_squared_error: 29.6156 - val_hinge: 0.1146 - val_binary_crossentropy: 0.5124\n",
            "Epoch 14/20\n",
            "300/300 [==============================] - 30s 99ms/step - loss: 0.0574 - accuracy: 0.9735 - mean_absolute_error: 5.1476 - mean_squared_error: 35.5427 - hinge: 0.0548 - binary_crossentropy: 0.2683 - val_loss: 0.1680 - val_accuracy: 0.9557 - val_mean_absolute_error: 5.5133 - val_mean_squared_error: 39.9537 - val_hinge: 0.1657 - val_binary_crossentropy: 0.5994\n",
            "Epoch 15/20\n",
            "300/300 [==============================] - 30s 99ms/step - loss: 0.0650 - accuracy: 0.9721 - mean_absolute_error: 5.7200 - mean_squared_error: 44.1304 - hinge: 0.0628 - binary_crossentropy: 0.2955 - val_loss: 0.1878 - val_accuracy: 0.9393 - val_mean_absolute_error: 6.1577 - val_mean_squared_error: 52.1596 - val_hinge: 0.1859 - val_binary_crossentropy: 0.7386\n",
            "Epoch 16/20\n",
            "300/300 [==============================] - 30s 99ms/step - loss: 0.0478 - accuracy: 0.9812 - mean_absolute_error: 6.1234 - mean_squared_error: 50.7117 - hinge: 0.0459 - binary_crossentropy: 0.1930 - val_loss: 0.2210 - val_accuracy: 0.9486 - val_mean_absolute_error: 6.2443 - val_mean_squared_error: 54.0347 - val_hinge: 0.2194 - val_binary_crossentropy: 0.6111\n",
            "Epoch 17/20\n",
            "300/300 [==============================] - 30s 99ms/step - loss: 0.0396 - accuracy: 0.9836 - mean_absolute_error: 6.4579 - mean_squared_error: 57.1033 - hinge: 0.0380 - binary_crossentropy: 0.1572 - val_loss: 0.1512 - val_accuracy: 0.9557 - val_mean_absolute_error: 6.2603 - val_mean_squared_error: 53.4925 - val_hinge: 0.1499 - val_binary_crossentropy: 0.5298\n",
            "Epoch 18/20\n",
            "300/300 [==============================] - 30s 99ms/step - loss: 0.0377 - accuracy: 0.9807 - mean_absolute_error: 6.7139 - mean_squared_error: 60.7055 - hinge: 0.0364 - binary_crossentropy: 0.1745 - val_loss: 0.4563 - val_accuracy: 0.9093 - val_mean_absolute_error: 6.5262 - val_mean_squared_error: 67.2713 - val_hinge: 0.4552 - val_binary_crossentropy: 1.1005\n",
            "Epoch 19/20\n",
            "300/300 [==============================] - 30s 99ms/step - loss: 0.0596 - accuracy: 0.9750 - mean_absolute_error: 5.9418 - mean_squared_error: 50.7337 - hinge: 0.0587 - binary_crossentropy: 0.2555 - val_loss: 0.1899 - val_accuracy: 0.9614 - val_mean_absolute_error: 6.8024 - val_mean_squared_error: 66.2370 - val_hinge: 0.1891 - val_binary_crossentropy: 0.5133\n",
            "Epoch 20/20\n",
            "300/300 [==============================] - 30s 100ms/step - loss: 0.0487 - accuracy: 0.9832 - mean_absolute_error: 6.7539 - mean_squared_error: 64.0262 - hinge: 0.0480 - binary_crossentropy: 0.1966 - val_loss: 0.1341 - val_accuracy: 0.9550 - val_mean_absolute_error: 6.2173 - val_mean_squared_error: 55.1889 - val_hinge: 0.1335 - val_binary_crossentropy: 0.5315\n"
          ],
          "name": "stdout"
        }
      ]
    }
  ]
}