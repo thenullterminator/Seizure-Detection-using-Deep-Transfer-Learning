{
  "nbformat": 4,
  "nbformat_minor": 0,
  "metadata": {
    "colab": {
      "name": "TL-PI-VGG16.ipynb",
      "provenance": [],
      "collapsed_sections": [],
      "toc_visible": true
    },
    "kernelspec": {
      "name": "python3",
      "display_name": "Python 3"
    },
    "accelerator": "GPU"
  },
  "cells": [
    {
      "cell_type": "markdown",
      "metadata": {
        "id": "vzjHlGyTdC12"
      },
      "source": [
        "## Essential Imports"
      ]
    },
    {
      "cell_type": "code",
      "metadata": {
        "colab": {
          "base_uri": "https://localhost:8080/"
        },
        "id": "DbqLr2Ch6G8G",
        "outputId": "f893c751-0cf0-4c7f-9bbf-06c50fa76b07"
      },
      "source": [
        "from google.colab import drive\n",
        "drive.mount('/content/drive')"
      ],
      "execution_count": null,
      "outputs": [
        {
          "output_type": "stream",
          "text": [
            "Mounted at /content/drive\n"
          ],
          "name": "stdout"
        }
      ]
    },
    {
      "cell_type": "code",
      "metadata": {
        "id": "RY2Bf7iqUHUb"
      },
      "source": [
        "import tensorflow as tf\n",
        "from keras.regularizers import l2\n",
        "from keras.layers import Input, Lambda, Dense, Flatten\n",
        "from keras.models import Model\n",
        "from keras.applications.vgg16 import VGG16\n",
        "from keras.applications.vgg16 import preprocess_input\n",
        "from keras.preprocessing import image\n",
        "from keras.preprocessing.image import ImageDataGenerator\n",
        "from keras.models import Sequential\n",
        "from tensorflow.python.keras.applications.vgg16 import preprocess_input\n",
        "from tensorflow.python.keras.preprocessing.image import ImageDataGenerator\n",
        "from keras.models import load_model\n",
        "import numpy as np\n",
        "from glob import glob\n",
        "import matplotlib.pyplot as plt"
      ],
      "execution_count": null,
      "outputs": []
    },
    {
      "cell_type": "markdown",
      "metadata": {
        "id": "UkhHn7Oi1nyv"
      },
      "source": [
        "## Essential Constants"
      ]
    },
    {
      "cell_type": "code",
      "metadata": {
        "id": "GuKeDgsGUO5w"
      },
      "source": [
        "train_path = '/content/drive/My Drive/DM Course Project/Temp data(plot images)/temp data(plot images)/train/'\n",
        "test_path = '/content/drive/My Drive/DM Course Project/Temp data(plot images)/temp data(plot images)/test/'\n",
        "\n",
        "# useful for getting number of classes\n",
        "folders = glob('/content/drive/My Drive/DM Course Project/Temp data(plot images)/temp data(plot images)/train/*')\n",
        "\n",
        "num_classes=len(folders)\n",
        "\n",
        "# re-size all the images to this\n",
        "IMAGE_SIZE = [224, 224]"
      ],
      "execution_count": null,
      "outputs": []
    },
    {
      "cell_type": "markdown",
      "metadata": {
        "id": "ZIm6kl071s2O"
      },
      "source": [
        "## Creating a new model"
      ]
    },
    {
      "cell_type": "code",
      "metadata": {
        "id": "Ce6-t9_lrYrQ",
        "colab": {
          "base_uri": "https://localhost:8080/"
        },
        "outputId": "3c9d25ce-2524-447f-8b75-f48e45ea05fc"
      },
      "source": [
        "model = Sequential()\n",
        "model.add(VGG16(input_shape=IMAGE_SIZE + [3], weights='imagenet', include_top=False))\n",
        "model.add(Flatten())\n",
        "model.add(Dense(units=128, activation='relu'))\n",
        "model.add(Dense(1, kernel_regularizer=l2(0.01),activation='linear')) # Final Layer is SVM Layer\n",
        "model.layers[0].trainable = False"
      ],
      "execution_count": null,
      "outputs": [
        {
          "output_type": "stream",
          "text": [
            "Downloading data from https://storage.googleapis.com/tensorflow/keras-applications/vgg16/vgg16_weights_tf_dim_ordering_tf_kernels_notop.h5\n",
            "58892288/58889256 [==============================] - 1s 0us/step\n"
          ],
          "name": "stdout"
        }
      ]
    },
    {
      "cell_type": "code",
      "metadata": {
        "id": "eOvrTR0A7E8M",
        "colab": {
          "base_uri": "https://localhost:8080/"
        },
        "outputId": "69281a08-20c2-413c-9c43-197ff3e998d4"
      },
      "source": [
        "model.compile(optimizer='adam', loss='hinge', metrics=['accuracy',tf.keras.metrics.MeanAbsoluteError(),tf.keras.metrics.MeanSquaredError(),tf.keras.metrics.Hinge(),tf.keras.metrics.BinaryCrossentropy()])\n",
        "model.summary()"
      ],
      "execution_count": null,
      "outputs": [
        {
          "output_type": "stream",
          "text": [
            "Model: \"sequential\"\n",
            "_________________________________________________________________\n",
            "Layer (type)                 Output Shape              Param #   \n",
            "=================================================================\n",
            "vgg16 (Functional)           (None, 7, 7, 512)         14714688  \n",
            "_________________________________________________________________\n",
            "flatten (Flatten)            (None, 25088)             0         \n",
            "_________________________________________________________________\n",
            "dense (Dense)                (None, 128)               3211392   \n",
            "_________________________________________________________________\n",
            "dense_1 (Dense)              (None, 1)                 129       \n",
            "=================================================================\n",
            "Total params: 17,926,209\n",
            "Trainable params: 3,211,521\n",
            "Non-trainable params: 14,714,688\n",
            "_________________________________________________________________\n"
          ],
          "name": "stdout"
        }
      ]
    },
    {
      "cell_type": "markdown",
      "metadata": {
        "id": "-e0jUci512K2"
      },
      "source": [
        "## Setting up training and testing data"
      ]
    },
    {
      "cell_type": "code",
      "metadata": {
        "id": "O7Y6zKJosQSe",
        "colab": {
          "base_uri": "https://localhost:8080/"
        },
        "outputId": "d136b853-7fba-4745-ad9f-2a3c6834bc56"
      },
      "source": [
        "data_generator = ImageDataGenerator(preprocessing_function=preprocess_input)\n",
        "train_set = data_generator.flow_from_directory(train_path,target_size = (224, 224),batch_size=10,class_mode = 'binary')\n",
        "test_set = data_generator.flow_from_directory(test_path,target_size = (224, 224),batch_size=10,class_mode = 'binary')"
      ],
      "execution_count": null,
      "outputs": [
        {
          "output_type": "stream",
          "text": [
            "Found 3000 images belonging to 2 classes.\n",
            "Found 1400 images belonging to 2 classes.\n"
          ],
          "name": "stdout"
        }
      ]
    },
    {
      "cell_type": "code",
      "metadata": {
        "id": "3gCFLFp1tbxs",
        "colab": {
          "base_uri": "https://localhost:8080/"
        },
        "outputId": "baaa8876-791b-4020-c3d5-c9bba35a719f"
      },
      "source": [
        "r = model.fit_generator(\n",
        "  train_set,\n",
        "  validation_data=test_set,\n",
        "  epochs=20,\n",
        "  steps_per_epoch=len(train_set),\n",
        "  validation_steps=len(test_set)\n",
        ")\n",
        "\n",
        "f=open('/content/drive/My Drive/DM Course Project/Transfer Learning Model/TL-PI-VGG16-stats.txt','w')\n",
        "f.write(str(r.history))\n",
        "f.close()\n",
        "\n",
        "model.save('/content/drive/My Drive/DM Course Project/Transfer Learning Model/TL-PI-VGG16-model.h5')"
      ],
      "execution_count": null,
      "outputs": [
        {
          "output_type": "stream",
          "text": [
            "/usr/local/lib/python3.7/dist-packages/tensorflow/python/keras/engine/training.py:1844: UserWarning: `Model.fit_generator` is deprecated and will be removed in a future version. Please use `Model.fit`, which supports generators.\n",
            "  warnings.warn('`Model.fit_generator` is deprecated and '\n"
          ],
          "name": "stderr"
        },
        {
          "output_type": "stream",
          "text": [
            "Epoch 1/20\n",
            "300/300 [==============================] - 1326s 4s/step - loss: 2.6751 - accuracy: 0.6899 - mean_absolute_error: 6.6206 - mean_squared_error: 466.9840 - hinge: 2.6573 - binary_crossentropy: 4.0123 - val_loss: 0.3014 - val_accuracy: 0.8857 - val_mean_absolute_error: 2.6237 - val_mean_squared_error: 12.0227 - val_hinge: 0.2863 - val_binary_crossentropy: 1.1950\n",
            "Epoch 2/20\n",
            "300/300 [==============================] - 27s 91ms/step - loss: 0.2560 - accuracy: 0.8833 - mean_absolute_error: 2.3685 - mean_squared_error: 9.0925 - hinge: 0.2415 - binary_crossentropy: 1.1997 - val_loss: 0.2851 - val_accuracy: 0.9114 - val_mean_absolute_error: 2.8160 - val_mean_squared_error: 13.5208 - val_hinge: 0.2725 - val_binary_crossentropy: 0.8950\n",
            "Epoch 3/20\n",
            "300/300 [==============================] - 27s 90ms/step - loss: 0.1408 - accuracy: 0.9316 - mean_absolute_error: 2.8162 - mean_squared_error: 12.9425 - hinge: 0.1286 - binary_crossentropy: 0.5994 - val_loss: 0.1661 - val_accuracy: 0.9414 - val_mean_absolute_error: 2.9534 - val_mean_squared_error: 12.3402 - val_hinge: 0.1553 - val_binary_crossentropy: 0.4676\n",
            "Epoch 4/20\n",
            "300/300 [==============================] - 27s 90ms/step - loss: 0.1049 - accuracy: 0.9455 - mean_absolute_error: 3.1438 - mean_squared_error: 14.5288 - hinge: 0.0945 - binary_crossentropy: 0.3760 - val_loss: 0.1053 - val_accuracy: 0.9536 - val_mean_absolute_error: 3.6745 - val_mean_squared_error: 17.6187 - val_hinge: 0.0960 - val_binary_crossentropy: 0.3856\n",
            "Epoch 5/20\n",
            "300/300 [==============================] - 27s 90ms/step - loss: 0.0628 - accuracy: 0.9672 - mean_absolute_error: 3.8760 - mean_squared_error: 20.0783 - hinge: 0.0539 - binary_crossentropy: 0.2391 - val_loss: 0.2819 - val_accuracy: 0.9279 - val_mean_absolute_error: 3.9853 - val_mean_squared_error: 22.2146 - val_hinge: 0.2737 - val_binary_crossentropy: 0.8445\n",
            "Epoch 6/20\n",
            "300/300 [==============================] - 27s 90ms/step - loss: 0.0830 - accuracy: 0.9608 - mean_absolute_error: 4.2009 - mean_squared_error: 23.9759 - hinge: 0.0751 - binary_crossentropy: 0.2581 - val_loss: 0.1157 - val_accuracy: 0.9664 - val_mean_absolute_error: 5.1910 - val_mean_squared_error: 36.1068 - val_hinge: 0.1085 - val_binary_crossentropy: 0.3360\n",
            "Epoch 7/20\n",
            "300/300 [==============================] - 27s 90ms/step - loss: 0.0672 - accuracy: 0.9725 - mean_absolute_error: 5.1701 - mean_squared_error: 35.3451 - hinge: 0.0603 - binary_crossentropy: 0.2089 - val_loss: 0.1208 - val_accuracy: 0.9436 - val_mean_absolute_error: 4.6747 - val_mean_squared_error: 29.7507 - val_hinge: 0.1145 - val_binary_crossentropy: 0.5647\n",
            "Epoch 8/20\n",
            "300/300 [==============================] - 27s 90ms/step - loss: 0.0479 - accuracy: 0.9769 - mean_absolute_error: 5.0021 - mean_squared_error: 32.6219 - hinge: 0.0418 - binary_crossentropy: 0.1871 - val_loss: 0.1213 - val_accuracy: 0.9686 - val_mean_absolute_error: 5.3993 - val_mean_squared_error: 37.8407 - val_hinge: 0.1158 - val_binary_crossentropy: 0.3348\n",
            "Epoch 9/20\n",
            "300/300 [==============================] - 27s 91ms/step - loss: 0.0747 - accuracy: 0.9709 - mean_absolute_error: 5.5012 - mean_squared_error: 40.0120 - hinge: 0.0693 - binary_crossentropy: 0.2820 - val_loss: 0.1143 - val_accuracy: 0.9650 - val_mean_absolute_error: 4.5767 - val_mean_squared_error: 28.9180 - val_hinge: 0.1094 - val_binary_crossentropy: 0.3924\n",
            "Epoch 10/20\n",
            "300/300 [==============================] - 27s 90ms/step - loss: 0.0270 - accuracy: 0.9899 - mean_absolute_error: 5.4587 - mean_squared_error: 38.3787 - hinge: 0.0223 - binary_crossentropy: 0.0829 - val_loss: 0.1217 - val_accuracy: 0.9543 - val_mean_absolute_error: 6.3947 - val_mean_squared_error: 56.4409 - val_hinge: 0.1175 - val_binary_crossentropy: 0.5305\n",
            "Epoch 11/20\n",
            "300/300 [==============================] - 28s 92ms/step - loss: 0.0200 - accuracy: 0.9944 - mean_absolute_error: 6.6015 - mean_squared_error: 55.7788 - hinge: 0.0159 - binary_crossentropy: 0.0479 - val_loss: 0.0886 - val_accuracy: 0.9729 - val_mean_absolute_error: 6.1637 - val_mean_squared_error: 49.2907 - val_hinge: 0.0850 - val_binary_crossentropy: 0.2859\n",
            "Epoch 12/20\n",
            "300/300 [==============================] - 27s 91ms/step - loss: 0.0267 - accuracy: 0.9884 - mean_absolute_error: 6.8421 - mean_squared_error: 60.3193 - hinge: 0.0233 - binary_crossentropy: 0.1074 - val_loss: 0.1141 - val_accuracy: 0.9550 - val_mean_absolute_error: 5.9033 - val_mean_squared_error: 49.3665 - val_hinge: 0.1110 - val_binary_crossentropy: 0.4901\n",
            "Epoch 13/20\n",
            "300/300 [==============================] - 27s 89ms/step - loss: 0.0557 - accuracy: 0.9782 - mean_absolute_error: 6.0020 - mean_squared_error: 48.3922 - hinge: 0.0528 - binary_crossentropy: 0.2507 - val_loss: 0.0927 - val_accuracy: 0.9750 - val_mean_absolute_error: 5.3487 - val_mean_squared_error: 37.5059 - val_hinge: 0.0901 - val_binary_crossentropy: 0.2986\n",
            "Epoch 14/20\n",
            "300/300 [==============================] - 27s 91ms/step - loss: 0.0331 - accuracy: 0.9888 - mean_absolute_error: 6.0227 - mean_squared_error: 47.8688 - hinge: 0.0306 - binary_crossentropy: 0.1096 - val_loss: 0.0998 - val_accuracy: 0.9729 - val_mean_absolute_error: 5.3625 - val_mean_squared_error: 38.3033 - val_hinge: 0.0976 - val_binary_crossentropy: 0.3003\n",
            "Epoch 15/20\n",
            "300/300 [==============================] - 27s 90ms/step - loss: 0.0250 - accuracy: 0.9892 - mean_absolute_error: 5.7714 - mean_squared_error: 44.8190 - hinge: 0.0230 - binary_crossentropy: 0.0981 - val_loss: 0.0902 - val_accuracy: 0.9693 - val_mean_absolute_error: 6.1540 - val_mean_squared_error: 53.6148 - val_hinge: 0.0884 - val_binary_crossentropy: 0.3840\n",
            "Epoch 16/20\n",
            "300/300 [==============================] - 27s 91ms/step - loss: 0.0211 - accuracy: 0.9915 - mean_absolute_error: 6.1174 - mean_squared_error: 51.6423 - hinge: 0.0195 - binary_crossentropy: 0.0939 - val_loss: 0.2649 - val_accuracy: 0.8864 - val_mean_absolute_error: 6.2306 - val_mean_squared_error: 60.3503 - val_hinge: 0.2636 - val_binary_crossentropy: 1.3571\n",
            "Epoch 17/20\n",
            "300/300 [==============================] - 27s 90ms/step - loss: 0.0492 - accuracy: 0.9824 - mean_absolute_error: 5.9773 - mean_squared_error: 51.2460 - hinge: 0.0479 - binary_crossentropy: 0.2264 - val_loss: 0.1768 - val_accuracy: 0.9300 - val_mean_absolute_error: 7.6573 - val_mean_squared_error: 88.2249 - val_hinge: 0.1757 - val_binary_crossentropy: 0.8190\n",
            "Epoch 18/20\n",
            "300/300 [==============================] - 27s 90ms/step - loss: 0.0227 - accuracy: 0.9907 - mean_absolute_error: 7.2760 - mean_squared_error: 71.4476 - hinge: 0.0217 - binary_crossentropy: 0.0791 - val_loss: 0.0837 - val_accuracy: 0.9736 - val_mean_absolute_error: 5.9896 - val_mean_squared_error: 51.6632 - val_hinge: 0.0829 - val_binary_crossentropy: 0.3426\n",
            "Epoch 19/20\n",
            "300/300 [==============================] - 27s 91ms/step - loss: 0.0157 - accuracy: 0.9938 - mean_absolute_error: 6.4989 - mean_squared_error: 59.1506 - hinge: 0.0149 - binary_crossentropy: 0.0526 - val_loss: 0.0780 - val_accuracy: 0.9814 - val_mean_absolute_error: 6.8760 - val_mean_squared_error: 62.4720 - val_hinge: 0.0774 - val_binary_crossentropy: 0.1981\n",
            "Epoch 20/20\n",
            "300/300 [==============================] - 27s 91ms/step - loss: 0.0171 - accuracy: 0.9914 - mean_absolute_error: 7.0902 - mean_squared_error: 69.0420 - hinge: 0.0166 - binary_crossentropy: 0.0680 - val_loss: 0.1456 - val_accuracy: 0.9657 - val_mean_absolute_error: 7.2537 - val_mean_squared_error: 66.2398 - val_hinge: 0.1452 - val_binary_crossentropy: 0.3909\n"
          ],
          "name": "stdout"
        }
      ]
    }
  ]
}