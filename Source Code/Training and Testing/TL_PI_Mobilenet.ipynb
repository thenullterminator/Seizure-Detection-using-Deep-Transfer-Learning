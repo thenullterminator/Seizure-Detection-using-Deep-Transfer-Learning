{
  "nbformat": 4,
  "nbformat_minor": 0,
  "metadata": {
    "colab": {
      "name": "TL-PI-Mobilenet.ipynb",
      "provenance": [],
      "collapsed_sections": []
    },
    "kernelspec": {
      "name": "python3",
      "display_name": "Python 3"
    },
    "accelerator": "GPU"
  },
  "cells": [
    {
      "cell_type": "markdown",
      "metadata": {
        "id": "vzjHlGyTdC12"
      },
      "source": [
        "## Essential Imports"
      ]
    },
    {
      "cell_type": "code",
      "metadata": {
        "id": "RY2Bf7iqUHUb"
      },
      "source": [
        "import tensorflow as tf\n",
        "from keras.regularizers import l2\n",
        "from keras.layers import Input, Lambda, Dense, Flatten\n",
        "from keras.models import Model\n",
        "from keras.applications.mobilenet import MobileNet\n",
        "from keras.applications.mobilenet import preprocess_input\n",
        "from keras.preprocessing import image\n",
        "from keras.preprocessing.image import ImageDataGenerator\n",
        "from keras.models import Sequential\n",
        "from keras.models import load_model\n",
        "import numpy as np\n",
        "from glob import glob\n",
        "import matplotlib.pyplot as plt"
      ],
      "execution_count": null,
      "outputs": []
    },
    {
      "cell_type": "code",
      "metadata": {
        "colab": {
          "base_uri": "https://localhost:8080/"
        },
        "id": "YsPlPSXZC4tz",
        "outputId": "924c5a19-addd-4d1d-f5ea-d8aec9aa201e"
      },
      "source": [
        "from google.colab import drive\n",
        "drive.mount('/content/drive')"
      ],
      "execution_count": null,
      "outputs": [
        {
          "output_type": "stream",
          "text": [
            "Mounted at /content/drive\n"
          ],
          "name": "stdout"
        }
      ]
    },
    {
      "cell_type": "markdown",
      "metadata": {
        "id": "UkhHn7Oi1nyv"
      },
      "source": [
        "## Essential Constants"
      ]
    },
    {
      "cell_type": "code",
      "metadata": {
        "id": "GuKeDgsGUO5w"
      },
      "source": [
        "train_path = '/content/drive/My Drive/DM Course Project/Temp data(plot images)/temp data(plot images)/train/'\n",
        "test_path = '/content/drive/My Drive/DM Course Project/Temp data(plot images)/temp data(plot images)/test/'\n",
        "\n",
        "# useful for getting number of classes\n",
        "folders = glob('/content/drive/My Drive/DM Course Project/Temp data(plot images)/temp data(plot images)/train/*')\n",
        "\n",
        "num_classes=len(folders)\n",
        "\n",
        "# re-size all the images to this\n",
        "IMAGE_SIZE = [224, 224]"
      ],
      "execution_count": null,
      "outputs": []
    },
    {
      "cell_type": "markdown",
      "metadata": {
        "id": "ZIm6kl071s2O"
      },
      "source": [
        "## Creating a new model"
      ]
    },
    {
      "cell_type": "code",
      "metadata": {
        "id": "Ce6-t9_lrYrQ",
        "colab": {
          "base_uri": "https://localhost:8080/"
        },
        "outputId": "9fbce365-ff14-49ad-c594-cba5310b01cb"
      },
      "source": [
        "model = Sequential()\n",
        "model.add(MobileNet(input_shape=IMAGE_SIZE + [3], weights='imagenet', include_top=False))\n",
        "model.add(Flatten())\n",
        "model.add(Dense(units=128, activation='relu'))\n",
        "model.add(Dense(1, kernel_regularizer=l2(0.01),activation='linear')) # Final Layer is SVM Layer\n",
        "model.layers[0].trainable = False"
      ],
      "execution_count": null,
      "outputs": [
        {
          "output_type": "stream",
          "text": [
            "Downloading data from https://storage.googleapis.com/tensorflow/keras-applications/mobilenet/mobilenet_1_0_224_tf_no_top.h5\n",
            "17227776/17225924 [==============================] - 0s 0us/step\n"
          ],
          "name": "stdout"
        }
      ]
    },
    {
      "cell_type": "code",
      "metadata": {
        "id": "eOvrTR0A7E8M",
        "colab": {
          "base_uri": "https://localhost:8080/"
        },
        "outputId": "1dec6f50-0e96-44f9-a6df-357640e45be0"
      },
      "source": [
        "model.compile(optimizer='adam', loss='hinge', metrics=['accuracy',tf.keras.metrics.MeanAbsoluteError(),tf.keras.metrics.MeanSquaredError(),tf.keras.metrics.Hinge(),tf.keras.metrics.BinaryCrossentropy()])\n",
        "model.summary()"
      ],
      "execution_count": null,
      "outputs": [
        {
          "output_type": "stream",
          "text": [
            "Model: \"sequential\"\n",
            "_________________________________________________________________\n",
            "Layer (type)                 Output Shape              Param #   \n",
            "=================================================================\n",
            "mobilenet_1.00_224 (Function (None, 7, 7, 1024)        3228864   \n",
            "_________________________________________________________________\n",
            "flatten (Flatten)            (None, 50176)             0         \n",
            "_________________________________________________________________\n",
            "dense (Dense)                (None, 128)               6422656   \n",
            "_________________________________________________________________\n",
            "dense_1 (Dense)              (None, 1)                 129       \n",
            "=================================================================\n",
            "Total params: 9,651,649\n",
            "Trainable params: 6,422,785\n",
            "Non-trainable params: 3,228,864\n",
            "_________________________________________________________________\n"
          ],
          "name": "stdout"
        }
      ]
    },
    {
      "cell_type": "markdown",
      "metadata": {
        "id": "-e0jUci512K2"
      },
      "source": [
        "## Setting up training and testing data"
      ]
    },
    {
      "cell_type": "code",
      "metadata": {
        "id": "O7Y6zKJosQSe",
        "colab": {
          "base_uri": "https://localhost:8080/"
        },
        "outputId": "cfd04121-e8ad-4cb6-c0ff-b05f68919d75"
      },
      "source": [
        "data_generator = ImageDataGenerator(preprocessing_function=preprocess_input)\n",
        "train_set = data_generator.flow_from_directory(train_path,target_size = (224, 224),batch_size=10,class_mode = 'binary')\n",
        "test_set = data_generator.flow_from_directory(test_path,target_size = (224, 224),batch_size=10,class_mode = 'binary')"
      ],
      "execution_count": null,
      "outputs": [
        {
          "output_type": "stream",
          "text": [
            "Found 3000 images belonging to 2 classes.\n",
            "Found 1400 images belonging to 2 classes.\n"
          ],
          "name": "stdout"
        }
      ]
    },
    {
      "cell_type": "code",
      "metadata": {
        "id": "3gCFLFp1tbxs",
        "colab": {
          "base_uri": "https://localhost:8080/"
        },
        "outputId": "5908f01e-23b2-47f6-e654-6da5267a6670"
      },
      "source": [
        "r = model.fit_generator(\n",
        "  train_set,\n",
        "  validation_data=test_set,\n",
        "  epochs=20,\n",
        "  steps_per_epoch=len(train_set),\n",
        "  validation_steps=len(test_set)\n",
        ")\n",
        "\n",
        "f=open('/content/drive/My Drive/DM Course Project/Transfer Learning Model/TL-PI-Mobilenet-stats.txt','w')\n",
        "f.write(str(r.history))\n",
        "f.close()\n",
        "\n",
        "model.save('/content/drive/My Drive/DM Course Project/Transfer Learning Model/TL-PI-Mobilenet-model.h5')"
      ],
      "execution_count": null,
      "outputs": [
        {
          "output_type": "stream",
          "text": [
            "/usr/local/lib/python3.7/dist-packages/tensorflow/python/keras/engine/training.py:1844: UserWarning: `Model.fit_generator` is deprecated and will be removed in a future version. Please use `Model.fit`, which supports generators.\n",
            "  warnings.warn('`Model.fit_generator` is deprecated and '\n"
          ],
          "name": "stderr"
        },
        {
          "output_type": "stream",
          "text": [
            "Epoch 1/20\n",
            "300/300 [==============================] - 876s 3s/step - loss: 2.0920 - accuracy: 0.7544 - mean_absolute_error: 4.5518 - mean_squared_error: 129.4389 - hinge: 2.0741 - binary_crossentropy: 3.2433 - val_loss: 0.2383 - val_accuracy: 0.8964 - val_mean_absolute_error: 3.2429 - val_mean_squared_error: 15.1561 - val_hinge: 0.2248 - val_binary_crossentropy: 1.2373\n",
            "Epoch 2/20\n",
            "300/300 [==============================] - 23s 77ms/step - loss: 0.1333 - accuracy: 0.9500 - mean_absolute_error: 3.3180 - mean_squared_error: 15.6370 - hinge: 0.1205 - binary_crossentropy: 0.5770 - val_loss: 0.1430 - val_accuracy: 0.9336 - val_mean_absolute_error: 3.6566 - val_mean_squared_error: 18.6621 - val_hinge: 0.1321 - val_binary_crossentropy: 0.6348\n",
            "Epoch 3/20\n",
            "300/300 [==============================] - 23s 77ms/step - loss: 0.1154 - accuracy: 0.9599 - mean_absolute_error: 4.0240 - mean_squared_error: 22.4082 - hinge: 0.1050 - binary_crossentropy: 0.4459 - val_loss: 0.1584 - val_accuracy: 0.9364 - val_mean_absolute_error: 4.1957 - val_mean_squared_error: 25.3936 - val_hinge: 0.1491 - val_binary_crossentropy: 0.7807\n",
            "Epoch 4/20\n",
            "300/300 [==============================] - 23s 77ms/step - loss: 0.1176 - accuracy: 0.9595 - mean_absolute_error: 4.5427 - mean_squared_error: 28.4935 - hinge: 0.1086 - binary_crossentropy: 0.4722 - val_loss: 0.1172 - val_accuracy: 0.9636 - val_mean_absolute_error: 3.7772 - val_mean_squared_error: 18.4146 - val_hinge: 0.1091 - val_binary_crossentropy: 0.3560\n",
            "Epoch 5/20\n",
            "300/300 [==============================] - 23s 78ms/step - loss: 0.0362 - accuracy: 0.9883 - mean_absolute_error: 4.3693 - mean_squared_error: 23.6889 - hinge: 0.0283 - binary_crossentropy: 0.0990 - val_loss: 0.1141 - val_accuracy: 0.9557 - val_mean_absolute_error: 3.4783 - val_mean_squared_error: 16.0146 - val_hinge: 0.1068 - val_binary_crossentropy: 0.4827\n",
            "Epoch 6/20\n",
            "300/300 [==============================] - 23s 77ms/step - loss: 0.0507 - accuracy: 0.9795 - mean_absolute_error: 4.1459 - mean_squared_error: 21.4078 - hinge: 0.0436 - binary_crossentropy: 0.1701 - val_loss: 0.1676 - val_accuracy: 0.9600 - val_mean_absolute_error: 4.7935 - val_mean_squared_error: 29.1377 - val_hinge: 0.1611 - val_binary_crossentropy: 0.4741\n",
            "Epoch 7/20\n",
            "300/300 [==============================] - 23s 76ms/step - loss: 0.0213 - accuracy: 0.9937 - mean_absolute_error: 5.3714 - mean_squared_error: 35.4517 - hinge: 0.0149 - binary_crossentropy: 0.0787 - val_loss: 0.1220 - val_accuracy: 0.9693 - val_mean_absolute_error: 3.9938 - val_mean_squared_error: 19.5616 - val_hinge: 0.1161 - val_binary_crossentropy: 0.3544\n",
            "Epoch 8/20\n",
            "300/300 [==============================] - 23s 77ms/step - loss: 0.0282 - accuracy: 0.9907 - mean_absolute_error: 4.5388 - mean_squared_error: 24.4754 - hinge: 0.0225 - binary_crossentropy: 0.1288 - val_loss: 0.0991 - val_accuracy: 0.9679 - val_mean_absolute_error: 4.0969 - val_mean_squared_error: 23.0384 - val_hinge: 0.0938 - val_binary_crossentropy: 0.3907\n",
            "Epoch 9/20\n",
            "300/300 [==============================] - 23s 77ms/step - loss: 0.0243 - accuracy: 0.9924 - mean_absolute_error: 4.9080 - mean_squared_error: 30.9946 - hinge: 0.0192 - binary_crossentropy: 0.0741 - val_loss: 0.1673 - val_accuracy: 0.9621 - val_mean_absolute_error: 5.2126 - val_mean_squared_error: 36.4206 - val_hinge: 0.1626 - val_binary_crossentropy: 0.4243\n",
            "Epoch 10/20\n",
            "300/300 [==============================] - 23s 77ms/step - loss: 0.0784 - accuracy: 0.9761 - mean_absolute_error: 5.8591 - mean_squared_error: 45.9887 - hinge: 0.0739 - binary_crossentropy: 0.3001 - val_loss: 0.0994 - val_accuracy: 0.9643 - val_mean_absolute_error: 4.9740 - val_mean_squared_error: 31.6732 - val_hinge: 0.0955 - val_binary_crossentropy: 0.4314\n",
            "Epoch 11/20\n",
            "300/300 [==============================] - 23s 77ms/step - loss: 0.0357 - accuracy: 0.9851 - mean_absolute_error: 5.3458 - mean_squared_error: 35.3066 - hinge: 0.0318 - binary_crossentropy: 0.1325 - val_loss: 0.1842 - val_accuracy: 0.9600 - val_mean_absolute_error: 5.3183 - val_mean_squared_error: 36.8961 - val_hinge: 0.1808 - val_binary_crossentropy: 0.5151\n",
            "Epoch 12/20\n",
            "300/300 [==============================] - 23s 77ms/step - loss: 0.0417 - accuracy: 0.9865 - mean_absolute_error: 5.2577 - mean_squared_error: 34.2821 - hinge: 0.0385 - binary_crossentropy: 0.1390 - val_loss: 0.1230 - val_accuracy: 0.9600 - val_mean_absolute_error: 5.6193 - val_mean_squared_error: 41.2202 - val_hinge: 0.1201 - val_binary_crossentropy: 0.5187\n",
            "Epoch 13/20\n",
            "300/300 [==============================] - 23s 77ms/step - loss: 0.0250 - accuracy: 0.9901 - mean_absolute_error: 5.9098 - mean_squared_error: 42.9433 - hinge: 0.0223 - binary_crossentropy: 0.1016 - val_loss: 0.1648 - val_accuracy: 0.9636 - val_mean_absolute_error: 5.9387 - val_mean_squared_error: 45.4547 - val_hinge: 0.1625 - val_binary_crossentropy: 0.4507\n",
            "Epoch 14/20\n",
            "300/300 [==============================] - 23s 78ms/step - loss: 0.0198 - accuracy: 0.9907 - mean_absolute_error: 6.1113 - mean_squared_error: 45.6549 - hinge: 0.0176 - binary_crossentropy: 0.0580 - val_loss: 0.1252 - val_accuracy: 0.9643 - val_mean_absolute_error: 5.3864 - val_mean_squared_error: 36.4810 - val_hinge: 0.1234 - val_binary_crossentropy: 0.4395\n",
            "Epoch 15/20\n",
            "300/300 [==============================] - 23s 77ms/step - loss: 0.0117 - accuracy: 0.9963 - mean_absolute_error: 5.9090 - mean_squared_error: 41.2269 - hinge: 0.0100 - binary_crossentropy: 0.0307 - val_loss: 0.1183 - val_accuracy: 0.9514 - val_mean_absolute_error: 5.4425 - val_mean_squared_error: 37.7927 - val_hinge: 0.1169 - val_binary_crossentropy: 0.5739\n",
            "Epoch 16/20\n",
            "300/300 [==============================] - 23s 77ms/step - loss: 0.0129 - accuracy: 0.9949 - mean_absolute_error: 6.1506 - mean_squared_error: 44.9480 - hinge: 0.0115 - binary_crossentropy: 0.0394 - val_loss: 0.1099 - val_accuracy: 0.9693 - val_mean_absolute_error: 6.0088 - val_mean_squared_error: 44.9998 - val_hinge: 0.1087 - val_binary_crossentropy: 0.4258\n",
            "Epoch 17/20\n",
            "300/300 [==============================] - 23s 77ms/step - loss: 0.0097 - accuracy: 0.9960 - mean_absolute_error: 6.4501 - mean_squared_error: 49.3644 - hinge: 0.0086 - binary_crossentropy: 0.0345 - val_loss: 0.1079 - val_accuracy: 0.9700 - val_mean_absolute_error: 5.7614 - val_mean_squared_error: 41.1833 - val_hinge: 0.1070 - val_binary_crossentropy: 0.3923\n",
            "Epoch 18/20\n",
            "300/300 [==============================] - 23s 77ms/step - loss: 0.0123 - accuracy: 0.9966 - mean_absolute_error: 6.0155 - mean_squared_error: 43.6290 - hinge: 0.0115 - binary_crossentropy: 0.0461 - val_loss: 0.3781 - val_accuracy: 0.9100 - val_mean_absolute_error: 6.2832 - val_mean_squared_error: 54.4585 - val_hinge: 0.3774 - val_binary_crossentropy: 1.2120\n",
            "Epoch 19/20\n",
            "300/300 [==============================] - 23s 78ms/step - loss: 0.0378 - accuracy: 0.9876 - mean_absolute_error: 6.1798 - mean_squared_error: 46.9638 - hinge: 0.0372 - binary_crossentropy: 0.1680 - val_loss: 0.2202 - val_accuracy: 0.9143 - val_mean_absolute_error: 5.5150 - val_mean_squared_error: 39.3173 - val_hinge: 0.2197 - val_binary_crossentropy: 1.0916\n",
            "Epoch 20/20\n",
            "300/300 [==============================] - 23s 77ms/step - loss: 0.0587 - accuracy: 0.9763 - mean_absolute_error: 5.6704 - mean_squared_error: 38.8498 - hinge: 0.0582 - binary_crossentropy: 0.3040 - val_loss: 0.1321 - val_accuracy: 0.9436 - val_mean_absolute_error: 5.1089 - val_mean_squared_error: 33.2440 - val_hinge: 0.1317 - val_binary_crossentropy: 0.6148\n"
          ],
          "name": "stdout"
        }
      ]
    }
  ]
}