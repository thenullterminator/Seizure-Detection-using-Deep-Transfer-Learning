{
  "nbformat": 4,
  "nbformat_minor": 0,
  "metadata": {
    "colab": {
      "name": "TL-SI-Mobilenet.ipynb",
      "provenance": [],
      "toc_visible": true
    },
    "kernelspec": {
      "name": "python3",
      "display_name": "Python 3"
    },
    "accelerator": "GPU"
  },
  "cells": [
    {
      "cell_type": "markdown",
      "metadata": {
        "id": "vzjHlGyTdC12"
      },
      "source": [
        "## Essential Imports"
      ]
    },
    {
      "cell_type": "code",
      "metadata": {
        "id": "R4OtvsPjRUjs",
        "colab": {
          "base_uri": "https://localhost:8080/"
        },
        "outputId": "0af12405-5c54-4108-9f02-e311238a6b77"
      },
      "source": [
        "from google.colab import drive\n",
        "drive.mount('/content/drive')"
      ],
      "execution_count": null,
      "outputs": [
        {
          "output_type": "stream",
          "text": [
            "Mounted at /content/drive\n"
          ],
          "name": "stdout"
        }
      ]
    },
    {
      "cell_type": "code",
      "metadata": {
        "id": "RY2Bf7iqUHUb"
      },
      "source": [
        "import tensorflow as tf\n",
        "from keras.regularizers import l2\n",
        "from keras.layers import Input, Lambda, Dense, Flatten\n",
        "from keras.models import Model\n",
        "from keras.applications.mobilenet import MobileNet\n",
        "from keras.applications.mobilenet import preprocess_input\n",
        "from keras.preprocessing import image\n",
        "from keras.preprocessing.image import ImageDataGenerator\n",
        "from keras.models import Sequential\n",
        "from keras.models import load_model\n",
        "import numpy as np\n",
        "from glob import glob\n",
        "import matplotlib.pyplot as plt"
      ],
      "execution_count": null,
      "outputs": []
    },
    {
      "cell_type": "markdown",
      "metadata": {
        "id": "UkhHn7Oi1nyv"
      },
      "source": [
        "## Essential Constants"
      ]
    },
    {
      "cell_type": "code",
      "metadata": {
        "id": "GuKeDgsGUO5w"
      },
      "source": [
        "train_path = '/content/drive/My Drive/DM Course Project/Temp data(spec images)/temp data(spec images)/train/'\n",
        "test_path = '/content/drive/My Drive/DM Course Project/Temp data(spec images)/temp data(spec images)/test/'\n",
        "\n",
        "# useful for getting number of classes\n",
        "folders = glob('/content/drive/My Drive/DM Course Project/Temp data(spec images)/temp data(spec images)/train/*')\n",
        "\n",
        "num_classes=len(folders)\n",
        "\n",
        "# re-size all the images to this\n",
        "IMAGE_SIZE = [224, 224]"
      ],
      "execution_count": null,
      "outputs": []
    },
    {
      "cell_type": "code",
      "metadata": {
        "colab": {
          "base_uri": "https://localhost:8080/"
        },
        "id": "zvLdgClyDuK4",
        "outputId": "6cde867b-f4e8-4d9b-f2b4-63d2504cea74"
      },
      "source": [
        "print(num_classes)"
      ],
      "execution_count": null,
      "outputs": [
        {
          "output_type": "stream",
          "text": [
            "2\n"
          ],
          "name": "stdout"
        }
      ]
    },
    {
      "cell_type": "markdown",
      "metadata": {
        "id": "ZIm6kl071s2O"
      },
      "source": [
        "## Creating a new model"
      ]
    },
    {
      "cell_type": "code",
      "metadata": {
        "id": "Ce6-t9_lrYrQ",
        "colab": {
          "base_uri": "https://localhost:8080/"
        },
        "outputId": "992d2539-0cf9-41f1-e6f1-a60648d6795f"
      },
      "source": [
        "model = Sequential()\n",
        "model.add(MobileNet(input_shape=IMAGE_SIZE + [3], weights='imagenet', include_top=False))\n",
        "model.add(Flatten())\n",
        "model.add(Dense(units=128, activation='relu'))\n",
        "model.add(Dense(1, kernel_regularizer=l2(0.01),activation='linear')) # Final Layer is SVM Layer\n",
        "model.layers[0].trainable = False"
      ],
      "execution_count": null,
      "outputs": [
        {
          "output_type": "stream",
          "text": [
            "Downloading data from https://storage.googleapis.com/tensorflow/keras-applications/mobilenet/mobilenet_1_0_224_tf_no_top.h5\n",
            "17227776/17225924 [==============================] - 0s 0us/step\n"
          ],
          "name": "stdout"
        }
      ]
    },
    {
      "cell_type": "code",
      "metadata": {
        "id": "eOvrTR0A7E8M",
        "colab": {
          "base_uri": "https://localhost:8080/"
        },
        "outputId": "9c1176f4-a4ef-467f-8ad5-7d93b14ecdf0"
      },
      "source": [
        "model.compile(optimizer='adam', loss='hinge', metrics=['accuracy',tf.keras.metrics.MeanAbsoluteError(),tf.keras.metrics.MeanSquaredError(),tf.keras.metrics.Hinge(),tf.keras.metrics.BinaryCrossentropy()])\n",
        "model.summary()"
      ],
      "execution_count": null,
      "outputs": [
        {
          "output_type": "stream",
          "text": [
            "Model: \"sequential\"\n",
            "_________________________________________________________________\n",
            "Layer (type)                 Output Shape              Param #   \n",
            "=================================================================\n",
            "mobilenet_1.00_224 (Function (None, 7, 7, 1024)        3228864   \n",
            "_________________________________________________________________\n",
            "flatten (Flatten)            (None, 50176)             0         \n",
            "_________________________________________________________________\n",
            "dense (Dense)                (None, 128)               6422656   \n",
            "_________________________________________________________________\n",
            "dense_1 (Dense)              (None, 1)                 129       \n",
            "=================================================================\n",
            "Total params: 9,651,649\n",
            "Trainable params: 6,422,785\n",
            "Non-trainable params: 3,228,864\n",
            "_________________________________________________________________\n"
          ],
          "name": "stdout"
        }
      ]
    },
    {
      "cell_type": "markdown",
      "metadata": {
        "id": "-e0jUci512K2"
      },
      "source": [
        "## Setting up training and testing data"
      ]
    },
    {
      "cell_type": "code",
      "metadata": {
        "id": "O7Y6zKJosQSe",
        "colab": {
          "base_uri": "https://localhost:8080/"
        },
        "outputId": "b8122739-5a3f-4406-d6f9-a96c3d6cb65d"
      },
      "source": [
        "data_generator = ImageDataGenerator(preprocessing_function=preprocess_input)\n",
        "train_set = data_generator.flow_from_directory(train_path,target_size = (224, 224),batch_size=10,class_mode = 'binary')\n",
        "test_set = data_generator.flow_from_directory(test_path,target_size = (224, 224),batch_size=10,class_mode = 'binary')"
      ],
      "execution_count": null,
      "outputs": [
        {
          "output_type": "stream",
          "text": [
            "Found 3000 images belonging to 2 classes.\n",
            "Found 1400 images belonging to 2 classes.\n"
          ],
          "name": "stdout"
        }
      ]
    },
    {
      "cell_type": "code",
      "metadata": {
        "id": "OjBWu5V96GXT"
      },
      "source": [
        "print(test_set)"
      ],
      "execution_count": null,
      "outputs": []
    },
    {
      "cell_type": "code",
      "metadata": {
        "id": "rWTIifZR41CR"
      },
      "source": [
        "from keras.callbacks import ModelCheckpoint, EarlyStopping\n",
        "# checkpoint = ModelCheckpoint(\"vgg16_1.h5\", monitor='val_acc', verbose=1, save_best_only=True, save_weights_only=False, mode='auto', period=1)\n",
        "early = EarlyStopping(monitor='val_accuracy', min_delta=0.001, patience=20, verbose=1, mode='auto')"
      ],
      "execution_count": null,
      "outputs": []
    },
    {
      "cell_type": "code",
      "metadata": {
        "id": "3gCFLFp1tbxs",
        "colab": {
          "base_uri": "https://localhost:8080/"
        },
        "outputId": "8713d92c-b71c-4c4c-b18d-461163bea132"
      },
      "source": [
        "r = model.fit_generator(\n",
        "  train_set,\n",
        "  validation_data=test_set,\n",
        "  epochs=20,\n",
        "  steps_per_epoch=len(train_set),\n",
        "  validation_steps=len(test_set)\n",
        "  # callbacks=[early]\n",
        ")\n",
        "\n",
        "f=open('/content/drive/My Drive/DM Course Project/Transfer Learning Model/TL-SI-Mobilenet-stats.txt','w')\n",
        "f.write(str(r.history))\n",
        "f.close()\n",
        "\n",
        "model.save('/content/drive/My Drive/DM Course Project/Transfer Learning Model/TL-SI-Mobilenet-model.h5')"
      ],
      "execution_count": null,
      "outputs": [
        {
          "output_type": "stream",
          "text": [
            "/usr/local/lib/python3.7/dist-packages/tensorflow/python/keras/engine/training.py:1844: UserWarning: `Model.fit_generator` is deprecated and will be removed in a future version. Please use `Model.fit`, which supports generators.\n",
            "  warnings.warn('`Model.fit_generator` is deprecated and '\n"
          ],
          "name": "stderr"
        },
        {
          "output_type": "stream",
          "text": [
            "Epoch 1/20\n",
            "300/300 [==============================] - 1648s 5s/step - loss: 2.2111 - accuracy: 0.6728 - mean_absolute_error: 4.2408 - mean_squared_error: 84.8251 - hinge: 2.1960 - binary_crossentropy: 4.2255 - val_loss: 0.4442 - val_accuracy: 0.8814 - val_mean_absolute_error: 1.4714 - val_mean_squared_error: 3.4589 - val_hinge: 0.4329 - val_binary_crossentropy: 1.0017\n",
            "Epoch 2/20\n",
            "300/300 [==============================] - 37s 124ms/step - loss: 0.2488 - accuracy: 0.8994 - mean_absolute_error: 1.8277 - mean_squared_error: 5.2697 - hinge: 0.2381 - binary_crossentropy: 0.9377 - val_loss: 0.2890 - val_accuracy: 0.8479 - val_mean_absolute_error: 2.0429 - val_mean_squared_error: 7.2697 - val_hinge: 0.2797 - val_binary_crossentropy: 1.5922\n",
            "Epoch 3/20\n",
            "300/300 [==============================] - 37s 123ms/step - loss: 0.1538 - accuracy: 0.9332 - mean_absolute_error: 2.2032 - mean_squared_error: 7.4841 - hinge: 0.1448 - binary_crossentropy: 0.5975 - val_loss: 0.1686 - val_accuracy: 0.9164 - val_mean_absolute_error: 2.0552 - val_mean_squared_error: 6.6505 - val_hinge: 0.1607 - val_binary_crossentropy: 0.7523\n",
            "Epoch 4/20\n",
            "300/300 [==============================] - 37s 122ms/step - loss: 0.1283 - accuracy: 0.9489 - mean_absolute_error: 2.1387 - mean_squared_error: 6.4197 - hinge: 0.1207 - binary_crossentropy: 0.4985 - val_loss: 0.1809 - val_accuracy: 0.9429 - val_mean_absolute_error: 1.5750 - val_mean_squared_error: 3.6706 - val_hinge: 0.1740 - val_binary_crossentropy: 0.5552\n",
            "Epoch 5/20\n",
            "300/300 [==============================] - 37s 122ms/step - loss: 0.1002 - accuracy: 0.9576 - mean_absolute_error: 2.2415 - mean_squared_error: 7.4594 - hinge: 0.0935 - binary_crossentropy: 0.4512 - val_loss: 0.1238 - val_accuracy: 0.9543 - val_mean_absolute_error: 2.8656 - val_mean_squared_error: 11.6281 - val_hinge: 0.1178 - val_binary_crossentropy: 0.4596\n",
            "Epoch 6/20\n",
            "300/300 [==============================] - 37s 122ms/step - loss: 0.0822 - accuracy: 0.9653 - mean_absolute_error: 3.0698 - mean_squared_error: 13.0128 - hinge: 0.0763 - binary_crossentropy: 0.3024 - val_loss: 0.1483 - val_accuracy: 0.9300 - val_mean_absolute_error: 2.7299 - val_mean_squared_error: 11.7284 - val_hinge: 0.1429 - val_binary_crossentropy: 0.7369\n",
            "Epoch 7/20\n",
            "300/300 [==============================] - 37s 122ms/step - loss: 0.0912 - accuracy: 0.9613 - mean_absolute_error: 2.8172 - mean_squared_error: 11.2729 - hinge: 0.0860 - binary_crossentropy: 0.3354 - val_loss: 0.1257 - val_accuracy: 0.9543 - val_mean_absolute_error: 2.3935 - val_mean_squared_error: 8.2991 - val_hinge: 0.1209 - val_binary_crossentropy: 0.5323\n",
            "Epoch 8/20\n",
            "300/300 [==============================] - 37s 122ms/step - loss: 0.0494 - accuracy: 0.9811 - mean_absolute_error: 2.6652 - mean_squared_error: 10.5210 - hinge: 0.0448 - binary_crossentropy: 0.1814 - val_loss: 0.1025 - val_accuracy: 0.9629 - val_mean_absolute_error: 3.0687 - val_mean_squared_error: 13.4190 - val_hinge: 0.0983 - val_binary_crossentropy: 0.3907\n",
            "Epoch 9/20\n",
            "300/300 [==============================] - 36s 122ms/step - loss: 0.0448 - accuracy: 0.9808 - mean_absolute_error: 3.1419 - mean_squared_error: 13.4799 - hinge: 0.0406 - binary_crossentropy: 0.1454 - val_loss: 0.1335 - val_accuracy: 0.9400 - val_mean_absolute_error: 3.5809 - val_mean_squared_error: 18.7699 - val_hinge: 0.1297 - val_binary_crossentropy: 0.7062\n",
            "Epoch 10/20\n",
            "300/300 [==============================] - 37s 123ms/step - loss: 0.0548 - accuracy: 0.9792 - mean_absolute_error: 3.5336 - mean_squared_error: 16.9420 - hinge: 0.0511 - binary_crossentropy: 0.2068 - val_loss: 0.1032 - val_accuracy: 0.9643 - val_mean_absolute_error: 3.1411 - val_mean_squared_error: 14.0748 - val_hinge: 0.0999 - val_binary_crossentropy: 0.4567\n",
            "Epoch 11/20\n",
            "300/300 [==============================] - 37s 123ms/step - loss: 0.0376 - accuracy: 0.9848 - mean_absolute_error: 3.2777 - mean_squared_error: 15.3195 - hinge: 0.0345 - binary_crossentropy: 0.1528 - val_loss: 0.0985 - val_accuracy: 0.9507 - val_mean_absolute_error: 2.6917 - val_mean_squared_error: 12.2317 - val_hinge: 0.0956 - val_binary_crossentropy: 0.4793\n",
            "Epoch 12/20\n",
            "300/300 [==============================] - 37s 123ms/step - loss: 0.0373 - accuracy: 0.9874 - mean_absolute_error: 3.5335 - mean_squared_error: 17.2553 - hinge: 0.0346 - binary_crossentropy: 0.1181 - val_loss: 0.1438 - val_accuracy: 0.9593 - val_mean_absolute_error: 4.1514 - val_mean_squared_error: 23.9819 - val_hinge: 0.1414 - val_binary_crossentropy: 0.4230\n",
            "Epoch 13/20\n",
            "300/300 [==============================] - 37s 124ms/step - loss: 0.0678 - accuracy: 0.9742 - mean_absolute_error: 4.1967 - mean_squared_error: 24.3974 - hinge: 0.0655 - binary_crossentropy: 0.2951 - val_loss: 0.0942 - val_accuracy: 0.9614 - val_mean_absolute_error: 3.5534 - val_mean_squared_error: 18.6296 - val_hinge: 0.0922 - val_binary_crossentropy: 0.3887\n",
            "Epoch 14/20\n",
            "300/300 [==============================] - 38s 125ms/step - loss: 0.0508 - accuracy: 0.9782 - mean_absolute_error: 3.8174 - mean_squared_error: 20.0785 - hinge: 0.0489 - binary_crossentropy: 0.1974 - val_loss: 0.1163 - val_accuracy: 0.9600 - val_mean_absolute_error: 3.4255 - val_mean_squared_error: 16.3726 - val_hinge: 0.1146 - val_binary_crossentropy: 0.4528\n",
            "Epoch 15/20\n",
            "300/300 [==============================] - 37s 125ms/step - loss: 0.0372 - accuracy: 0.9865 - mean_absolute_error: 4.3168 - mean_squared_error: 24.6828 - hinge: 0.0355 - binary_crossentropy: 0.1355 - val_loss: 0.0846 - val_accuracy: 0.9721 - val_mean_absolute_error: 4.1232 - val_mean_squared_error: 23.2868 - val_hinge: 0.0831 - val_binary_crossentropy: 0.3001\n",
            "Epoch 16/20\n",
            "300/300 [==============================] - 37s 124ms/step - loss: 0.0236 - accuracy: 0.9896 - mean_absolute_error: 4.5073 - mean_squared_error: 27.3816 - hinge: 0.0221 - binary_crossentropy: 0.0578 - val_loss: 0.2093 - val_accuracy: 0.8950 - val_mean_absolute_error: 4.7098 - val_mean_squared_error: 33.9871 - val_hinge: 0.2080 - val_binary_crossentropy: 1.1879\n",
            "Epoch 17/20\n",
            "300/300 [==============================] - 38s 127ms/step - loss: 0.0482 - accuracy: 0.9780 - mean_absolute_error: 4.5504 - mean_squared_error: 27.7922 - hinge: 0.0469 - binary_crossentropy: 0.1978 - val_loss: 0.1732 - val_accuracy: 0.9064 - val_mean_absolute_error: 4.3023 - val_mean_squared_error: 29.2188 - val_hinge: 0.1721 - val_binary_crossentropy: 1.0759\n",
            "Epoch 18/20\n",
            "300/300 [==============================] - 38s 127ms/step - loss: 0.0410 - accuracy: 0.9842 - mean_absolute_error: 4.3057 - mean_squared_error: 25.0613 - hinge: 0.0399 - binary_crossentropy: 0.1908 - val_loss: 0.2334 - val_accuracy: 0.9379 - val_mean_absolute_error: 4.6763 - val_mean_squared_error: 29.0417 - val_hinge: 0.2324 - val_binary_crossentropy: 0.7841\n",
            "Epoch 19/20\n",
            "300/300 [==============================] - 38s 127ms/step - loss: 0.0384 - accuracy: 0.9863 - mean_absolute_error: 5.0595 - mean_squared_error: 34.2276 - hinge: 0.0374 - binary_crossentropy: 0.1463 - val_loss: 0.1155 - val_accuracy: 0.9600 - val_mean_absolute_error: 4.5784 - val_mean_squared_error: 27.6439 - val_hinge: 0.1146 - val_binary_crossentropy: 0.4180\n",
            "Epoch 20/20\n",
            "300/300 [==============================] - 38s 126ms/step - loss: 0.0465 - accuracy: 0.9818 - mean_absolute_error: 4.8570 - mean_squared_error: 31.4666 - hinge: 0.0456 - binary_crossentropy: 0.1955 - val_loss: 0.2098 - val_accuracy: 0.8486 - val_mean_absolute_error: 3.1537 - val_mean_squared_error: 19.9361 - val_hinge: 0.2090 - val_binary_crossentropy: 1.3146\n"
          ],
          "name": "stdout"
        }
      ]
    }
  ]
}