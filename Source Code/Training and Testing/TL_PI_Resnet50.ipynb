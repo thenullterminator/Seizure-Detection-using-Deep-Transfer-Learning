{
  "nbformat": 4,
  "nbformat_minor": 0,
  "metadata": {
    "colab": {
      "name": "TL-PI-Resnet50.ipynb",
      "provenance": [],
      "collapsed_sections": [],
      "toc_visible": true
    },
    "kernelspec": {
      "name": "python3",
      "display_name": "Python 3"
    },
    "accelerator": "GPU"
  },
  "cells": [
    {
      "cell_type": "markdown",
      "metadata": {
        "id": "vzjHlGyTdC12"
      },
      "source": [
        "## Essential Imports"
      ]
    },
    {
      "cell_type": "code",
      "metadata": {
        "id": "RY2Bf7iqUHUb"
      },
      "source": [
        "import tensorflow as tf\n",
        "from keras.regularizers import l2\n",
        "from keras.layers import Input, Lambda, Dense, Flatten\n",
        "from keras.models import Model\n",
        "from keras.applications.resnet50 import ResNet50\n",
        "from keras.applications.resnet50 import preprocess_input\n",
        "from keras.preprocessing import image\n",
        "from keras.preprocessing.image import ImageDataGenerator\n",
        "from keras.models import Sequential\n",
        "from keras.models import load_model\n",
        "import numpy as np\n",
        "from glob import glob\n",
        "import matplotlib.pyplot as plt"
      ],
      "execution_count": null,
      "outputs": []
    },
    {
      "cell_type": "markdown",
      "metadata": {
        "id": "UkhHn7Oi1nyv"
      },
      "source": [
        "## Essential Constants"
      ]
    },
    {
      "cell_type": "code",
      "metadata": {
        "id": "GuKeDgsGUO5w"
      },
      "source": [
        "train_path = '/content/drive/My Drive/DM Course Project/Temp data(plot images)/temp data(plot images)/train/'\n",
        "test_path = '/content/drive/My Drive/DM Course Project/Temp data(plot images)/temp data(plot images)/test/'\n",
        "\n",
        "# useful for getting number of classes\n",
        "folders = glob('/content/drive/My Drive/DM Course Project/Temp data(plot images)/temp data(plot images)/train/*')\n",
        "\n",
        "num_classes=len(folders)\n",
        "\n",
        "# re-size all the images to this\n",
        "IMAGE_SIZE = [224, 224]"
      ],
      "execution_count": null,
      "outputs": []
    },
    {
      "cell_type": "code",
      "metadata": {
        "colab": {
          "base_uri": "https://localhost:8080/"
        },
        "id": "MoIeou6V6ssv",
        "outputId": "30dc904a-a33b-4aa9-fe41-3efe3805c928"
      },
      "source": [
        "num_classes"
      ],
      "execution_count": null,
      "outputs": [
        {
          "output_type": "execute_result",
          "data": {
            "text/plain": [
              "2"
            ]
          },
          "metadata": {
            "tags": []
          },
          "execution_count": 11
        }
      ]
    },
    {
      "cell_type": "code",
      "metadata": {
        "colab": {
          "base_uri": "https://localhost:8080/"
        },
        "id": "dWbdoypc6tnR",
        "outputId": "7808044b-b2cc-40ab-9c6c-da39fc6f6244"
      },
      "source": [
        "from google.colab import drive\n",
        "drive.mount('/content/drive')"
      ],
      "execution_count": null,
      "outputs": [
        {
          "output_type": "stream",
          "text": [
            "Mounted at /content/drive\n"
          ],
          "name": "stdout"
        }
      ]
    },
    {
      "cell_type": "markdown",
      "metadata": {
        "id": "ZIm6kl071s2O"
      },
      "source": [
        "## Creating a new model"
      ]
    },
    {
      "cell_type": "code",
      "metadata": {
        "id": "Ce6-t9_lrYrQ"
      },
      "source": [
        "model = Sequential()\n",
        "model.add(ResNet50(input_shape=IMAGE_SIZE + [3], weights='imagenet', include_top=False))\n",
        "model.add(Flatten())\n",
        "model.add(Dense(units=128, activation='relu'))\n",
        "model.add(Dense(1, kernel_regularizer=l2(0.01),activation='linear')) # Final Layer is SVM Layer\n",
        "model.layers[0].trainable = False"
      ],
      "execution_count": null,
      "outputs": []
    },
    {
      "cell_type": "code",
      "metadata": {
        "id": "eOvrTR0A7E8M",
        "colab": {
          "base_uri": "https://localhost:8080/"
        },
        "outputId": "bfca5f63-74a1-4707-a517-03fba9645b05"
      },
      "source": [
        "model.compile(optimizer='adam', loss='hinge', metrics=['accuracy',tf.keras.metrics.MeanAbsoluteError(),tf.keras.metrics.MeanSquaredError(),tf.keras.metrics.Hinge(),tf.keras.metrics.BinaryCrossentropy()])\n",
        "model.summary()"
      ],
      "execution_count": null,
      "outputs": [
        {
          "output_type": "stream",
          "text": [
            "Model: \"sequential_1\"\n",
            "_________________________________________________________________\n",
            "Layer (type)                 Output Shape              Param #   \n",
            "=================================================================\n",
            "resnet50 (Functional)        (None, 7, 7, 2048)        23587712  \n",
            "_________________________________________________________________\n",
            "flatten_1 (Flatten)          (None, 100352)            0         \n",
            "_________________________________________________________________\n",
            "dense_2 (Dense)              (None, 128)               12845184  \n",
            "_________________________________________________________________\n",
            "dense_3 (Dense)              (None, 1)                 129       \n",
            "=================================================================\n",
            "Total params: 36,433,025\n",
            "Trainable params: 12,845,313\n",
            "Non-trainable params: 23,587,712\n",
            "_________________________________________________________________\n"
          ],
          "name": "stdout"
        }
      ]
    },
    {
      "cell_type": "markdown",
      "metadata": {
        "id": "-e0jUci512K2"
      },
      "source": [
        "## Setting up training and testing data"
      ]
    },
    {
      "cell_type": "code",
      "metadata": {
        "id": "O7Y6zKJosQSe",
        "colab": {
          "base_uri": "https://localhost:8080/"
        },
        "outputId": "1501439f-4683-40e1-e821-ef17673565ed"
      },
      "source": [
        "data_generator = ImageDataGenerator(preprocessing_function=preprocess_input)\n",
        "train_set = data_generator.flow_from_directory(train_path,target_size = (224, 224),batch_size=10,class_mode = 'binary')\n",
        "test_set = data_generator.flow_from_directory(test_path,target_size = (224, 224),batch_size=10,class_mode = 'binary')"
      ],
      "execution_count": null,
      "outputs": [
        {
          "output_type": "stream",
          "text": [
            "Found 3000 images belonging to 2 classes.\n",
            "Found 1400 images belonging to 2 classes.\n"
          ],
          "name": "stdout"
        }
      ]
    },
    {
      "cell_type": "code",
      "metadata": {
        "id": "3gCFLFp1tbxs",
        "colab": {
          "base_uri": "https://localhost:8080/"
        },
        "outputId": "536a4959-cf5a-478a-f069-864f706d301b"
      },
      "source": [
        "r = model.fit_generator(\n",
        "  train_set,\n",
        "  validation_data=test_set,\n",
        "  epochs=20,\n",
        "  steps_per_epoch=len(train_set),\n",
        "  validation_steps=len(test_set)\n",
        ")\n",
        "\n",
        "f=open('/content/drive/My Drive/DM Course Project/Transfer Learning Model/TL-PI-Resnet50-stats.txt','w')\n",
        "f.write(str(r.history))\n",
        "f.close()\n",
        "\n",
        "model.save('/content/drive/My Drive/DM Course Project/Transfer Learning Model/TL-PI-Resnet50-model.h5')"
      ],
      "execution_count": null,
      "outputs": [
        {
          "output_type": "stream",
          "text": [
            "/usr/local/lib/python3.7/dist-packages/tensorflow/python/keras/engine/training.py:1844: UserWarning: `Model.fit_generator` is deprecated and will be removed in a future version. Please use `Model.fit`, which supports generators.\n",
            "  warnings.warn('`Model.fit_generator` is deprecated and '\n"
          ],
          "name": "stderr"
        },
        {
          "output_type": "stream",
          "text": [
            "Epoch 1/20\n",
            "300/300 [==============================] - 1321s 4s/step - loss: 1.0763 - accuracy: 0.8130 - mean_absolute_error: 8.5219 - mean_squared_error: 151.0922 - hinge: 1.0612 - binary_crossentropy: 2.5801 - val_loss: 0.5013 - val_accuracy: 0.8814 - val_mean_absolute_error: 9.5402 - val_mean_squared_error: 165.5086 - val_hinge: 0.4892 - val_binary_crossentropy: 1.5644\n",
            "Epoch 2/20\n",
            "300/300 [==============================] - 27s 89ms/step - loss: 0.4374 - accuracy: 0.9000 - mean_absolute_error: 9.0309 - mean_squared_error: 139.1536 - hinge: 0.4267 - binary_crossentropy: 1.3520 - val_loss: 0.2401 - val_accuracy: 0.9300 - val_mean_absolute_error: 9.1355 - val_mean_squared_error: 135.0391 - val_hinge: 0.2305 - val_binary_crossentropy: 0.9016\n",
            "Epoch 3/20\n",
            "300/300 [==============================] - 27s 90ms/step - loss: 0.2017 - accuracy: 0.9407 - mean_absolute_error: 9.3241 - mean_squared_error: 142.0522 - hinge: 0.1928 - binary_crossentropy: 0.7539 - val_loss: 0.2705 - val_accuracy: 0.9450 - val_mean_absolute_error: 7.9406 - val_mean_squared_error: 91.1302 - val_hinge: 0.2622 - val_binary_crossentropy: 0.7472\n",
            "Epoch 4/20\n",
            "300/300 [==============================] - 27s 89ms/step - loss: 0.1308 - accuracy: 0.9623 - mean_absolute_error: 9.0690 - mean_squared_error: 122.4719 - hinge: 0.1229 - binary_crossentropy: 0.5229 - val_loss: 0.4394 - val_accuracy: 0.9071 - val_mean_absolute_error: 8.8326 - val_mean_squared_error: 132.4231 - val_hinge: 0.4319 - val_binary_crossentropy: 1.1582\n",
            "Epoch 5/20\n",
            "300/300 [==============================] - 27s 89ms/step - loss: 0.0943 - accuracy: 0.9707 - mean_absolute_error: 9.0232 - mean_squared_error: 117.8517 - hinge: 0.0872 - binary_crossentropy: 0.3704 - val_loss: 0.4648 - val_accuracy: 0.8921 - val_mean_absolute_error: 7.4843 - val_mean_squared_error: 80.7291 - val_hinge: 0.4580 - val_binary_crossentropy: 1.4593\n",
            "Epoch 6/20\n",
            "300/300 [==============================] - 27s 90ms/step - loss: 0.0957 - accuracy: 0.9733 - mean_absolute_error: 8.2499 - mean_squared_error: 90.3491 - hinge: 0.0892 - binary_crossentropy: 0.3240 - val_loss: 0.1575 - val_accuracy: 0.9400 - val_mean_absolute_error: 6.3903 - val_mean_squared_error: 55.4665 - val_hinge: 0.1515 - val_binary_crossentropy: 0.7223\n",
            "Epoch 7/20\n",
            "300/300 [==============================] - 27s 89ms/step - loss: 0.1150 - accuracy: 0.9617 - mean_absolute_error: 6.9720 - mean_squared_error: 63.8521 - hinge: 0.1093 - binary_crossentropy: 0.4471 - val_loss: 0.2867 - val_accuracy: 0.8900 - val_mean_absolute_error: 6.7800 - val_mean_squared_error: 68.9123 - val_hinge: 0.2813 - val_binary_crossentropy: 1.4535\n",
            "Epoch 8/20\n",
            "300/300 [==============================] - 27s 89ms/step - loss: 0.0577 - accuracy: 0.9803 - mean_absolute_error: 7.9341 - mean_squared_error: 83.2475 - hinge: 0.0527 - binary_crossentropy: 0.2395 - val_loss: 0.1736 - val_accuracy: 0.9664 - val_mean_absolute_error: 8.0229 - val_mean_squared_error: 85.6532 - val_hinge: 0.1688 - val_binary_crossentropy: 0.4363\n",
            "Epoch 9/20\n",
            "300/300 [==============================] - 27s 90ms/step - loss: 0.0441 - accuracy: 0.9853 - mean_absolute_error: 8.4072 - mean_squared_error: 89.4086 - hinge: 0.0397 - binary_crossentropy: 0.1594 - val_loss: 0.2850 - val_accuracy: 0.9386 - val_mean_absolute_error: 7.6213 - val_mean_squared_error: 76.6817 - val_hinge: 0.2809 - val_binary_crossentropy: 0.7677\n",
            "Epoch 10/20\n",
            "300/300 [==============================] - 27s 89ms/step - loss: 0.0788 - accuracy: 0.9770 - mean_absolute_error: 8.7296 - mean_squared_error: 105.0837 - hinge: 0.0750 - binary_crossentropy: 0.3085 - val_loss: 0.8038 - val_accuracy: 0.8286 - val_mean_absolute_error: 9.0294 - val_mean_squared_error: 123.0292 - val_hinge: 0.8003 - val_binary_crossentropy: 2.3176\n",
            "Epoch 11/20\n",
            "300/300 [==============================] - 27s 89ms/step - loss: 0.0628 - accuracy: 0.9780 - mean_absolute_error: 8.5238 - mean_squared_error: 102.2952 - hinge: 0.0596 - binary_crossentropy: 0.2765 - val_loss: 0.1140 - val_accuracy: 0.9550 - val_mean_absolute_error: 5.4479 - val_mean_squared_error: 43.1753 - val_hinge: 0.1111 - val_binary_crossentropy: 0.5578\n",
            "Epoch 12/20\n",
            "300/300 [==============================] - 27s 89ms/step - loss: 0.0256 - accuracy: 0.9910 - mean_absolute_error: 6.7650 - mean_squared_error: 59.7764 - hinge: 0.0229 - binary_crossentropy: 0.1121 - val_loss: 0.1210 - val_accuracy: 0.9764 - val_mean_absolute_error: 7.1917 - val_mean_squared_error: 68.4598 - val_hinge: 0.1186 - val_binary_crossentropy: 0.3015\n",
            "Epoch 13/20\n",
            "300/300 [==============================] - 27s 89ms/step - loss: 0.0211 - accuracy: 0.9950 - mean_absolute_error: 8.2027 - mean_squared_error: 83.5005 - hinge: 0.0189 - binary_crossentropy: 0.0618 - val_loss: 0.1192 - val_accuracy: 0.9643 - val_mean_absolute_error: 6.7462 - val_mean_squared_error: 60.0937 - val_hinge: 0.1172 - val_binary_crossentropy: 0.3995\n",
            "Epoch 14/20\n",
            "300/300 [==============================] - 27s 89ms/step - loss: 0.0284 - accuracy: 0.9900 - mean_absolute_error: 7.9228 - mean_squared_error: 80.2796 - hinge: 0.0265 - binary_crossentropy: 0.1112 - val_loss: 0.1307 - val_accuracy: 0.9714 - val_mean_absolute_error: 7.3445 - val_mean_squared_error: 68.6926 - val_hinge: 0.1291 - val_binary_crossentropy: 0.3700\n",
            "Epoch 15/20\n",
            "300/300 [==============================] - 27s 89ms/step - loss: 0.0419 - accuracy: 0.9837 - mean_absolute_error: 7.6645 - mean_squared_error: 75.6488 - hinge: 0.0404 - binary_crossentropy: 0.1854 - val_loss: 0.1619 - val_accuracy: 0.9507 - val_mean_absolute_error: 7.7656 - val_mean_squared_error: 78.0985 - val_hinge: 0.1605 - val_binary_crossentropy: 0.6384\n",
            "Epoch 16/20\n",
            "300/300 [==============================] - 27s 89ms/step - loss: 0.0327 - accuracy: 0.9893 - mean_absolute_error: 7.7989 - mean_squared_error: 75.6843 - hinge: 0.0314 - binary_crossentropy: 0.1191 - val_loss: 0.1159 - val_accuracy: 0.9736 - val_mean_absolute_error: 7.4008 - val_mean_squared_error: 68.8639 - val_hinge: 0.1148 - val_binary_crossentropy: 0.3070\n",
            "Epoch 17/20\n",
            "300/300 [==============================] - 27s 89ms/step - loss: 0.0342 - accuracy: 0.9863 - mean_absolute_error: 7.5690 - mean_squared_error: 72.9476 - hinge: 0.0332 - binary_crossentropy: 0.1419 - val_loss: 0.1164 - val_accuracy: 0.9607 - val_mean_absolute_error: 7.1670 - val_mean_squared_error: 70.0562 - val_hinge: 0.1155 - val_binary_crossentropy: 0.4739\n",
            "Epoch 18/20\n",
            "300/300 [==============================] - 27s 90ms/step - loss: 0.0341 - accuracy: 0.9880 - mean_absolute_error: 7.6826 - mean_squared_error: 74.1104 - hinge: 0.0333 - binary_crossentropy: 0.1159 - val_loss: 0.1293 - val_accuracy: 0.9679 - val_mean_absolute_error: 7.9363 - val_mean_squared_error: 83.1290 - val_hinge: 0.1285 - val_binary_crossentropy: 0.4478\n",
            "Epoch 19/20\n",
            "300/300 [==============================] - 27s 89ms/step - loss: 0.0339 - accuracy: 0.9860 - mean_absolute_error: 8.3985 - mean_squared_error: 88.6881 - hinge: 0.0332 - binary_crossentropy: 0.1666 - val_loss: 0.0991 - val_accuracy: 0.9743 - val_mean_absolute_error: 6.4329 - val_mean_squared_error: 53.4807 - val_hinge: 0.0985 - val_binary_crossentropy: 0.3256\n",
            "Epoch 20/20\n",
            "300/300 [==============================] - 27s 89ms/step - loss: 0.0561 - accuracy: 0.9797 - mean_absolute_error: 8.1302 - mean_squared_error: 83.5616 - hinge: 0.0556 - binary_crossentropy: 0.2378 - val_loss: 0.2308 - val_accuracy: 0.9179 - val_mean_absolute_error: 7.0019 - val_mean_squared_error: 66.0443 - val_hinge: 0.2303 - val_binary_crossentropy: 1.0813\n"
          ],
          "name": "stdout"
        }
      ]
    }
  ]
}