{
  "nbformat": 4,
  "nbformat_minor": 0,
  "metadata": {
    "colab": {
      "name": "TL-SI-Inceptionv3.ipynb",
      "provenance": []
    },
    "kernelspec": {
      "name": "python3",
      "display_name": "Python 3"
    },
    "accelerator": "GPU"
  },
  "cells": [
    {
      "cell_type": "markdown",
      "metadata": {
        "id": "vzjHlGyTdC12"
      },
      "source": [
        "## Essential Imports"
      ]
    },
    {
      "cell_type": "code",
      "metadata": {
        "id": "2oAPKpLLPtI2",
        "colab": {
          "base_uri": "https://localhost:8080/"
        },
        "outputId": "bfced5ca-84c8-4d8c-dcbe-085e87543a3f"
      },
      "source": [
        "from google.colab import drive\n",
        "drive.mount('/content/drive')"
      ],
      "execution_count": null,
      "outputs": [
        {
          "output_type": "stream",
          "text": [
            "Mounted at /content/drive\n"
          ],
          "name": "stdout"
        }
      ]
    },
    {
      "cell_type": "code",
      "metadata": {
        "id": "RY2Bf7iqUHUb"
      },
      "source": [
        "import tensorflow as tf\n",
        "from keras.layers import Input, Lambda, Dense, Flatten\n",
        "from keras.models import Model\n",
        "from keras.applications.inception_v3 import InceptionV3\n",
        "from keras.applications.inception_v3 import preprocess_input\n",
        "from keras.preprocessing import image\n",
        "from keras.preprocessing.image import ImageDataGenerator\n",
        "from keras.models import Sequential\n",
        "from keras.models import load_model\n",
        "from keras.regularizers import l2\n",
        "import numpy as np\n",
        "from glob import glob\n",
        "import matplotlib.pyplot as plt"
      ],
      "execution_count": null,
      "outputs": []
    },
    {
      "cell_type": "code",
      "metadata": {
        "colab": {
          "base_uri": "https://localhost:8080/",
          "height": 35
        },
        "id": "yGDGJ6M4dfjR",
        "outputId": "d2e0b5be-bcb8-4a00-efc7-c59b124bc257"
      },
      "source": [
        "tf.keras.__version__"
      ],
      "execution_count": null,
      "outputs": [
        {
          "output_type": "execute_result",
          "data": {
            "application/vnd.google.colaboratory.intrinsic+json": {
              "type": "string"
            },
            "text/plain": [
              "'2.4.0'"
            ]
          },
          "metadata": {
            "tags": []
          },
          "execution_count": 55
        }
      ]
    },
    {
      "cell_type": "markdown",
      "metadata": {
        "id": "UkhHn7Oi1nyv"
      },
      "source": [
        "## Essential Constants"
      ]
    },
    {
      "cell_type": "code",
      "metadata": {
        "id": "GuKeDgsGUO5w"
      },
      "source": [
        "train_path = '/content/drive/My Drive/DM Course Project/Temp data(spec images)/temp data(spec images)/train/'\n",
        "test_path = '/content/drive/My Drive/DM Course Project/Temp data(spec images)/temp data(spec images)/test/'\n",
        "\n",
        "# useful for getting number of classes\n",
        "folders = glob('/content/drive/My Drive/DM Course Project/Temp data(spec images)/temp data(spec images)/train/*')\n",
        "\n",
        "num_classes=len(folders)\n",
        "\n",
        "# re-size all the images to this\n",
        "IMAGE_SIZE = [299, 299]"
      ],
      "execution_count": null,
      "outputs": []
    },
    {
      "cell_type": "code",
      "metadata": {
        "colab": {
          "base_uri": "https://localhost:8080/"
        },
        "id": "zvLdgClyDuK4",
        "outputId": "48363ee5-7cab-4a0f-db7e-efa289e16cbd"
      },
      "source": [
        "print(num_classes)"
      ],
      "execution_count": null,
      "outputs": [
        {
          "output_type": "stream",
          "text": [
            "2\n"
          ],
          "name": "stdout"
        }
      ]
    },
    {
      "cell_type": "markdown",
      "metadata": {
        "id": "ZIm6kl071s2O"
      },
      "source": [
        "## Creating a new model"
      ]
    },
    {
      "cell_type": "code",
      "metadata": {
        "id": "Ce6-t9_lrYrQ"
      },
      "source": [
        "model = Sequential()\n",
        "model.add(InceptionV3(input_shape=IMAGE_SIZE + [3], weights='imagenet', include_top=False))\n",
        "model.add(Flatten())\n",
        "model.add(Dense(units=128, activation='relu'))\n",
        "model.add(Dense(1, kernel_regularizer=l2(0.01),activation='linear')) # Final Layer is SVM Layer\n",
        "model.layers[0].trainable = False"
      ],
      "execution_count": null,
      "outputs": []
    },
    {
      "cell_type": "code",
      "metadata": {
        "id": "eOvrTR0A7E8M",
        "colab": {
          "base_uri": "https://localhost:8080/"
        },
        "outputId": "6d9c8a94-f208-4b11-d471-1ca36619217b"
      },
      "source": [
        "model.compile(optimizer='adam', loss='hinge', metrics=['accuracy',tf.keras.metrics.MeanAbsoluteError(),tf.keras.metrics.MeanSquaredError(),tf.keras.metrics.Hinge(),tf.keras.metrics.BinaryCrossentropy()])\n",
        "model.summary()"
      ],
      "execution_count": null,
      "outputs": [
        {
          "output_type": "stream",
          "text": [
            "Model: \"sequential_7\"\n",
            "_________________________________________________________________\n",
            "Layer (type)                 Output Shape              Param #   \n",
            "=================================================================\n",
            "inception_v3 (Functional)    (None, 8, 8, 2048)        21802784  \n",
            "_________________________________________________________________\n",
            "flatten_7 (Flatten)          (None, 131072)            0         \n",
            "_________________________________________________________________\n",
            "dense_14 (Dense)             (None, 128)               16777344  \n",
            "_________________________________________________________________\n",
            "dense_15 (Dense)             (None, 1)                 129       \n",
            "=================================================================\n",
            "Total params: 38,580,257\n",
            "Trainable params: 16,777,473\n",
            "Non-trainable params: 21,802,784\n",
            "_________________________________________________________________\n"
          ],
          "name": "stdout"
        }
      ]
    },
    {
      "cell_type": "markdown",
      "metadata": {
        "id": "-e0jUci512K2"
      },
      "source": [
        "## Setting up training and testing data"
      ]
    },
    {
      "cell_type": "code",
      "metadata": {
        "id": "O7Y6zKJosQSe",
        "colab": {
          "base_uri": "https://localhost:8080/"
        },
        "outputId": "8e6a52db-c44e-4341-f2fb-e4cb41d34dd9"
      },
      "source": [
        "data_generator = ImageDataGenerator(preprocessing_function=preprocess_input)\n",
        "train_set = data_generator.flow_from_directory(train_path,target_size = (299, 299),batch_size=10,class_mode = 'binary')\n",
        "test_set = data_generator.flow_from_directory(test_path,target_size = (299, 299),batch_size=10,class_mode = 'binary')"
      ],
      "execution_count": null,
      "outputs": [
        {
          "output_type": "stream",
          "text": [
            "Found 3000 images belonging to 2 classes.\n",
            "Found 1400 images belonging to 2 classes.\n"
          ],
          "name": "stdout"
        }
      ]
    },
    {
      "cell_type": "code",
      "metadata": {
        "id": "OjBWu5V96GXT",
        "colab": {
          "base_uri": "https://localhost:8080/"
        },
        "outputId": "3050fb84-5455-45aa-b97e-3eb7ea5d972a"
      },
      "source": [
        "print(test_set)"
      ],
      "execution_count": null,
      "outputs": [
        {
          "output_type": "stream",
          "text": [
            "<tensorflow.python.keras.preprocessing.image.DirectoryIterator object at 0x7ff45b923be0>\n"
          ],
          "name": "stdout"
        }
      ]
    },
    {
      "cell_type": "code",
      "metadata": {
        "id": "3gCFLFp1tbxs",
        "colab": {
          "base_uri": "https://localhost:8080/"
        },
        "outputId": "c37ac73c-b6be-4713-d82e-cfc324d98b34"
      },
      "source": [
        "r = model.fit_generator(\n",
        "  train_set,\n",
        "  validation_data=test_set,\n",
        "  epochs=40,\n",
        "  steps_per_epoch=len(train_set),\n",
        "  validation_steps=len(test_set)\n",
        "  # callbacks=[early]\n",
        ")\n",
        "\n",
        "f=open('/content/drive/My Drive/IVP Course Project/Transfer Learning Model/TL-SI-Inceptionv3-stats.txt','w')\n",
        "f.write(str(r.history))\n",
        "f.close()\n",
        "\n",
        "model.save('/content/drive/My Drive/IVP Course Project/Transfer Learning Model/TL-SI-Inceptionv3-model.h5')"
      ],
      "execution_count": null,
      "outputs": [
        {
          "output_type": "stream",
          "text": [
            "/usr/local/lib/python3.7/dist-packages/tensorflow/python/keras/engine/training.py:1844: UserWarning: `Model.fit_generator` is deprecated and will be removed in a future version. Please use `Model.fit`, which supports generators.\n",
            "  warnings.warn('`Model.fit_generator` is deprecated and '\n"
          ],
          "name": "stderr"
        },
        {
          "output_type": "stream",
          "text": [
            "Epoch 1/40\n",
            "300/300 [==============================] - 65s 200ms/step - loss: 3.9353 - accuracy: 0.8103 - mean_absolute_error: 32.6395 - mean_squared_error: 1678.2076 - hinge: 3.9293 - binary_crossentropy: 2.8606 - val_loss: 1.4253 - val_accuracy: 0.8643 - val_mean_absolute_error: 28.9965 - val_mean_squared_error: 1295.7788 - val_hinge: 1.4226 - val_binary_crossentropy: 2.0251\n",
            "Epoch 2/40\n",
            "300/300 [==============================] - 58s 194ms/step - loss: 0.7312 - accuracy: 0.9292 - mean_absolute_error: 29.0849 - mean_squared_error: 1174.9150 - hinge: 0.7286 - binary_crossentropy: 1.0211 - val_loss: 1.4510 - val_accuracy: 0.8886 - val_mean_absolute_error: 27.3235 - val_mean_squared_error: 1081.7207 - val_hinge: 1.4488 - val_binary_crossentropy: 1.6518\n",
            "Epoch 3/40\n",
            "300/300 [==============================] - 58s 193ms/step - loss: 0.5750 - accuracy: 0.9324 - mean_absolute_error: 27.8238 - mean_squared_error: 1091.1271 - hinge: 0.5729 - binary_crossentropy: 0.9872 - val_loss: 0.4230 - val_accuracy: 0.9464 - val_mean_absolute_error: 23.8496 - val_mean_squared_error: 787.2226 - val_hinge: 0.4211 - val_binary_crossentropy: 0.7844\n",
            "Epoch 4/40\n",
            "300/300 [==============================] - 58s 193ms/step - loss: 0.2196 - accuracy: 0.9646 - mean_absolute_error: 25.5320 - mean_squared_error: 849.0310 - hinge: 0.2177 - binary_crossentropy: 0.5220 - val_loss: 2.6786 - val_accuracy: 0.7971 - val_mean_absolute_error: 25.7039 - val_mean_squared_error: 962.0170 - val_hinge: 2.6769 - val_binary_crossentropy: 3.0079\n",
            "Epoch 5/40\n",
            "300/300 [==============================] - 58s 193ms/step - loss: 0.2911 - accuracy: 0.9595 - mean_absolute_error: 24.0540 - mean_squared_error: 750.4848 - hinge: 0.2895 - binary_crossentropy: 0.5679 - val_loss: 0.9293 - val_accuracy: 0.9036 - val_mean_absolute_error: 22.4116 - val_mean_squared_error: 656.4766 - val_hinge: 0.9277 - val_binary_crossentropy: 1.4337\n",
            "Epoch 6/40\n",
            "300/300 [==============================] - 58s 193ms/step - loss: 0.6053 - accuracy: 0.9227 - mean_absolute_error: 23.1378 - mean_squared_error: 733.3305 - hinge: 0.6039 - binary_crossentropy: 1.0887 - val_loss: 0.3338 - val_accuracy: 0.9529 - val_mean_absolute_error: 17.3820 - val_mean_squared_error: 395.0197 - val_hinge: 0.3326 - val_binary_crossentropy: 0.6881\n",
            "Epoch 7/40\n",
            "300/300 [==============================] - 58s 193ms/step - loss: 0.1163 - accuracy: 0.9731 - mean_absolute_error: 18.2411 - mean_squared_error: 415.5033 - hinge: 0.1152 - binary_crossentropy: 0.3890 - val_loss: 0.9460 - val_accuracy: 0.8843 - val_mean_absolute_error: 16.6938 - val_mean_squared_error: 359.8622 - val_hinge: 0.9449 - val_binary_crossentropy: 1.6908\n",
            "Epoch 8/40\n",
            "300/300 [==============================] - 58s 193ms/step - loss: 0.1858 - accuracy: 0.9654 - mean_absolute_error: 15.9603 - mean_squared_error: 320.1827 - hinge: 0.1847 - binary_crossentropy: 0.5081 - val_loss: 0.2973 - val_accuracy: 0.9043 - val_mean_absolute_error: 8.0718 - val_mean_squared_error: 100.1553 - val_hinge: 0.2965 - val_binary_crossentropy: 1.2439\n",
            "Epoch 9/40\n",
            "300/300 [==============================] - 58s 193ms/step - loss: 0.0601 - accuracy: 0.9790 - mean_absolute_error: 8.3721 - mean_squared_error: 96.7223 - hinge: 0.0593 - binary_crossentropy: 0.2178 - val_loss: 0.2544 - val_accuracy: 0.9500 - val_mean_absolute_error: 8.5600 - val_mean_squared_error: 96.0588 - val_hinge: 0.2536 - val_binary_crossentropy: 0.6435\n",
            "Epoch 10/40\n",
            "300/300 [==============================] - 58s 193ms/step - loss: 0.0937 - accuracy: 0.9663 - mean_absolute_error: 9.6174 - mean_squared_error: 127.8393 - hinge: 0.0929 - binary_crossentropy: 0.4053 - val_loss: 0.2887 - val_accuracy: 0.8907 - val_mean_absolute_error: 8.5447 - val_mean_squared_error: 118.9462 - val_hinge: 0.2879 - val_binary_crossentropy: 1.4020\n",
            "Epoch 11/40\n",
            "300/300 [==============================] - 58s 193ms/step - loss: 0.0627 - accuracy: 0.9776 - mean_absolute_error: 9.3633 - mean_squared_error: 116.0348 - hinge: 0.0620 - binary_crossentropy: 0.2278 - val_loss: 0.1940 - val_accuracy: 0.9414 - val_mean_absolute_error: 8.2809 - val_mean_squared_error: 103.0999 - val_hinge: 0.1933 - val_binary_crossentropy: 0.7452\n",
            "Epoch 12/40\n",
            "300/300 [==============================] - 58s 193ms/step - loss: 0.1100 - accuracy: 0.9634 - mean_absolute_error: 10.1088 - mean_squared_error: 139.9841 - hinge: 0.1093 - binary_crossentropy: 0.4542 - val_loss: 0.1721 - val_accuracy: 0.9671 - val_mean_absolute_error: 9.6001 - val_mean_squared_error: 124.3345 - val_hinge: 0.1714 - val_binary_crossentropy: 0.4842\n",
            "Epoch 13/40\n",
            "300/300 [==============================] - 58s 193ms/step - loss: 0.0662 - accuracy: 0.9783 - mean_absolute_error: 10.6063 - mean_squared_error: 145.9096 - hinge: 0.0656 - binary_crossentropy: 0.2451 - val_loss: 0.1058 - val_accuracy: 0.9729 - val_mean_absolute_error: 8.9191 - val_mean_squared_error: 110.6141 - val_hinge: 0.1052 - val_binary_crossentropy: 0.3188\n",
            "Epoch 14/40\n",
            "300/300 [==============================] - 58s 193ms/step - loss: 0.0349 - accuracy: 0.9883 - mean_absolute_error: 9.9623 - mean_squared_error: 129.0154 - hinge: 0.0343 - binary_crossentropy: 0.1489 - val_loss: 1.5575 - val_accuracy: 0.6950 - val_mean_absolute_error: 12.6871 - val_mean_squared_error: 252.7110 - val_hinge: 1.5570 - val_binary_crossentropy: 4.4962\n",
            "Epoch 15/40\n",
            "300/300 [==============================] - 58s 193ms/step - loss: 0.2162 - accuracy: 0.9415 - mean_absolute_error: 11.6166 - mean_squared_error: 189.9529 - hinge: 0.2157 - binary_crossentropy: 0.7874 - val_loss: 0.2730 - val_accuracy: 0.9343 - val_mean_absolute_error: 6.2233 - val_mean_squared_error: 53.7535 - val_hinge: 0.2726 - val_binary_crossentropy: 0.9304\n",
            "Epoch 16/40\n",
            "300/300 [==============================] - 58s 193ms/step - loss: 0.0206 - accuracy: 0.9935 - mean_absolute_error: 7.3377 - mean_squared_error: 75.1481 - hinge: 0.0202 - binary_crossentropy: 0.0816 - val_loss: 0.3465 - val_accuracy: 0.8871 - val_mean_absolute_error: 7.4016 - val_mean_squared_error: 97.7889 - val_hinge: 0.3461 - val_binary_crossentropy: 1.4900\n",
            "Epoch 17/40\n",
            "300/300 [==============================] - 58s 194ms/step - loss: 0.1240 - accuracy: 0.9590 - mean_absolute_error: 7.2504 - mean_squared_error: 75.8586 - hinge: 0.1236 - binary_crossentropy: 0.5453 - val_loss: 0.2119 - val_accuracy: 0.9064 - val_mean_absolute_error: 5.7906 - val_mean_squared_error: 52.2061 - val_hinge: 0.2116 - val_binary_crossentropy: 1.1190\n",
            "Epoch 18/40\n",
            "300/300 [==============================] - 58s 193ms/step - loss: 0.0197 - accuracy: 0.9915 - mean_absolute_error: 5.8529 - mean_squared_error: 44.9245 - hinge: 0.0194 - binary_crossentropy: 0.0754 - val_loss: 0.1209 - val_accuracy: 0.9543 - val_mean_absolute_error: 6.1451 - val_mean_squared_error: 55.4884 - val_hinge: 0.1206 - val_binary_crossentropy: 0.5612\n",
            "Epoch 19/40\n",
            "300/300 [==============================] - 58s 193ms/step - loss: 0.0192 - accuracy: 0.9893 - mean_absolute_error: 6.6080 - mean_squared_error: 55.3307 - hinge: 0.0189 - binary_crossentropy: 0.0952 - val_loss: 0.1037 - val_accuracy: 0.9600 - val_mean_absolute_error: 5.9771 - val_mean_squared_error: 50.6343 - val_hinge: 0.1034 - val_binary_crossentropy: 0.4874\n",
            "Epoch 20/40\n",
            "300/300 [==============================] - 58s 193ms/step - loss: 0.0198 - accuracy: 0.9916 - mean_absolute_error: 6.6569 - mean_squared_error: 56.7709 - hinge: 0.0194 - binary_crossentropy: 0.0916 - val_loss: 0.2015 - val_accuracy: 0.9550 - val_mean_absolute_error: 5.6621 - val_mean_squared_error: 44.2512 - val_hinge: 0.2012 - val_binary_crossentropy: 0.5468\n",
            "Epoch 21/40\n",
            "300/300 [==============================] - 58s 192ms/step - loss: 0.0362 - accuracy: 0.9848 - mean_absolute_error: 5.6196 - mean_squared_error: 41.8399 - hinge: 0.0359 - binary_crossentropy: 0.1725 - val_loss: 0.6675 - val_accuracy: 0.7486 - val_mean_absolute_error: 6.9862 - val_mean_squared_error: 78.0959 - val_hinge: 0.6672 - val_binary_crossentropy: 3.3643\n",
            "Epoch 22/40\n",
            "300/300 [==============================] - 58s 192ms/step - loss: 0.0293 - accuracy: 0.9848 - mean_absolute_error: 6.5477 - mean_squared_error: 56.3078 - hinge: 0.0290 - binary_crossentropy: 0.1468 - val_loss: 0.2056 - val_accuracy: 0.9471 - val_mean_absolute_error: 5.4381 - val_mean_squared_error: 38.6249 - val_hinge: 0.2053 - val_binary_crossentropy: 0.6818\n",
            "Epoch 23/40\n",
            "300/300 [==============================] - 58s 192ms/step - loss: 0.0197 - accuracy: 0.9917 - mean_absolute_error: 7.1779 - mean_squared_error: 66.6333 - hinge: 0.0194 - binary_crossentropy: 0.0905 - val_loss: 0.1225 - val_accuracy: 0.9671 - val_mean_absolute_error: 6.7253 - val_mean_squared_error: 61.0508 - val_hinge: 0.1222 - val_binary_crossentropy: 0.4372\n",
            "Epoch 24/40\n",
            "300/300 [==============================] - 58s 192ms/step - loss: 0.0911 - accuracy: 0.9677 - mean_absolute_error: 5.2749 - mean_squared_error: 40.3974 - hinge: 0.0909 - binary_crossentropy: 0.3941 - val_loss: 0.4319 - val_accuracy: 0.7643 - val_mean_absolute_error: 5.0011 - val_mean_squared_error: 44.7255 - val_hinge: 0.4317 - val_binary_crossentropy: 2.7407\n",
            "Epoch 25/40\n",
            "300/300 [==============================] - 58s 192ms/step - loss: 0.1825 - accuracy: 0.9400 - mean_absolute_error: 5.7565 - mean_squared_error: 47.9988 - hinge: 0.1823 - binary_crossentropy: 0.8290 - val_loss: 0.0767 - val_accuracy: 0.9679 - val_mean_absolute_error: 5.2729 - val_mean_squared_error: 40.2481 - val_hinge: 0.0765 - val_binary_crossentropy: 0.3272\n",
            "Epoch 26/40\n",
            "300/300 [==============================] - 58s 192ms/step - loss: 0.0196 - accuracy: 0.9887 - mean_absolute_error: 5.7634 - mean_squared_error: 43.8571 - hinge: 0.0193 - binary_crossentropy: 0.0684 - val_loss: 0.0822 - val_accuracy: 0.9757 - val_mean_absolute_error: 4.8180 - val_mean_squared_error: 33.2329 - val_hinge: 0.0820 - val_binary_crossentropy: 0.2625\n",
            "Epoch 27/40\n",
            "300/300 [==============================] - 58s 192ms/step - loss: 0.0452 - accuracy: 0.9773 - mean_absolute_error: 5.6353 - mean_squared_error: 46.1527 - hinge: 0.0450 - binary_crossentropy: 0.2323 - val_loss: 0.2034 - val_accuracy: 0.9400 - val_mean_absolute_error: 4.5907 - val_mean_squared_error: 29.8581 - val_hinge: 0.2032 - val_binary_crossentropy: 0.6821\n",
            "Epoch 28/40\n",
            "300/300 [==============================] - 58s 192ms/step - loss: 0.0197 - accuracy: 0.9946 - mean_absolute_error: 5.2057 - mean_squared_error: 38.9519 - hinge: 0.0195 - binary_crossentropy: 0.0627 - val_loss: 0.1087 - val_accuracy: 0.9593 - val_mean_absolute_error: 6.2713 - val_mean_squared_error: 56.1948 - val_hinge: 0.1085 - val_binary_crossentropy: 0.4625\n",
            "Epoch 29/40\n",
            "300/300 [==============================] - 58s 192ms/step - loss: 0.0378 - accuracy: 0.9837 - mean_absolute_error: 5.9370 - mean_squared_error: 50.4017 - hinge: 0.0376 - binary_crossentropy: 0.1845 - val_loss: 0.1587 - val_accuracy: 0.9521 - val_mean_absolute_error: 4.0028 - val_mean_squared_error: 24.3192 - val_hinge: 0.1585 - val_binary_crossentropy: 0.5863\n",
            "Epoch 30/40\n",
            "300/300 [==============================] - 58s 192ms/step - loss: 0.0261 - accuracy: 0.9879 - mean_absolute_error: 5.7569 - mean_squared_error: 45.5143 - hinge: 0.0259 - binary_crossentropy: 0.1021 - val_loss: 0.1134 - val_accuracy: 0.9636 - val_mean_absolute_error: 5.0101 - val_mean_squared_error: 37.8943 - val_hinge: 0.1132 - val_binary_crossentropy: 0.4405\n",
            "Epoch 31/40\n",
            "300/300 [==============================] - 58s 192ms/step - loss: 0.0219 - accuracy: 0.9920 - mean_absolute_error: 5.5465 - mean_squared_error: 44.7311 - hinge: 0.0217 - binary_crossentropy: 0.1033 - val_loss: 0.1514 - val_accuracy: 0.9579 - val_mean_absolute_error: 5.2167 - val_mean_squared_error: 37.1963 - val_hinge: 0.1513 - val_binary_crossentropy: 0.5361\n",
            "Epoch 32/40\n",
            "300/300 [==============================] - 58s 192ms/step - loss: 0.0170 - accuracy: 0.9939 - mean_absolute_error: 5.9332 - mean_squared_error: 48.2299 - hinge: 0.0168 - binary_crossentropy: 0.0726 - val_loss: 0.0864 - val_accuracy: 0.9700 - val_mean_absolute_error: 6.3249 - val_mean_squared_error: 56.8511 - val_hinge: 0.0863 - val_binary_crossentropy: 0.3458\n",
            "Epoch 33/40\n",
            "300/300 [==============================] - 58s 192ms/step - loss: 0.0361 - accuracy: 0.9845 - mean_absolute_error: 6.4793 - mean_squared_error: 55.0161 - hinge: 0.0359 - binary_crossentropy: 0.1772 - val_loss: 0.1361 - val_accuracy: 0.9571 - val_mean_absolute_error: 5.1222 - val_mean_squared_error: 38.7458 - val_hinge: 0.1360 - val_binary_crossentropy: 0.5235\n",
            "Epoch 34/40\n",
            "300/300 [==============================] - 58s 192ms/step - loss: 0.0420 - accuracy: 0.9814 - mean_absolute_error: 5.6539 - mean_squared_error: 46.6397 - hinge: 0.0419 - binary_crossentropy: 0.1925 - val_loss: 0.2219 - val_accuracy: 0.9436 - val_mean_absolute_error: 5.1364 - val_mean_squared_error: 36.4402 - val_hinge: 0.2218 - val_binary_crossentropy: 0.7367\n",
            "Epoch 35/40\n",
            "300/300 [==============================] - 58s 193ms/step - loss: 0.0053 - accuracy: 0.9984 - mean_absolute_error: 6.1335 - mean_squared_error: 51.6973 - hinge: 0.0052 - binary_crossentropy: 0.0183 - val_loss: 0.3949 - val_accuracy: 0.8371 - val_mean_absolute_error: 7.8713 - val_mean_squared_error: 105.5695 - val_hinge: 0.3948 - val_binary_crossentropy: 2.0736\n",
            "Epoch 36/40\n",
            "300/300 [==============================] - 58s 194ms/step - loss: 0.1557 - accuracy: 0.9558 - mean_absolute_error: 5.3240 - mean_squared_error: 47.6872 - hinge: 0.1556 - binary_crossentropy: 0.5265 - val_loss: 0.0997 - val_accuracy: 0.9679 - val_mean_absolute_error: 4.8643 - val_mean_squared_error: 37.0837 - val_hinge: 0.0996 - val_binary_crossentropy: 0.3283\n",
            "Epoch 37/40\n",
            "300/300 [==============================] - 58s 194ms/step - loss: 0.0034 - accuracy: 0.9986 - mean_absolute_error: 5.3455 - mean_squared_error: 40.9651 - hinge: 0.0033 - binary_crossentropy: 0.0099 - val_loss: 0.2960 - val_accuracy: 0.9279 - val_mean_absolute_error: 4.6986 - val_mean_squared_error: 28.3979 - val_hinge: 0.2959 - val_binary_crossentropy: 0.9474\n",
            "Epoch 38/40\n",
            "300/300 [==============================] - 58s 193ms/step - loss: 0.0321 - accuracy: 0.9854 - mean_absolute_error: 5.4127 - mean_squared_error: 42.4258 - hinge: 0.0320 - binary_crossentropy: 0.1522 - val_loss: 0.1020 - val_accuracy: 0.9693 - val_mean_absolute_error: 5.4186 - val_mean_squared_error: 41.4921 - val_hinge: 0.1020 - val_binary_crossentropy: 0.3398\n",
            "Epoch 39/40\n",
            "300/300 [==============================] - 58s 194ms/step - loss: 0.0097 - accuracy: 0.9948 - mean_absolute_error: 6.0332 - mean_squared_error: 49.7377 - hinge: 0.0096 - binary_crossentropy: 0.0434 - val_loss: 0.1098 - val_accuracy: 0.9707 - val_mean_absolute_error: 6.0085 - val_mean_squared_error: 49.8975 - val_hinge: 0.1097 - val_binary_crossentropy: 0.4040\n",
            "Epoch 40/40\n",
            "300/300 [==============================] - 58s 194ms/step - loss: 0.0268 - accuracy: 0.9895 - mean_absolute_error: 6.1317 - mean_squared_error: 52.1059 - hinge: 0.0267 - binary_crossentropy: 0.1135 - val_loss: 0.0788 - val_accuracy: 0.9771 - val_mean_absolute_error: 5.9347 - val_mean_squared_error: 50.3638 - val_hinge: 0.0787 - val_binary_crossentropy: 0.2719\n"
          ],
          "name": "stdout"
        }
      ]
    },
    {
      "cell_type": "markdown",
      "metadata": {
        "id": "EdwZuQ-q2GZN"
      },
      "source": [
        "## Plots for each epoch"
      ]
    },
    {
      "cell_type": "code",
      "metadata": {
        "id": "_dd1yB0iqbhH"
      },
      "source": [
        "# loss\n",
        "plt.plot(r.history['loss'], label='train loss')\n",
        "plt.plot(r.history['val_loss'], label='test loss')\n",
        "plt.legend()\n",
        "plt.savefig('/content/drive/My Drive/IVP Course Project/Transfer Learning Model/Loss-Epoch-plot(plot images)')\n",
        "plt.show()\n",
        "\n",
        "# accuracies\n",
        "plt.plot(r.history['accuracy'], label='train acc')\n",
        "plt.plot(r.history['val_accuracy'], label='test acc')\n",
        "plt.legend()\n",
        "plt.savefig('/content/drive/My Drive/IVP Course Project/Transfer Learning Model/Accuracy-Epoch-plot(plot images)')\n",
        "plt.show()"
      ],
      "execution_count": null,
      "outputs": []
    }
  ]
}