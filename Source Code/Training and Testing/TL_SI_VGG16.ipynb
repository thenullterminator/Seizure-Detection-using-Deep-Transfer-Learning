{
  "nbformat": 4,
  "nbformat_minor": 0,
  "metadata": {
    "colab": {
      "name": "TL-SI-VGG16.ipynb",
      "provenance": []
    },
    "kernelspec": {
      "name": "python3",
      "display_name": "Python 3"
    },
    "accelerator": "GPU"
  },
  "cells": [
    {
      "cell_type": "code",
      "metadata": {
        "id": "ED0dXiUyPBaU",
        "colab": {
          "base_uri": "https://localhost:8080/"
        },
        "outputId": "293a5f4b-55e6-455a-fa5c-c715a609b3e2"
      },
      "source": [
        "from google.colab import drive\n",
        "drive.mount('/content/drive')"
      ],
      "execution_count": null,
      "outputs": [
        {
          "output_type": "stream",
          "text": [
            "Mounted at /content/drive\n"
          ],
          "name": "stdout"
        }
      ]
    },
    {
      "cell_type": "markdown",
      "metadata": {
        "id": "vzjHlGyTdC12"
      },
      "source": [
        "## Essential Imports"
      ]
    },
    {
      "cell_type": "code",
      "metadata": {
        "id": "RY2Bf7iqUHUb"
      },
      "source": [
        "import tensorflow as tf\n",
        "from keras.regularizers import l2\n",
        "from keras.layers import Input, Lambda, Dense, Flatten\n",
        "from keras.models import Model\n",
        "from keras.applications.vgg16 import VGG16\n",
        "from keras.applications.vgg16 import preprocess_input\n",
        "from keras.preprocessing import image\n",
        "from keras.preprocessing.image import ImageDataGenerator\n",
        "from keras.models import Sequential\n",
        "from tensorflow.python.keras.applications.vgg16 import preprocess_input\n",
        "from tensorflow.python.keras.preprocessing.image import ImageDataGenerator\n",
        "from keras.models import load_model\n",
        "import numpy as np\n",
        "from glob import glob\n",
        "import matplotlib.pyplot as plt"
      ],
      "execution_count": null,
      "outputs": []
    },
    {
      "cell_type": "markdown",
      "metadata": {
        "id": "UkhHn7Oi1nyv"
      },
      "source": [
        "## Essential Constants"
      ]
    },
    {
      "cell_type": "code",
      "metadata": {
        "id": "GuKeDgsGUO5w"
      },
      "source": [
        "train_path = '/content/drive/My Drive/DM Course Project/Temp data(spec images)/temp data(spec images)/train/'\n",
        "test_path = '/content/drive/My Drive/DM Course Project/Temp data(spec images)/temp data(spec images)/test/'\n",
        "\n",
        "# useful for getting number of classes\n",
        "folders = glob('/content/drive/My Drive/DM Course Project/Temp data(spec images)/temp data(spec images)/train/*')\n",
        "\n",
        "num_classes=len(folders)\n",
        "\n",
        "# re-size all the images to this\n",
        "IMAGE_SIZE = [224, 224]"
      ],
      "execution_count": null,
      "outputs": []
    },
    {
      "cell_type": "code",
      "metadata": {
        "colab": {
          "base_uri": "https://localhost:8080/"
        },
        "id": "zvLdgClyDuK4",
        "outputId": "54f2d2d7-04dc-490b-f3e9-54803ad45e49"
      },
      "source": [
        "print(num_classes)"
      ],
      "execution_count": null,
      "outputs": [
        {
          "output_type": "stream",
          "text": [
            "2\n"
          ],
          "name": "stdout"
        }
      ]
    },
    {
      "cell_type": "markdown",
      "metadata": {
        "id": "ZIm6kl071s2O"
      },
      "source": [
        "## Creating a new model"
      ]
    },
    {
      "cell_type": "code",
      "metadata": {
        "id": "Ce6-t9_lrYrQ"
      },
      "source": [
        "model = Sequential()\n",
        "model.add(VGG16(input_shape=IMAGE_SIZE + [3], weights='imagenet', include_top=False))\n",
        "model.add(Flatten())\n",
        "model.add(Dense(units=128, activation='relu'))\n",
        "model.add(Dense(1, kernel_regularizer=l2(0.01),activation='linear')) # Final Layer is SVM Layer\n",
        "model.layers[0].trainable = False"
      ],
      "execution_count": null,
      "outputs": []
    },
    {
      "cell_type": "code",
      "metadata": {
        "id": "eOvrTR0A7E8M",
        "colab": {
          "base_uri": "https://localhost:8080/"
        },
        "outputId": "7dab2634-507d-4b24-d594-ed57045c2369"
      },
      "source": [
        "model.compile(optimizer='adam', loss='hinge', metrics=['accuracy',tf.keras.metrics.MeanAbsoluteError(),tf.keras.metrics.MeanSquaredError(),tf.keras.metrics.Hinge(),tf.keras.metrics.BinaryCrossentropy()])\n",
        "model.summary()"
      ],
      "execution_count": null,
      "outputs": [
        {
          "output_type": "stream",
          "text": [
            "Model: \"sequential_1\"\n",
            "_________________________________________________________________\n",
            "Layer (type)                 Output Shape              Param #   \n",
            "=================================================================\n",
            "vgg16 (Functional)           (None, 7, 7, 512)         14714688  \n",
            "_________________________________________________________________\n",
            "flatten_1 (Flatten)          (None, 25088)             0         \n",
            "_________________________________________________________________\n",
            "dense_2 (Dense)              (None, 128)               3211392   \n",
            "_________________________________________________________________\n",
            "dense_3 (Dense)              (None, 1)                 129       \n",
            "=================================================================\n",
            "Total params: 17,926,209\n",
            "Trainable params: 3,211,521\n",
            "Non-trainable params: 14,714,688\n",
            "_________________________________________________________________\n"
          ],
          "name": "stdout"
        }
      ]
    },
    {
      "cell_type": "markdown",
      "metadata": {
        "id": "-e0jUci512K2"
      },
      "source": [
        "## Setting up training and testing data"
      ]
    },
    {
      "cell_type": "code",
      "metadata": {
        "id": "O7Y6zKJosQSe",
        "colab": {
          "base_uri": "https://localhost:8080/"
        },
        "outputId": "411f7022-d9fc-4bdd-f65e-ff27773fa976"
      },
      "source": [
        "data_generator = ImageDataGenerator(preprocessing_function=preprocess_input)\n",
        "train_set = data_generator.flow_from_directory(train_path,target_size = (224, 224),batch_size=10,class_mode = 'binary')\n",
        "test_set = data_generator.flow_from_directory(test_path,target_size = (224, 224),batch_size=10,class_mode = 'binary')"
      ],
      "execution_count": null,
      "outputs": [
        {
          "output_type": "stream",
          "text": [
            "Found 3000 images belonging to 2 classes.\n",
            "Found 1400 images belonging to 2 classes.\n"
          ],
          "name": "stdout"
        }
      ]
    },
    {
      "cell_type": "code",
      "metadata": {
        "id": "OjBWu5V96GXT",
        "colab": {
          "base_uri": "https://localhost:8080/"
        },
        "outputId": "0da2e58a-4638-493b-a46d-fdea2d25dee6"
      },
      "source": [
        "print(test_set)"
      ],
      "execution_count": null,
      "outputs": [
        {
          "output_type": "stream",
          "text": [
            "<tensorflow.python.keras.preprocessing.image.DirectoryIterator object at 0x7f91e0151320>\n"
          ],
          "name": "stdout"
        }
      ]
    },
    {
      "cell_type": "code",
      "metadata": {
        "id": "rWTIifZR41CR"
      },
      "source": [
        "from keras.callbacks import ModelCheckpoint, EarlyStopping\n",
        "# checkpoint = ModelCheckpoint(\"vgg16_1.h5\", monitor='val_acc', verbose=1, save_best_only=True, save_weights_only=False, mode='auto', period=1)\n",
        "early = EarlyStopping(monitor='val_accuracy', min_delta=0.001, patience=20, verbose=1, mode='auto')"
      ],
      "execution_count": null,
      "outputs": []
    },
    {
      "cell_type": "code",
      "metadata": {
        "id": "3gCFLFp1tbxs",
        "colab": {
          "base_uri": "https://localhost:8080/"
        },
        "outputId": "0afbcfa0-f921-40c6-dc4f-8bdf2d386f71"
      },
      "source": [
        "r = model.fit_generator(\n",
        "  train_set,\n",
        "  validation_data=test_set,\n",
        "  epochs=20,\n",
        "  steps_per_epoch=len(train_set),\n",
        "  validation_steps=len(test_set)\n",
        "#   callbacks=[early]\n",
        ")\n",
        "\n",
        "f=open('/content/drive/My Drive/DM Course Project/Transfer Learning Model/TL-SI-VGG16-stats.txt','w')\n",
        "f.write(str(r.history))\n",
        "f.close()\n",
        "\n",
        "model.save('/content/drive/My Drive/DM Course Project/Transfer Learning Model/TL-SI-VGG16-model.h5')"
      ],
      "execution_count": null,
      "outputs": [
        {
          "output_type": "stream",
          "text": [
            "/usr/local/lib/python3.7/dist-packages/tensorflow/python/keras/engine/training.py:1844: UserWarning: `Model.fit_generator` is deprecated and will be removed in a future version. Please use `Model.fit`, which supports generators.\n",
            "  warnings.warn('`Model.fit_generator` is deprecated and '\n"
          ],
          "name": "stderr"
        },
        {
          "output_type": "stream",
          "text": [
            "Epoch 1/20\n",
            "300/300 [==============================] - 1864s 6s/step - loss: 2.8738 - accuracy: 0.6540 - mean_absolute_error: 6.3902 - mean_squared_error: 156.9382 - hinge: 2.8594 - binary_crossentropy: 4.6697 - val_loss: 0.5528 - val_accuracy: 0.8457 - val_mean_absolute_error: 3.4426 - val_mean_squared_error: 25.8370 - val_hinge: 0.5422 - val_binary_crossentropy: 1.9260\n",
            "Epoch 2/20\n",
            "300/300 [==============================] - 34s 114ms/step - loss: 0.6307 - accuracy: 0.8109 - mean_absolute_error: 4.0895 - mean_squared_error: 32.5316 - hinge: 0.6206 - binary_crossentropy: 2.5450 - val_loss: 0.3041 - val_accuracy: 0.8757 - val_mean_absolute_error: 3.3750 - val_mean_squared_error: 25.9272 - val_hinge: 0.2957 - val_binary_crossentropy: 1.4140\n",
            "Epoch 3/20\n",
            "300/300 [==============================] - 33s 111ms/step - loss: 0.7868 - accuracy: 0.7811 - mean_absolute_error: 4.5797 - mean_squared_error: 35.5314 - hinge: 0.7787 - binary_crossentropy: 3.0121 - val_loss: 0.3470 - val_accuracy: 0.8529 - val_mean_absolute_error: 3.0380 - val_mean_squared_error: 17.3521 - val_hinge: 0.3402 - val_binary_crossentropy: 1.7418\n",
            "Epoch 4/20\n",
            "300/300 [==============================] - 33s 111ms/step - loss: 0.4063 - accuracy: 0.8519 - mean_absolute_error: 3.4540 - mean_squared_error: 19.9309 - hinge: 0.3997 - binary_crossentropy: 1.7983 - val_loss: 0.4118 - val_accuracy: 0.7979 - val_mean_absolute_error: 2.0940 - val_mean_squared_error: 7.9956 - val_hinge: 0.4060 - val_binary_crossentropy: 2.1667\n",
            "Epoch 5/20\n",
            "300/300 [==============================] - 33s 109ms/step - loss: 0.4543 - accuracy: 0.8337 - mean_absolute_error: 2.4821 - mean_squared_error: 10.1990 - hinge: 0.4487 - binary_crossentropy: 2.0376 - val_loss: 0.3134 - val_accuracy: 0.8993 - val_mean_absolute_error: 2.2037 - val_mean_squared_error: 9.0850 - val_hinge: 0.3084 - val_binary_crossentropy: 0.9764\n",
            "Epoch 6/20\n",
            "300/300 [==============================] - 33s 111ms/step - loss: 0.2486 - accuracy: 0.8936 - mean_absolute_error: 2.3097 - mean_squared_error: 9.1376 - hinge: 0.2438 - binary_crossentropy: 1.0509 - val_loss: 0.2775 - val_accuracy: 0.9221 - val_mean_absolute_error: 2.2981 - val_mean_squared_error: 8.8924 - val_hinge: 0.2731 - val_binary_crossentropy: 0.8364\n",
            "Epoch 7/20\n",
            "300/300 [==============================] - 34s 113ms/step - loss: 0.2644 - accuracy: 0.8901 - mean_absolute_error: 2.3439 - mean_squared_error: 9.2145 - hinge: 0.2602 - binary_crossentropy: 1.1036 - val_loss: 0.2159 - val_accuracy: 0.8843 - val_mean_absolute_error: 2.2467 - val_mean_squared_error: 9.4055 - val_hinge: 0.2121 - val_binary_crossentropy: 1.0427\n",
            "Epoch 8/20\n",
            "300/300 [==============================] - 33s 111ms/step - loss: 0.2653 - accuracy: 0.8928 - mean_absolute_error: 2.3588 - mean_squared_error: 10.0362 - hinge: 0.2616 - binary_crossentropy: 1.1203 - val_loss: 0.2111 - val_accuracy: 0.9050 - val_mean_absolute_error: 2.2905 - val_mean_squared_error: 9.4432 - val_hinge: 0.2078 - val_binary_crossentropy: 0.8234\n",
            "Epoch 9/20\n",
            "300/300 [==============================] - 33s 110ms/step - loss: 0.1882 - accuracy: 0.9163 - mean_absolute_error: 2.3333 - mean_squared_error: 9.4575 - hinge: 0.1850 - binary_crossentropy: 0.7920 - val_loss: 0.3065 - val_accuracy: 0.9207 - val_mean_absolute_error: 2.2582 - val_mean_squared_error: 8.9630 - val_hinge: 0.3036 - val_binary_crossentropy: 0.8897\n",
            "Epoch 10/20\n",
            "300/300 [==============================] - 33s 109ms/step - loss: 0.2796 - accuracy: 0.8925 - mean_absolute_error: 2.3055 - mean_squared_error: 8.9796 - hinge: 0.2767 - binary_crossentropy: 1.1838 - val_loss: 0.2411 - val_accuracy: 0.8693 - val_mean_absolute_error: 2.3616 - val_mean_squared_error: 14.0205 - val_hinge: 0.2385 - val_binary_crossentropy: 1.1388\n",
            "Epoch 11/20\n",
            "300/300 [==============================] - 33s 109ms/step - loss: 0.2236 - accuracy: 0.9075 - mean_absolute_error: 2.6230 - mean_squared_error: 13.6288 - hinge: 0.2211 - binary_crossentropy: 0.9148 - val_loss: 0.1936 - val_accuracy: 0.9171 - val_mean_absolute_error: 2.1344 - val_mean_squared_error: 8.8871 - val_hinge: 0.1913 - val_binary_crossentropy: 0.7666\n",
            "Epoch 12/20\n",
            "300/300 [==============================] - 33s 109ms/step - loss: 0.2149 - accuracy: 0.9099 - mean_absolute_error: 2.4230 - mean_squared_error: 10.2279 - hinge: 0.2127 - binary_crossentropy: 0.9459 - val_loss: 0.3850 - val_accuracy: 0.7686 - val_mean_absolute_error: 2.6946 - val_mean_squared_error: 16.7057 - val_hinge: 0.3830 - val_binary_crossentropy: 2.4551\n",
            "Epoch 13/20\n",
            "300/300 [==============================] - 33s 110ms/step - loss: 0.2362 - accuracy: 0.9043 - mean_absolute_error: 2.5794 - mean_squared_error: 12.4161 - hinge: 0.2343 - binary_crossentropy: 0.9726 - val_loss: 0.2004 - val_accuracy: 0.9229 - val_mean_absolute_error: 2.4103 - val_mean_squared_error: 10.4744 - val_hinge: 0.1987 - val_binary_crossentropy: 0.6971\n",
            "Epoch 14/20\n",
            "300/300 [==============================] - 33s 110ms/step - loss: 0.1747 - accuracy: 0.9292 - mean_absolute_error: 2.5139 - mean_squared_error: 11.0888 - hinge: 0.1730 - binary_crossentropy: 0.8115 - val_loss: 0.1852 - val_accuracy: 0.9021 - val_mean_absolute_error: 2.2745 - val_mean_squared_error: 9.0883 - val_hinge: 0.1837 - val_binary_crossentropy: 0.8687\n",
            "Epoch 15/20\n",
            "300/300 [==============================] - 33s 110ms/step - loss: 0.2123 - accuracy: 0.9093 - mean_absolute_error: 2.4610 - mean_squared_error: 10.2260 - hinge: 0.2108 - binary_crossentropy: 0.8890 - val_loss: 0.3164 - val_accuracy: 0.7936 - val_mean_absolute_error: 1.9970 - val_mean_squared_error: 7.1007 - val_hinge: 0.3150 - val_binary_crossentropy: 1.9998\n",
            "Epoch 16/20\n",
            "300/300 [==============================] - 33s 111ms/step - loss: 0.1637 - accuracy: 0.9276 - mean_absolute_error: 2.2912 - mean_squared_error: 9.4964 - hinge: 0.1623 - binary_crossentropy: 0.7085 - val_loss: 0.2782 - val_accuracy: 0.9221 - val_mean_absolute_error: 2.7017 - val_mean_squared_error: 11.9177 - val_hinge: 0.2770 - val_binary_crossentropy: 0.8168\n",
            "Epoch 17/20\n",
            "300/300 [==============================] - 33s 111ms/step - loss: 0.1747 - accuracy: 0.9270 - mean_absolute_error: 2.9896 - mean_squared_error: 14.2865 - hinge: 0.1735 - binary_crossentropy: 0.7670 - val_loss: 0.2095 - val_accuracy: 0.8843 - val_mean_absolute_error: 2.9651 - val_mean_squared_error: 16.3148 - val_hinge: 0.2084 - val_binary_crossentropy: 1.1296\n",
            "Epoch 18/20\n",
            "300/300 [==============================] - 33s 111ms/step - loss: 0.1433 - accuracy: 0.9434 - mean_absolute_error: 3.0943 - mean_squared_error: 18.9447 - hinge: 0.1423 - binary_crossentropy: 0.5960 - val_loss: 0.2078 - val_accuracy: 0.9307 - val_mean_absolute_error: 2.7005 - val_mean_squared_error: 16.4392 - val_hinge: 0.2068 - val_binary_crossentropy: 0.6902\n",
            "Epoch 19/20\n",
            "300/300 [==============================] - 33s 111ms/step - loss: 0.1699 - accuracy: 0.9292 - mean_absolute_error: 2.7709 - mean_squared_error: 15.7880 - hinge: 0.1690 - binary_crossentropy: 0.6919 - val_loss: 0.3784 - val_accuracy: 0.8957 - val_mean_absolute_error: 3.0367 - val_mean_squared_error: 20.8628 - val_hinge: 0.3776 - val_binary_crossentropy: 1.2316\n",
            "Epoch 20/20\n",
            "300/300 [==============================] - 33s 111ms/step - loss: 0.1406 - accuracy: 0.9367 - mean_absolute_error: 2.8911 - mean_squared_error: 16.1236 - hinge: 0.1398 - binary_crossentropy: 0.5851 - val_loss: 0.1955 - val_accuracy: 0.9336 - val_mean_absolute_error: 2.9816 - val_mean_squared_error: 16.2910 - val_hinge: 0.1947 - val_binary_crossentropy: 0.6149\n"
          ],
          "name": "stdout"
        }
      ]
    }
  ]
}