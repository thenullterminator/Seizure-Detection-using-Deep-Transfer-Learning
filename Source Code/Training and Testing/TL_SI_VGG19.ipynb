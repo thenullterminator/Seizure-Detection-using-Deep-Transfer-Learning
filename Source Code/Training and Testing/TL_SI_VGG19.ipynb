{
  "nbformat": 4,
  "nbformat_minor": 0,
  "metadata": {
    "colab": {
      "name": "TL-SI-VGG19.ipynb",
      "provenance": []
    },
    "kernelspec": {
      "name": "python3",
      "display_name": "Python 3"
    },
    "accelerator": "GPU"
  },
  "cells": [
    {
      "cell_type": "markdown",
      "metadata": {
        "id": "vzjHlGyTdC12"
      },
      "source": [
        "## Essential Imports"
      ]
    },
    {
      "cell_type": "code",
      "metadata": {
        "id": "RY2Bf7iqUHUb"
      },
      "source": [
        "import tensorflow as tf\n",
        "from keras.regularizers import l2\n",
        "from keras.layers import Input, Lambda, Dense, Flatten\n",
        "from keras.models import Model\n",
        "from keras.applications.vgg19 import VGG19\n",
        "from keras.applications.vgg19 import preprocess_input\n",
        "from keras.preprocessing import image\n",
        "from keras.preprocessing.image import ImageDataGenerator\n",
        "from keras.models import Sequential\n",
        "from keras.models import load_model\n",
        "import numpy as np\n",
        "from glob import glob\n",
        "import matplotlib.pyplot as plt"
      ],
      "execution_count": null,
      "outputs": []
    },
    {
      "cell_type": "code",
      "metadata": {
        "colab": {
          "base_uri": "https://localhost:8080/"
        },
        "id": "5lqVky0w2bPQ",
        "outputId": "2496236d-23f7-4ef5-ba1f-b6ba60a64e6b"
      },
      "source": [
        "from google.colab import drive\n",
        "drive.mount('/content/drive')"
      ],
      "execution_count": null,
      "outputs": [
        {
          "output_type": "stream",
          "text": [
            "Drive already mounted at /content/drive; to attempt to forcibly remount, call drive.mount(\"/content/drive\", force_remount=True).\n"
          ],
          "name": "stdout"
        }
      ]
    },
    {
      "cell_type": "markdown",
      "metadata": {
        "id": "UkhHn7Oi1nyv"
      },
      "source": [
        "## Essential Constants"
      ]
    },
    {
      "cell_type": "code",
      "metadata": {
        "id": "GuKeDgsGUO5w"
      },
      "source": [
        "train_path = '/content/drive/My Drive/DM Course Project/Temp data(spec images)/temp data(spec images)/train'\n",
        "test_path = '/content/drive/My Drive/DM Course Project/Temp data(spec images)/temp data(spec images)/test'\n",
        "\n",
        "# useful for getting number of classes\n",
        "folders = glob('/content/drive/My Drive/DM Course Project/Temp data(spec images)/temp data(spec images)/train/*')\n",
        "\n",
        "num_classes=len(folders)\n",
        "\n",
        "# re-size all the images to this\n",
        "IMAGE_SIZE = [224, 224]"
      ],
      "execution_count": null,
      "outputs": []
    },
    {
      "cell_type": "code",
      "metadata": {
        "colab": {
          "base_uri": "https://localhost:8080/"
        },
        "id": "zvLdgClyDuK4",
        "outputId": "10c48d0d-a181-4075-8569-1ea393e4faaf"
      },
      "source": [
        "print(num_classes)"
      ],
      "execution_count": null,
      "outputs": [
        {
          "output_type": "stream",
          "text": [
            "2\n"
          ],
          "name": "stdout"
        }
      ]
    },
    {
      "cell_type": "markdown",
      "metadata": {
        "id": "ZIm6kl071s2O"
      },
      "source": [
        "## Creating a new model"
      ]
    },
    {
      "cell_type": "code",
      "metadata": {
        "id": "Ce6-t9_lrYrQ"
      },
      "source": [
        "model = Sequential()\n",
        "model.add(VGG19(input_shape=IMAGE_SIZE + [3], weights='imagenet', include_top=False))\n",
        "model.add(Flatten())\n",
        "model.add(Dense(units=128, activation='relu'))\n",
        "model.add(Dense(1, kernel_regularizer=l2(0.01),activation='linear')) # Final Layer is SVM Layer\n",
        "model.layers[0].trainable = False"
      ],
      "execution_count": null,
      "outputs": []
    },
    {
      "cell_type": "code",
      "metadata": {
        "id": "eOvrTR0A7E8M",
        "colab": {
          "base_uri": "https://localhost:8080/"
        },
        "outputId": "b53b132c-dde4-4fb6-c18a-e0867875e2cb"
      },
      "source": [
        "model.compile(optimizer='adam', loss='hinge', metrics=['accuracy',tf.keras.metrics.MeanAbsoluteError(),tf.keras.metrics.MeanSquaredError(),tf.keras.metrics.Hinge(),tf.keras.metrics.BinaryCrossentropy()])\n",
        "model.summary()"
      ],
      "execution_count": null,
      "outputs": [
        {
          "output_type": "stream",
          "text": [
            "Model: \"sequential_4\"\n",
            "_________________________________________________________________\n",
            "Layer (type)                 Output Shape              Param #   \n",
            "=================================================================\n",
            "vgg19 (Functional)           (None, 7, 7, 512)         20024384  \n",
            "_________________________________________________________________\n",
            "flatten_4 (Flatten)          (None, 25088)             0         \n",
            "_________________________________________________________________\n",
            "dense_8 (Dense)              (None, 128)               3211392   \n",
            "_________________________________________________________________\n",
            "dense_9 (Dense)              (None, 1)                 129       \n",
            "=================================================================\n",
            "Total params: 23,235,905\n",
            "Trainable params: 3,211,521\n",
            "Non-trainable params: 20,024,384\n",
            "_________________________________________________________________\n"
          ],
          "name": "stdout"
        }
      ]
    },
    {
      "cell_type": "markdown",
      "metadata": {
        "id": "-e0jUci512K2"
      },
      "source": [
        "## Setting up training and testing data"
      ]
    },
    {
      "cell_type": "code",
      "metadata": {
        "id": "O7Y6zKJosQSe",
        "colab": {
          "base_uri": "https://localhost:8080/"
        },
        "outputId": "9ee14b10-6a44-4319-dacd-7e18a6423f32"
      },
      "source": [
        "data_generator = ImageDataGenerator(preprocessing_function=preprocess_input)\n",
        "train_set = data_generator.flow_from_directory(train_path,target_size = (224, 224),batch_size=10,class_mode = 'binary')\n",
        "test_set = data_generator.flow_from_directory(test_path,target_size = (224, 224),batch_size=10,class_mode = 'binary')"
      ],
      "execution_count": null,
      "outputs": [
        {
          "output_type": "stream",
          "text": [
            "Found 3000 images belonging to 2 classes.\n",
            "Found 1400 images belonging to 2 classes.\n"
          ],
          "name": "stdout"
        }
      ]
    },
    {
      "cell_type": "code",
      "metadata": {
        "id": "OjBWu5V96GXT",
        "colab": {
          "base_uri": "https://localhost:8080/"
        },
        "outputId": "952fefbe-af2e-40ae-c5cf-3a3e10743363"
      },
      "source": [
        "print(test_set)"
      ],
      "execution_count": null,
      "outputs": [
        {
          "output_type": "stream",
          "text": [
            "<tensorflow.python.keras.preprocessing.image.DirectoryIterator object at 0x7f5e676a1240>\n"
          ],
          "name": "stdout"
        }
      ]
    },
    {
      "cell_type": "code",
      "metadata": {
        "id": "rWTIifZR41CR"
      },
      "source": [
        "from keras.callbacks import ModelCheckpoint, EarlyStopping\n",
        "# checkpoint = ModelCheckpoint(\"vgg16_1.h5\", monitor='val_acc', verbose=1, save_best_only=True, save_weights_only=False, mode='auto', period=1)\n",
        "early = EarlyStopping(monitor='val_accuracy', min_delta=0.001, patience=20, verbose=1, mode='auto')"
      ],
      "execution_count": null,
      "outputs": []
    },
    {
      "cell_type": "code",
      "metadata": {
        "id": "3gCFLFp1tbxs",
        "colab": {
          "base_uri": "https://localhost:8080/"
        },
        "outputId": "b0241432-3500-4254-b8cd-3aa792b896a9"
      },
      "source": [
        "r = model.fit_generator(\n",
        "  train_set,\n",
        "  validation_data=test_set,\n",
        "  epochs=20,\n",
        "  steps_per_epoch=len(train_set),\n",
        "  validation_steps=len(test_set)\n",
        "#   callbacks=[early]\n",
        ")\n",
        "\n",
        "f=open('/content/drive/My Drive/DM Course Project/Transfer Learning Model/TL-SI-VGG19-stats.txt','w')\n",
        "f.write(str(r.history))\n",
        "f.close()\n",
        "\n",
        "model.save('/content/drive/My Drive/DM Course Project/Transfer Learning Model/TL-SI-VGG19-model.h5')"
      ],
      "execution_count": null,
      "outputs": [
        {
          "output_type": "stream",
          "text": [
            "/usr/local/lib/python3.7/dist-packages/tensorflow/python/keras/engine/training.py:1844: UserWarning: `Model.fit_generator` is deprecated and will be removed in a future version. Please use `Model.fit`, which supports generators.\n",
            "  warnings.warn('`Model.fit_generator` is deprecated and '\n"
          ],
          "name": "stderr"
        },
        {
          "output_type": "stream",
          "text": [
            "Epoch 1/20\n",
            "300/300 [==============================] - 2698s 9s/step - loss: 3.9181 - accuracy: 0.6270 - mean_absolute_error: 9.8275 - mean_squared_error: 202.4597 - hinge: 3.9020 - binary_crossentropy: 5.4627 - val_loss: 1.0011 - val_accuracy: 0.7236 - val_mean_absolute_error: 5.6254 - val_mean_squared_error: 49.5252 - val_hinge: 0.9891 - val_binary_crossentropy: 3.7057\n",
            "Epoch 2/20\n",
            "300/300 [==============================] - 66s 219ms/step - loss: 0.9914 - accuracy: 0.7823 - mean_absolute_error: 6.0233 - mean_squared_error: 57.3412 - hinge: 0.9798 - binary_crossentropy: 2.9799 - val_loss: 0.6344 - val_accuracy: 0.8529 - val_mean_absolute_error: 6.5700 - val_mean_squared_error: 65.4401 - val_hinge: 0.6241 - val_binary_crossentropy: 1.9753\n",
            "Epoch 3/20\n",
            "300/300 [==============================] - 66s 219ms/step - loss: 0.6255 - accuracy: 0.8458 - mean_absolute_error: 6.3115 - mean_squared_error: 65.2419 - hinge: 0.6156 - binary_crossentropy: 2.0766 - val_loss: 0.5772 - val_accuracy: 0.8643 - val_mean_absolute_error: 5.0585 - val_mean_squared_error: 39.7481 - val_hinge: 0.5683 - val_binary_crossentropy: 1.7593\n",
            "Epoch 4/20\n",
            "300/300 [==============================] - 65s 217ms/step - loss: 0.7295 - accuracy: 0.8303 - mean_absolute_error: 6.0974 - mean_squared_error: 58.1652 - hinge: 0.7209 - binary_crossentropy: 2.2746 - val_loss: 0.4063 - val_accuracy: 0.8950 - val_mean_absolute_error: 5.1815 - val_mean_squared_error: 39.8316 - val_hinge: 0.3986 - val_binary_crossentropy: 1.3091\n",
            "Epoch 5/20\n",
            "300/300 [==============================] - 65s 218ms/step - loss: 0.3022 - accuracy: 0.9049 - mean_absolute_error: 4.7675 - mean_squared_error: 34.1124 - hinge: 0.2947 - binary_crossentropy: 1.2479 - val_loss: 1.2839 - val_accuracy: 0.6136 - val_mean_absolute_error: 6.0045 - val_mean_squared_error: 54.0948 - val_hinge: 1.2771 - val_binary_crossentropy: 5.5810\n",
            "Epoch 6/20\n",
            "300/300 [==============================] - 65s 218ms/step - loss: 0.5622 - accuracy: 0.8331 - mean_absolute_error: 4.9769 - mean_squared_error: 39.8559 - hinge: 0.5557 - binary_crossentropy: 2.2400 - val_loss: 0.3085 - val_accuracy: 0.9014 - val_mean_absolute_error: 4.3260 - val_mean_squared_error: 27.9491 - val_hinge: 0.3026 - val_binary_crossentropy: 1.2151\n",
            "Epoch 7/20\n",
            "300/300 [==============================] - 65s 217ms/step - loss: 0.2777 - accuracy: 0.9073 - mean_absolute_error: 4.4974 - mean_squared_error: 31.8472 - hinge: 0.2719 - binary_crossentropy: 1.1716 - val_loss: 0.4489 - val_accuracy: 0.8807 - val_mean_absolute_error: 3.7252 - val_mean_squared_error: 21.3661 - val_hinge: 0.4437 - val_binary_crossentropy: 1.4467\n",
            "Epoch 8/20\n",
            "300/300 [==============================] - 65s 217ms/step - loss: 0.3052 - accuracy: 0.8893 - mean_absolute_error: 3.9557 - mean_squared_error: 25.4407 - hinge: 0.3001 - binary_crossentropy: 1.2900 - val_loss: 0.3518 - val_accuracy: 0.9036 - val_mean_absolute_error: 3.8677 - val_mean_squared_error: 21.4258 - val_hinge: 0.3472 - val_binary_crossentropy: 1.2519\n",
            "Epoch 9/20\n",
            "300/300 [==============================] - 65s 218ms/step - loss: 0.3365 - accuracy: 0.8844 - mean_absolute_error: 3.8511 - mean_squared_error: 23.0081 - hinge: 0.3321 - binary_crossentropy: 1.4669 - val_loss: 0.2467 - val_accuracy: 0.9250 - val_mean_absolute_error: 3.4706 - val_mean_squared_error: 17.4385 - val_hinge: 0.2427 - val_binary_crossentropy: 0.9302\n",
            "Epoch 10/20\n",
            "300/300 [==============================] - 65s 218ms/step - loss: 0.2279 - accuracy: 0.9152 - mean_absolute_error: 3.5379 - mean_squared_error: 19.2350 - hinge: 0.2241 - binary_crossentropy: 0.9886 - val_loss: 0.5314 - val_accuracy: 0.8607 - val_mean_absolute_error: 3.2870 - val_mean_squared_error: 15.9715 - val_hinge: 0.5279 - val_binary_crossentropy: 1.6844\n",
            "Epoch 11/20\n",
            "300/300 [==============================] - 65s 218ms/step - loss: 0.3079 - accuracy: 0.8866 - mean_absolute_error: 3.4671 - mean_squared_error: 18.3512 - hinge: 0.3044 - binary_crossentropy: 1.3053 - val_loss: 0.2393 - val_accuracy: 0.8943 - val_mean_absolute_error: 2.9584 - val_mean_squared_error: 13.3807 - val_hinge: 0.2362 - val_binary_crossentropy: 1.2327\n",
            "Epoch 12/20\n",
            "300/300 [==============================] - 65s 217ms/step - loss: 0.2276 - accuracy: 0.9146 - mean_absolute_error: 2.9926 - mean_squared_error: 13.0358 - hinge: 0.2246 - binary_crossentropy: 0.8828 - val_loss: 0.2367 - val_accuracy: 0.8943 - val_mean_absolute_error: 2.9352 - val_mean_squared_error: 13.3152 - val_hinge: 0.2340 - val_binary_crossentropy: 1.1613\n",
            "Epoch 13/20\n",
            "300/300 [==============================] - 65s 217ms/step - loss: 0.3213 - accuracy: 0.8727 - mean_absolute_error: 2.7674 - mean_squared_error: 11.7319 - hinge: 0.3187 - binary_crossentropy: 1.4388 - val_loss: 0.2013 - val_accuracy: 0.9121 - val_mean_absolute_error: 2.2362 - val_mean_squared_error: 7.8184 - val_hinge: 0.1989 - val_binary_crossentropy: 0.8735\n",
            "Epoch 14/20\n",
            "300/300 [==============================] - 65s 218ms/step - loss: 0.1802 - accuracy: 0.9164 - mean_absolute_error: 2.2178 - mean_squared_error: 7.6216 - hinge: 0.1779 - binary_crossentropy: 0.7442 - val_loss: 0.2029 - val_accuracy: 0.8964 - val_mean_absolute_error: 1.8547 - val_mean_squared_error: 5.7429 - val_hinge: 0.2008 - val_binary_crossentropy: 0.9323\n",
            "Epoch 15/20\n",
            "300/300 [==============================] - 65s 217ms/step - loss: 0.1820 - accuracy: 0.9192 - mean_absolute_error: 2.1248 - mean_squared_error: 7.0304 - hinge: 0.1799 - binary_crossentropy: 0.8108 - val_loss: 0.2472 - val_accuracy: 0.9250 - val_mean_absolute_error: 2.2410 - val_mean_squared_error: 7.0246 - val_hinge: 0.2453 - val_binary_crossentropy: 0.7874\n",
            "Epoch 16/20\n",
            "300/300 [==============================] - 65s 217ms/step - loss: 0.1824 - accuracy: 0.9222 - mean_absolute_error: 2.4046 - mean_squared_error: 8.7963 - hinge: 0.1805 - binary_crossentropy: 0.8090 - val_loss: 0.2062 - val_accuracy: 0.9243 - val_mean_absolute_error: 1.7116 - val_mean_squared_error: 4.5761 - val_hinge: 0.2045 - val_binary_crossentropy: 0.7003\n",
            "Epoch 17/20\n",
            "300/300 [==============================] - 66s 219ms/step - loss: 0.2398 - accuracy: 0.8980 - mean_absolute_error: 1.8138 - mean_squared_error: 5.6522 - hinge: 0.2381 - binary_crossentropy: 1.0174 - val_loss: 0.2380 - val_accuracy: 0.9214 - val_mean_absolute_error: 1.3344 - val_mean_squared_error: 3.4603 - val_hinge: 0.2365 - val_binary_crossentropy: 0.7773\n",
            "Epoch 18/20\n",
            "300/300 [==============================] - 66s 219ms/step - loss: 0.1530 - accuracy: 0.9387 - mean_absolute_error: 1.8142 - mean_squared_error: 6.1588 - hinge: 0.1514 - binary_crossentropy: 0.6280 - val_loss: 0.2578 - val_accuracy: 0.9093 - val_mean_absolute_error: 1.5072 - val_mean_squared_error: 3.7482 - val_hinge: 0.2563 - val_binary_crossentropy: 0.9554\n",
            "Epoch 19/20\n",
            "300/300 [==============================] - 65s 218ms/step - loss: 0.1359 - accuracy: 0.9372 - mean_absolute_error: 1.8927 - mean_squared_error: 6.2264 - hinge: 0.1345 - binary_crossentropy: 0.6310 - val_loss: 0.2016 - val_accuracy: 0.9250 - val_mean_absolute_error: 1.9461 - val_mean_squared_error: 6.4572 - val_hinge: 0.2003 - val_binary_crossentropy: 0.7788\n",
            "Epoch 20/20\n",
            "300/300 [==============================] - 65s 217ms/step - loss: 0.1513 - accuracy: 0.9364 - mean_absolute_error: 2.0180 - mean_squared_error: 7.2429 - hinge: 0.1500 - binary_crossentropy: 0.6897 - val_loss: 0.1770 - val_accuracy: 0.9157 - val_mean_absolute_error: 2.2340 - val_mean_squared_error: 8.8320 - val_hinge: 0.1757 - val_binary_crossentropy: 0.8491\n"
          ],
          "name": "stdout"
        }
      ]
    }
  ]
}