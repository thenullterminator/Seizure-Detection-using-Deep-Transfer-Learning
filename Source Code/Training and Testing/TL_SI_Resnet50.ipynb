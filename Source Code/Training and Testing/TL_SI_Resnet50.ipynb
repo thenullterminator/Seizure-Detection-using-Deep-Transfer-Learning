{
  "nbformat": 4,
  "nbformat_minor": 0,
  "metadata": {
    "colab": {
      "name": "TL-SI-Resnet50.ipynb",
      "provenance": [],
      "toc_visible": true
    },
    "kernelspec": {
      "name": "python3",
      "display_name": "Python 3"
    },
    "accelerator": "GPU"
  },
  "cells": [
    {
      "cell_type": "markdown",
      "metadata": {
        "id": "vzjHlGyTdC12"
      },
      "source": [
        "## Essential Imports"
      ]
    },
    {
      "cell_type": "code",
      "metadata": {
        "id": "PvGB2p0AOoS0",
        "colab": {
          "base_uri": "https://localhost:8080/"
        },
        "outputId": "c7665dc6-f22e-42f0-9bf8-d08051ffb12d"
      },
      "source": [
        "from google.colab import drive\n",
        "drive.mount('/content/drive')"
      ],
      "execution_count": null,
      "outputs": [
        {
          "output_type": "stream",
          "text": [
            "Mounted at /content/drive\n"
          ],
          "name": "stdout"
        }
      ]
    },
    {
      "cell_type": "code",
      "metadata": {
        "id": "2w3EpU0s0jkQ"
      },
      "source": [
        "import tensorflow as tf\n",
        "from keras.regularizers import l2\n",
        "from keras.layers import Input, Lambda, Dense, Flatten\n",
        "from keras.models import Model\n",
        "from keras.applications.resnet50 import ResNet50\n",
        "from keras.applications.resnet50 import preprocess_input\n",
        "from keras.preprocessing import image\n",
        "from keras.preprocessing.image import ImageDataGenerator\n",
        "from keras.models import Sequential\n",
        "from keras.models import load_model\n",
        "import numpy as np\n",
        "from glob import glob\n",
        "import matplotlib.pyplot as plt"
      ],
      "execution_count": null,
      "outputs": []
    },
    {
      "cell_type": "markdown",
      "metadata": {
        "id": "UkhHn7Oi1nyv"
      },
      "source": [
        "## Essential Constants"
      ]
    },
    {
      "cell_type": "code",
      "metadata": {
        "id": "GuKeDgsGUO5w"
      },
      "source": [
        "train_path = '/content/drive/My Drive/DM Course Project/Temp data(spec images)/temp data(spec images)/train/'\n",
        "test_path = '/content/drive/My Drive/DM Course Project/Temp data(spec images)/temp data(spec images)/test/'\n",
        "\n",
        "# useful for getting number of classes\n",
        "folders = glob('/content/drive/My Drive/DM Course Project/Temp data(spec images)/temp data(spec images)/train/*')\n",
        "\n",
        "num_classes=len(folders)\n",
        "\n",
        "# re-size all the images to this\n",
        "IMAGE_SIZE = [224, 224]"
      ],
      "execution_count": null,
      "outputs": []
    },
    {
      "cell_type": "code",
      "metadata": {
        "colab": {
          "base_uri": "https://localhost:8080/"
        },
        "id": "zvLdgClyDuK4",
        "outputId": "79ac6cea-a281-4c5b-b909-1daa94a83385"
      },
      "source": [
        "print(num_classes)"
      ],
      "execution_count": null,
      "outputs": [
        {
          "output_type": "stream",
          "text": [
            "2\n"
          ],
          "name": "stdout"
        }
      ]
    },
    {
      "cell_type": "markdown",
      "metadata": {
        "id": "ZIm6kl071s2O"
      },
      "source": [
        "## Creating a new model"
      ]
    },
    {
      "cell_type": "code",
      "metadata": {
        "id": "Ce6-t9_lrYrQ",
        "colab": {
          "base_uri": "https://localhost:8080/"
        },
        "outputId": "1a2f7b86-49ff-4f18-e153-ef25184704d5"
      },
      "source": [
        "model = Sequential()\n",
        "model.add(ResNet50(input_shape=IMAGE_SIZE + [3], weights='imagenet', include_top=False))\n",
        "model.add(Flatten())\n",
        "model.add(Dense(units=128, activation='relu'))\n",
        "model.add(Dense(1, kernel_regularizer=l2(0.01),activation='linear')) # Final Layer is SVM Layer\n",
        "model.layers[0].trainable = False"
      ],
      "execution_count": null,
      "outputs": [
        {
          "output_type": "stream",
          "text": [
            "Downloading data from https://storage.googleapis.com/tensorflow/keras-applications/resnet/resnet50_weights_tf_dim_ordering_tf_kernels_notop.h5\n",
            "94773248/94765736 [==============================] - 1s 0us/step\n"
          ],
          "name": "stdout"
        }
      ]
    },
    {
      "cell_type": "code",
      "metadata": {
        "id": "eOvrTR0A7E8M",
        "colab": {
          "base_uri": "https://localhost:8080/"
        },
        "outputId": "b8c7745e-61e8-4236-e961-857a7bf0b813"
      },
      "source": [
        "model.compile(optimizer='adam', loss='hinge', metrics=['accuracy',tf.keras.metrics.MeanAbsoluteError(),tf.keras.metrics.MeanSquaredError(),tf.keras.metrics.Hinge(),tf.keras.metrics.BinaryCrossentropy()])\n",
        "model.summary()"
      ],
      "execution_count": null,
      "outputs": [
        {
          "output_type": "stream",
          "text": [
            "Model: \"sequential_1\"\n",
            "_________________________________________________________________\n",
            "Layer (type)                 Output Shape              Param #   \n",
            "=================================================================\n",
            "resnet50 (Functional)        (None, 7, 7, 2048)        23587712  \n",
            "_________________________________________________________________\n",
            "flatten (Flatten)            (None, 100352)            0         \n",
            "_________________________________________________________________\n",
            "dense (Dense)                (None, 128)               12845184  \n",
            "_________________________________________________________________\n",
            "dense_1 (Dense)              (None, 1)                 129       \n",
            "=================================================================\n",
            "Total params: 36,433,025\n",
            "Trainable params: 12,845,313\n",
            "Non-trainable params: 23,587,712\n",
            "_________________________________________________________________\n"
          ],
          "name": "stdout"
        }
      ]
    },
    {
      "cell_type": "markdown",
      "metadata": {
        "id": "-e0jUci512K2"
      },
      "source": [
        "## Setting up training and testing data"
      ]
    },
    {
      "cell_type": "code",
      "metadata": {
        "id": "O7Y6zKJosQSe",
        "colab": {
          "base_uri": "https://localhost:8080/"
        },
        "outputId": "91b9a981-f5cf-42ab-e9eb-afb06c6930d5"
      },
      "source": [
        "data_generator = ImageDataGenerator(preprocessing_function=preprocess_input)\n",
        "train_set = data_generator.flow_from_directory(train_path,target_size = (224, 224),batch_size=10,class_mode = 'binary')\n",
        "test_set = data_generator.flow_from_directory(test_path,target_size = (224, 224),batch_size=10,class_mode = 'binary')"
      ],
      "execution_count": null,
      "outputs": [
        {
          "output_type": "stream",
          "text": [
            "Found 3000 images belonging to 2 classes.\n",
            "Found 1400 images belonging to 2 classes.\n"
          ],
          "name": "stdout"
        }
      ]
    },
    {
      "cell_type": "code",
      "metadata": {
        "id": "OjBWu5V96GXT",
        "colab": {
          "base_uri": "https://localhost:8080/"
        },
        "outputId": "216e604f-7cdb-4ffb-bc0d-d862272e71da"
      },
      "source": [
        "print(test_set)"
      ],
      "execution_count": null,
      "outputs": [
        {
          "output_type": "stream",
          "text": [
            "<tensorflow.python.keras.preprocessing.image.DirectoryIterator object at 0x7f5f3a619470>\n"
          ],
          "name": "stdout"
        }
      ]
    },
    {
      "cell_type": "code",
      "metadata": {
        "id": "3gCFLFp1tbxs",
        "colab": {
          "base_uri": "https://localhost:8080/"
        },
        "outputId": "1955d451-d50e-4dca-b283-257583e08c62"
      },
      "source": [
        "r = model.fit_generator(\n",
        "  train_set,\n",
        "  validation_data=test_set,\n",
        "  epochs=20,\n",
        "  steps_per_epoch=len(train_set),\n",
        "  validation_steps=len(test_set)\n",
        "#   callbacks=[early]\n",
        ")\n",
        "\n",
        "f=open('/content/drive/My Drive/DM Course Project/Transfer Learning Model/TL-SI-Resnet50-stats.txt','w')\n",
        "f.write(str(r.history))\n",
        "f.close()\n",
        "\n",
        "model.save('/content/drive/My Drive/DM Course Project/Transfer Learning Model/TL-SI-Resnet50-model.h5')"
      ],
      "execution_count": null,
      "outputs": [
        {
          "output_type": "stream",
          "text": [
            "/usr/local/lib/python3.7/dist-packages/tensorflow/python/keras/engine/training.py:1844: UserWarning: `Model.fit_generator` is deprecated and will be removed in a future version. Please use `Model.fit`, which supports generators.\n",
            "  warnings.warn('`Model.fit_generator` is deprecated and '\n"
          ],
          "name": "stderr"
        },
        {
          "output_type": "stream",
          "text": [
            "Epoch 1/20\n",
            "300/300 [==============================] - 1333s 4s/step - loss: 2.9129 - accuracy: 0.6892 - mean_absolute_error: 7.5299 - mean_squared_error: 239.0847 - hinge: 2.8979 - binary_crossentropy: 4.2900 - val_loss: 0.5417 - val_accuracy: 0.8493 - val_mean_absolute_error: 3.5775 - val_mean_squared_error: 19.1797 - val_hinge: 0.5322 - val_binary_crossentropy: 1.7980\n",
            "Epoch 2/20\n",
            "300/300 [==============================] - 34s 115ms/step - loss: 0.4231 - accuracy: 0.8666 - mean_absolute_error: 4.0835 - mean_squared_error: 25.4866 - hinge: 0.4142 - binary_crossentropy: 1.6564 - val_loss: 0.2949 - val_accuracy: 0.8800 - val_mean_absolute_error: 4.3869 - val_mean_squared_error: 30.4379 - val_hinge: 0.2875 - val_binary_crossentropy: 1.4615\n",
            "Epoch 3/20\n",
            "300/300 [==============================] - 34s 115ms/step - loss: 0.3076 - accuracy: 0.8936 - mean_absolute_error: 4.7361 - mean_squared_error: 34.6514 - hinge: 0.3005 - binary_crossentropy: 1.2707 - val_loss: 0.2948 - val_accuracy: 0.9229 - val_mean_absolute_error: 5.2497 - val_mean_squared_error: 37.8107 - val_hinge: 0.2883 - val_binary_crossentropy: 0.8966\n",
            "Epoch 4/20\n",
            "300/300 [==============================] - 34s 114ms/step - loss: 0.2444 - accuracy: 0.9255 - mean_absolute_error: 5.4415 - mean_squared_error: 42.5113 - hinge: 0.2381 - binary_crossentropy: 0.8952 - val_loss: 0.4382 - val_accuracy: 0.9014 - val_mean_absolute_error: 5.4593 - val_mean_squared_error: 42.3016 - val_hinge: 0.4324 - val_binary_crossentropy: 1.2794\n",
            "Epoch 5/20\n",
            "300/300 [==============================] - 34s 114ms/step - loss: 0.1854 - accuracy: 0.9339 - mean_absolute_error: 5.6843 - mean_squared_error: 45.4095 - hinge: 0.1796 - binary_crossentropy: 0.8319 - val_loss: 0.7685 - val_accuracy: 0.8350 - val_mean_absolute_error: 6.1308 - val_mean_squared_error: 53.6074 - val_hinge: 0.7630 - val_binary_crossentropy: 2.2208\n",
            "Epoch 6/20\n",
            "300/300 [==============================] - 34s 114ms/step - loss: 0.4602 - accuracy: 0.8966 - mean_absolute_error: 5.8681 - mean_squared_error: 50.9336 - hinge: 0.4548 - binary_crossentropy: 1.3429 - val_loss: 0.2232 - val_accuracy: 0.9471 - val_mean_absolute_error: 4.5038 - val_mean_squared_error: 27.3008 - val_hinge: 0.2181 - val_binary_crossentropy: 0.6868\n",
            "Epoch 7/20\n",
            "300/300 [==============================] - 34s 114ms/step - loss: 0.1123 - accuracy: 0.9620 - mean_absolute_error: 5.0295 - mean_squared_error: 34.0027 - hinge: 0.1073 - binary_crossentropy: 0.4825 - val_loss: 0.1356 - val_accuracy: 0.9500 - val_mean_absolute_error: 4.1792 - val_mean_squared_error: 24.6275 - val_hinge: 0.1308 - val_binary_crossentropy: 0.6744\n",
            "Epoch 8/20\n",
            "300/300 [==============================] - 34s 113ms/step - loss: 0.0983 - accuracy: 0.9653 - mean_absolute_error: 4.5473 - mean_squared_error: 27.3667 - hinge: 0.0936 - binary_crossentropy: 0.4453 - val_loss: 0.4250 - val_accuracy: 0.8457 - val_mean_absolute_error: 6.0518 - val_mean_squared_error: 55.1928 - val_hinge: 0.4205 - val_binary_crossentropy: 2.0456\n",
            "Epoch 9/20\n",
            "300/300 [==============================] - 34s 114ms/step - loss: 0.1471 - accuracy: 0.9492 - mean_absolute_error: 5.4145 - mean_squared_error: 39.1843 - hinge: 0.1427 - binary_crossentropy: 0.6397 - val_loss: 0.1549 - val_accuracy: 0.9364 - val_mean_absolute_error: 5.1901 - val_mean_squared_error: 38.7652 - val_hinge: 0.1508 - val_binary_crossentropy: 0.7766\n",
            "Epoch 10/20\n",
            "300/300 [==============================] - 34s 113ms/step - loss: 0.0871 - accuracy: 0.9702 - mean_absolute_error: 5.2036 - mean_squared_error: 35.5784 - hinge: 0.0830 - binary_crossentropy: 0.3527 - val_loss: 0.3878 - val_accuracy: 0.8950 - val_mean_absolute_error: 3.1156 - val_mean_squared_error: 13.6446 - val_hinge: 0.3840 - val_binary_crossentropy: 1.1963\n",
            "Epoch 11/20\n",
            "300/300 [==============================] - 34s 113ms/step - loss: 0.1024 - accuracy: 0.9650 - mean_absolute_error: 4.6688 - mean_squared_error: 29.1239 - hinge: 0.0987 - binary_crossentropy: 0.3786 - val_loss: 0.1235 - val_accuracy: 0.9657 - val_mean_absolute_error: 4.2482 - val_mean_squared_error: 22.8450 - val_hinge: 0.1201 - val_binary_crossentropy: 0.4074\n",
            "Epoch 12/20\n",
            "300/300 [==============================] - 34s 113ms/step - loss: 0.0706 - accuracy: 0.9724 - mean_absolute_error: 4.5094 - mean_squared_error: 26.3790 - hinge: 0.0673 - binary_crossentropy: 0.2713 - val_loss: 0.1565 - val_accuracy: 0.9614 - val_mean_absolute_error: 4.4695 - val_mean_squared_error: 29.2041 - val_hinge: 0.1535 - val_binary_crossentropy: 0.4752\n",
            "Epoch 13/20\n",
            "300/300 [==============================] - 34s 112ms/step - loss: 0.0485 - accuracy: 0.9826 - mean_absolute_error: 4.7743 - mean_squared_error: 29.5602 - hinge: 0.0456 - binary_crossentropy: 0.2132 - val_loss: 0.4129 - val_accuracy: 0.8957 - val_mean_absolute_error: 4.5851 - val_mean_squared_error: 28.3353 - val_hinge: 0.4103 - val_binary_crossentropy: 1.3154\n",
            "Epoch 14/20\n",
            "300/300 [==============================] - 34s 112ms/step - loss: 0.1038 - accuracy: 0.9653 - mean_absolute_error: 4.5873 - mean_squared_error: 27.9313 - hinge: 0.1013 - binary_crossentropy: 0.3975 - val_loss: 0.2037 - val_accuracy: 0.9500 - val_mean_absolute_error: 4.6422 - val_mean_squared_error: 27.3571 - val_hinge: 0.2015 - val_binary_crossentropy: 0.6022\n",
            "Epoch 15/20\n",
            "300/300 [==============================] - 34s 113ms/step - loss: 0.0335 - accuracy: 0.9883 - mean_absolute_error: 4.9313 - mean_squared_error: 31.5727 - hinge: 0.0314 - binary_crossentropy: 0.1374 - val_loss: 0.1689 - val_accuracy: 0.9586 - val_mean_absolute_error: 4.5080 - val_mean_squared_error: 25.8555 - val_hinge: 0.1670 - val_binary_crossentropy: 0.5016\n",
            "Epoch 16/20\n",
            "300/300 [==============================] - 34s 114ms/step - loss: 0.0323 - accuracy: 0.9848 - mean_absolute_error: 4.6438 - mean_squared_error: 27.2242 - hinge: 0.0304 - binary_crossentropy: 0.1760 - val_loss: 0.1203 - val_accuracy: 0.9700 - val_mean_absolute_error: 4.8806 - val_mean_squared_error: 30.3190 - val_hinge: 0.1187 - val_binary_crossentropy: 0.3538\n",
            "Epoch 17/20\n",
            "300/300 [==============================] - 34s 113ms/step - loss: 0.0408 - accuracy: 0.9847 - mean_absolute_error: 4.9642 - mean_squared_error: 31.7445 - hinge: 0.0392 - binary_crossentropy: 0.1744 - val_loss: 0.1219 - val_accuracy: 0.9586 - val_mean_absolute_error: 3.3371 - val_mean_squared_error: 16.2857 - val_hinge: 0.1206 - val_binary_crossentropy: 0.4534\n",
            "Epoch 18/20\n",
            "300/300 [==============================] - 34s 113ms/step - loss: 0.1057 - accuracy: 0.9615 - mean_absolute_error: 4.6880 - mean_squared_error: 30.5137 - hinge: 0.1045 - binary_crossentropy: 0.4889 - val_loss: 0.3367 - val_accuracy: 0.8364 - val_mean_absolute_error: 5.0494 - val_mean_squared_error: 40.2633 - val_hinge: 0.3356 - val_binary_crossentropy: 2.0055\n",
            "Epoch 19/20\n",
            "300/300 [==============================] - 34s 113ms/step - loss: 0.0499 - accuracy: 0.9812 - mean_absolute_error: 5.1645 - mean_squared_error: 34.7641 - hinge: 0.0489 - binary_crossentropy: 0.2033 - val_loss: 0.2977 - val_accuracy: 0.9286 - val_mean_absolute_error: 4.9563 - val_mean_squared_error: 31.7091 - val_hinge: 0.2969 - val_binary_crossentropy: 0.9152\n",
            "Epoch 20/20\n",
            "300/300 [==============================] - 34s 113ms/step - loss: 0.0383 - accuracy: 0.9838 - mean_absolute_error: 4.8764 - mean_squared_error: 30.4884 - hinge: 0.0375 - binary_crossentropy: 0.1814 - val_loss: 0.1629 - val_accuracy: 0.9264 - val_mean_absolute_error: 4.9040 - val_mean_squared_error: 34.9029 - val_hinge: 0.1622 - val_binary_crossentropy: 0.9404\n"
          ],
          "name": "stdout"
        }
      ]
    }
  ]
}